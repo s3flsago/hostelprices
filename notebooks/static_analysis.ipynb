{
 "cells": [
  {
   "cell_type": "code",
   "execution_count": 1,
   "id": "045dcc86",
   "metadata": {},
   "outputs": [],
   "source": [
    "import sys\n",
    "import os\n",
    "import logging\n",
    "\n",
    "msg_format = \"%(asctime)s|%(levelname)s|%(filename)s:%(lineno)d| %(message)s\"\n",
    "date_format = \"%d-%b-%y %H:%M:%S\"\n",
    "logging.basicConfig(level=logging.INFO, format=msg_format, datefmt=date_format, stream=sys.stdout)\n",
    "\n",
    "pwd = os.getcwd()\n",
    "module_path = f\"{pwd}\\..\\src\"\n",
    "sys.path.insert(0, module_path)\n",
    "\n",
    "from datetime import datetime, timedelta\n",
    "import seaborn as sns\n",
    "import matplotlib.pyplot as plt\n",
    "\n",
    "from hostelprices.load_data import LoadData\n",
    "\n",
    "%load_ext autoreload\n",
    "%autoreload 2"
   ]
  },
  {
   "cell_type": "code",
   "execution_count": 2,
   "id": "4759a684",
   "metadata": {},
   "outputs": [],
   "source": [
    "city_list = ['Lisbon', 'Seville']\n",
    "date_from_list = [datetime(2022, 11, 13), datetime(2023, 2, 1)]\n",
    "duration_list = [2, 5]\n",
    "max_pages = 1"
   ]
  },
  {
   "cell_type": "code",
   "execution_count": 3,
   "id": "3b2f964c",
   "metadata": {},
   "outputs": [
    {
     "name": "stdout",
     "output_type": "stream",
     "text": [
      "16-Oct-22 09:14:25|INFO|load_data.py:144| https://www.hostelworld.com/s?q=Lisbon,%20Portugal&country=Portugal&city=Lisbon&type=city&id=725&from=2022-10-13&to=2022-10-15&guests=1&page=1\n",
      "16-Oct-22 09:14:25|INFO|logger.py:11| ====== WebDriver manager ======\n",
      "16-Oct-22 09:14:26|INFO|logger.py:11| Get LATEST geckodriver version for 105.0 firefox\n"
     ]
    },
    {
     "name": "stderr",
     "output_type": "stream",
     "text": [
      "[WDM] - Downloading: 19.0kB [00:00, 19.5MB/s]                   \n"
     ]
    },
    {
     "name": "stdout",
     "output_type": "stream",
     "text": [
      "16-Oct-22 09:14:29|INFO|logger.py:11| Driver [C:\\Users\\fsgl1\\.wdm\\drivers\\geckodriver\\win64\\0.32\\geckodriver.exe] found in cache\n",
      "16-Oct-22 09:14:42|INFO|load_data.py:144| https://www.hostelworld.com/s?q=Lisbon,%20Portugal&country=Portugal&city=Lisbon&type=city&id=725&from=2022-10-13&to=2022-10-18&guests=1&page=1\n",
      "16-Oct-22 09:14:42|INFO|logger.py:11| ====== WebDriver manager ======\n",
      "16-Oct-22 09:14:44|INFO|logger.py:11| Get LATEST geckodriver version for 105.0 firefox\n"
     ]
    },
    {
     "name": "stderr",
     "output_type": "stream",
     "text": [
      "[WDM] - Downloading: 19.0kB [00:00, 6.36MB/s]                   \n"
     ]
    },
    {
     "name": "stdout",
     "output_type": "stream",
     "text": [
      "16-Oct-22 09:14:46|INFO|logger.py:11| Driver [C:\\Users\\fsgl1\\.wdm\\drivers\\geckodriver\\win64\\0.32\\geckodriver.exe] found in cache\n",
      "16-Oct-22 09:14:59|INFO|load_data.py:144| https://www.hostelworld.com/s?q=Lisbon,%20Portugal&country=Portugal&city=Lisbon&type=city&id=725&from=2023-2-1&to=2023-2-3&guests=1&page=1\n",
      "16-Oct-22 09:14:59|INFO|logger.py:11| ====== WebDriver manager ======\n",
      "16-Oct-22 09:15:01|INFO|logger.py:11| Get LATEST geckodriver version for 105.0 firefox\n"
     ]
    },
    {
     "name": "stderr",
     "output_type": "stream",
     "text": [
      "[WDM] - Downloading: 19.0kB [00:00, 2.16MB/s]                   \n"
     ]
    },
    {
     "name": "stdout",
     "output_type": "stream",
     "text": [
      "16-Oct-22 09:15:03|INFO|logger.py:11| Driver [C:\\Users\\fsgl1\\.wdm\\drivers\\geckodriver\\win64\\0.32\\geckodriver.exe] found in cache\n",
      "16-Oct-22 09:15:18|INFO|load_data.py:144| https://www.hostelworld.com/s?q=Lisbon,%20Portugal&country=Portugal&city=Lisbon&type=city&id=725&from=2023-2-1&to=2023-2-6&guests=1&page=1\n",
      "16-Oct-22 09:15:18|INFO|logger.py:11| ====== WebDriver manager ======\n",
      "16-Oct-22 09:15:20|INFO|logger.py:11| Get LATEST geckodriver version for 105.0 firefox\n"
     ]
    },
    {
     "name": "stderr",
     "output_type": "stream",
     "text": [
      "[WDM] - Downloading: 19.0kB [00:00, 6.57MB/s]                   \n"
     ]
    },
    {
     "name": "stdout",
     "output_type": "stream",
     "text": [
      "16-Oct-22 09:15:22|INFO|logger.py:11| Driver [C:\\Users\\fsgl1\\.wdm\\drivers\\geckodriver\\win64\\0.32\\geckodriver.exe] found in cache\n",
      "16-Oct-22 09:15:36|INFO|load_data.py:144| https://www.hostelworld.com/s?q=Seville,%20Spain&country=Spain&city=Seville&type=city&id=1565&from=2022-10-13&to=2022-10-15&guests=1&page=1\n",
      "16-Oct-22 09:15:36|INFO|logger.py:11| ====== WebDriver manager ======\n",
      "16-Oct-22 09:15:37|INFO|logger.py:11| Get LATEST geckodriver version for 105.0 firefox\n"
     ]
    },
    {
     "name": "stderr",
     "output_type": "stream",
     "text": [
      "[WDM] - Downloading: 19.0kB [00:00, 3.91MB/s]                   \n"
     ]
    },
    {
     "name": "stdout",
     "output_type": "stream",
     "text": [
      "16-Oct-22 09:15:39|INFO|logger.py:11| Driver [C:\\Users\\fsgl1\\.wdm\\drivers\\geckodriver\\win64\\0.32\\geckodriver.exe] found in cache\n",
      "16-Oct-22 09:15:52|INFO|load_data.py:144| https://www.hostelworld.com/s?q=Seville,%20Spain&country=Spain&city=Seville&type=city&id=1565&from=2022-10-13&to=2022-10-18&guests=1&page=1\n",
      "16-Oct-22 09:15:52|INFO|logger.py:11| ====== WebDriver manager ======\n",
      "16-Oct-22 09:15:54|INFO|logger.py:11| Get LATEST geckodriver version for 105.0 firefox\n",
      "16-Oct-22 09:15:56|INFO|logger.py:11| Driver [C:\\Users\\fsgl1\\.wdm\\drivers\\geckodriver\\win64\\0.32\\geckodriver.exe] found in cache\n",
      "16-Oct-22 09:16:09|INFO|load_data.py:144| https://www.hostelworld.com/s?q=Seville,%20Spain&country=Spain&city=Seville&type=city&id=1565&from=2023-2-1&to=2023-2-3&guests=1&page=1\n",
      "16-Oct-22 09:16:09|INFO|logger.py:11| ====== WebDriver manager ======\n",
      "16-Oct-22 09:16:10|INFO|logger.py:11| Get LATEST geckodriver version for 105.0 firefox\n"
     ]
    },
    {
     "name": "stderr",
     "output_type": "stream",
     "text": [
      "[WDM] - Downloading: 19.0kB [00:00, 6.51MB/s]                   \n"
     ]
    },
    {
     "name": "stdout",
     "output_type": "stream",
     "text": [
      "16-Oct-22 09:16:12|INFO|logger.py:11| Driver [C:\\Users\\fsgl1\\.wdm\\drivers\\geckodriver\\win64\\0.32\\geckodriver.exe] found in cache\n",
      "16-Oct-22 09:16:28|INFO|load_data.py:144| https://www.hostelworld.com/s?q=Seville,%20Spain&country=Spain&city=Seville&type=city&id=1565&from=2023-2-1&to=2023-2-6&guests=1&page=1\n",
      "16-Oct-22 09:16:28|INFO|logger.py:11| ====== WebDriver manager ======\n",
      "16-Oct-22 09:16:30|INFO|logger.py:11| Get LATEST geckodriver version for 105.0 firefox\n"
     ]
    },
    {
     "name": "stderr",
     "output_type": "stream",
     "text": [
      "[WDM] - Downloading: 19.0kB [00:00, 3.67MB/s]                   \n"
     ]
    },
    {
     "name": "stdout",
     "output_type": "stream",
     "text": [
      "16-Oct-22 09:16:32|INFO|logger.py:11| Driver [C:\\Users\\fsgl1\\.wdm\\drivers\\geckodriver\\win64\\0.32\\geckodriver.exe] found in cache\n"
     ]
    }
   ],
   "source": [
    "df_all = LoadData.loop(\n",
    "    city_list=city_list, date_from_list=date_from_list, duration_list=duration_list, \n",
    "    max_pages=max_pages\n",
    "    )"
   ]
  },
  {
   "cell_type": "code",
   "execution_count": 4,
   "id": "a99de8ae",
   "metadata": {},
   "outputs": [],
   "source": [
    "len(df_all)\n",
    "df_all = df_all[(df_all[\"price (EUR)\"]<100) & (df_all[\"duration (days)\"]==2)]"
   ]
  },
  {
   "cell_type": "code",
   "execution_count": 5,
   "id": "7787f23f",
   "metadata": {},
   "outputs": [
    {
     "data": {
      "image/png": "[encoded data removed]",
      "text/plain": [
       "<Figure size 789x360 with 2 Axes>"
      ]
     },
     "metadata": {
      "needs_background": "light"
     },
     "output_type": "display_data"
    }
   ],
   "source": [
    "sns.relplot(\n",
    "    data=df_all,    \n",
    "    x='price (EUR)',\n",
    "    y='rating',\n",
    "    col='date_from',\n",
    "    hue='city'\n",
    "    )\n",
    "plt.show()"
   ]
  },
  {
   "cell_type": "code",
   "execution_count": null,
   "id": "d2b1528c",
   "metadata": {},
   "outputs": [],
   "source": []
  }
 ],
 "metadata": {
  "jupytext": {
   "main_language": "python"
  },
  "kernelspec": {
   "display_name": "Python 3.9.13 ('py39venv')",
   "language": "python",
   "name": "python3"
  },
  "language_info": {
   "codemirror_mode": {
    "name": "ipython",
    "version": 3
   },
   "file_extension": ".py",
   "mimetype": "text/x-python",
   "name": "python",
   "nbconvert_exporter": "python",
   "pygments_lexer": "ipython3",
   "version": "3.9.13"
  },
  "vscode": {
   "interpreter": {
    "hash": "588a7288a3c1f767cb4f3433b32ea6cbbe3dc77fd72aa9718dfb9b454ded2122"
   }
  }
 },
 "nbformat": 4,
 "nbformat_minor": 5
}
