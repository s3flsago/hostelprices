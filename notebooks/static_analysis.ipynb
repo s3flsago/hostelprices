{
 "cells": [
  {
   "cell_type": "code",
   "execution_count": 8,
   "id": "045dcc86",
   "metadata": {},
   "outputs": [
    {
     "name": "stdout",
     "output_type": "stream",
     "text": [
      "The autoreload extension is already loaded. To reload it, use:\n",
      "  %reload_ext autoreload\n"
     ]
    }
   ],
   "source": [
    "import sys\n",
    "import os\n",
    "import logging\n",
    "\n",
    "msg_format = \"%(asctime)s|%(levelname)s|%(filename)s:%(lineno)d| %(message)s\"\n",
    "date_format = \"%d-%b-%y %H:%M:%S\"\n",
    "logging.basicConfig(level=logging.INFO, format=msg_format, datefmt=date_format, stream=sys.stdout)\n",
    "\n",
    "pwd = os.getcwd()\n",
    "module_path = f\"{pwd}\\..\\src\"\n",
    "sys.path.insert(0, module_path)\n",
    "\n",
    "from datetime import datetime, timedelta\n",
    "import seaborn as sns\n",
    "import matplotlib.pyplot as plt\n",
    "\n",
    "from hostelprices.load_data import LoadData\n",
    "from hostelprices.utils import Utils\n",
    "\n",
    "%load_ext autoreload\n",
    "%autoreload 2"
   ]
  },
  {
   "cell_type": "code",
   "execution_count": null,
   "id": "4c77ec73",
   "metadata": {},
   "outputs": [],
   "source": [
    "\n",
    "\n",
    "    "
   ]
  },
  {
   "cell_type": "code",
   "execution_count": 16,
   "id": "4759a684",
   "metadata": {},
   "outputs": [],
   "source": [
    "city_list = Utils.fromConfig('city_selection')\n",
    "date_from_list = Utils.fromConfig('date_selection')\n",
    "duration_list = Utils.fromConfig('duration_selection')\n",
    "max_pages = Utils.fromConfig('max_pages')"
   ]
  },
  {
   "cell_type": "code",
   "execution_count": 17,
   "id": "57314a9b",
   "metadata": {},
   "outputs": [
    {
     "data": {
      "text/plain": [
       "[datetime.date(2022, 11, 13)]"
      ]
     },
     "execution_count": 17,
     "metadata": {},
     "output_type": "execute_result"
    }
   ],
   "source": [
    "date_from_list"
   ]
  },
  {
   "cell_type": "code",
   "execution_count": 18,
   "id": "3b2f964c",
   "metadata": {},
   "outputs": [
    {
     "name": "stdout",
     "output_type": "stream",
     "text": [
      "16-Oct-22 14:56:03|INFO|load_data.py:144| https://www.hostelworld.com/s?q=Lisbon,%20Portugal&country=Portugal&city=Lisbon&type=city&id=725&from=2022-11-13&to=2022-11-15&guests=1&page=1\n",
      "16-Oct-22 14:56:03|INFO|logger.py:11| ====== WebDriver manager ======\n",
      "16-Oct-22 14:56:04|INFO|logger.py:11| Get LATEST geckodriver version for 105.0 firefox\n"
     ]
    },
    {
     "name": "stderr",
     "output_type": "stream",
     "text": [
      "[WDM] - Downloading: 19.0kB [00:00, 9.86MB/s]                   \n"
     ]
    },
    {
     "name": "stdout",
     "output_type": "stream",
     "text": [
      "16-Oct-22 14:56:07|INFO|logger.py:11| Driver [C:\\Users\\fsgl1\\.wdm\\drivers\\geckodriver\\win64\\0.32\\geckodriver.exe] found in cache\n"
     ]
    }
   ],
   "source": [
    "df_all = LoadData.loop(\n",
    "    city_list=city_list, date_from_list=date_from_list, duration_list=duration_list, \n",
    "    max_pages=max_pages\n",
    "    )"
   ]
  },
  {
   "cell_type": "code",
   "execution_count": 19,
   "id": "a99de8ae",
   "metadata": {},
   "outputs": [],
   "source": [
    "len(df_all)\n",
    "df_all = df_all[(df_all[\"price (EUR)\"]<100) & (df_all[\"duration (days)\"]==2)]"
   ]
  },
  {
   "cell_type": "code",
   "execution_count": 20,
   "id": "7787f23f",
   "metadata": {},
   "outputs": [
    {
     "data": {
      "image/png": "[encoded data removed]",
      "text/plain": [
       "<Figure size 594.875x500 with 1 Axes>"
      ]
     },
     "metadata": {},
     "output_type": "display_data"
    }
   ],
   "source": [
    "sns.relplot(\n",
    "    data=df_all,    \n",
    "    x='price (EUR)',\n",
    "    y='rating',\n",
    "    col='date_from',\n",
    "    hue='city'\n",
    "    )\n",
    "plt.show()"
   ]
  },
  {
   "cell_type": "code",
   "execution_count": null,
   "id": "d2b1528c",
   "metadata": {},
   "outputs": [],
   "source": []
  },
  {
   "cell_type": "code",
   "execution_count": null,
   "id": "818bdf35",
   "metadata": {},
   "outputs": [],
   "source": []
  }
 ],
 "metadata": {
  "jupytext": {
   "main_language": "python"
  },
  "kernelspec": {
   "display_name": "Python 3.9.13 ('py39venv')",
   "language": "python",
   "name": "python3"
  },
  "language_info": {
   "codemirror_mode": {
    "name": "ipython",
    "version": 3
   },
   "file_extension": ".py",
   "mimetype": "text/x-python",
   "name": "python",
   "nbconvert_exporter": "python",
   "pygments_lexer": "ipython3",
   "version": "3.9.13"
  },
  "vscode": {
   "interpreter": {
    "hash": "588a7288a3c1f767cb4f3433b32ea6cbbe3dc77fd72aa9718dfb9b454ded2122"
   }
  }
 },
 "nbformat": 4,
 "nbformat_minor": 5
}
