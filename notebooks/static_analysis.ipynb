{
 "cells": [
  {
   "cell_type": "code",
   "execution_count": 1,
   "id": "045dcc86",
   "metadata": {},
   "outputs": [],
   "source": [
    "import sys\n",
    "import os\n",
    "import logging\n",
    "\n",
    "# pwd = os.getcwd()\n",
    "# module_path = f\"{pwd}\\..\\src\"\n",
    "# sys.path.insert(0, module_path)\n",
    "\n",
    "msg_format = \"%(asctime)s|%(levelname)s|%(filename)s:%(lineno)d| %(message)s\"\n",
    "date_format = \"%d-%b-%y %H:%M:%S\"\n",
    "logging.basicConfig(level=logging.ERROR, format=msg_format, datefmt=date_format, stream=sys.stdout)\n",
    "\n",
    "from datetime import datetime, timedelta\n",
    "import seaborn as sns\n",
    "\n",
    "from hostelprices.load_data import LoadData\n",
    "\n",
    "%load_ext autoreload\n",
    "%autoreload 2"
   ]
  },
  {
   "cell_type": "code",
   "execution_count": 2,
   "id": "4759a684",
   "metadata": {},
   "outputs": [],
   "source": [
    "city_list = ['Lisbon', 'Seville']\n",
    "date_from_list = [datetime(2022, 10, 13)]#, datetime(2023, 2, 1)]\n",
    "duration_list = [2]#, 5]\n",
    "max_pages = 1"
   ]
  },
  {
   "cell_type": "code",
   "execution_count": 3,
   "id": "3b2f964c",
   "metadata": {},
   "outputs": [
    {
     "name": "stderr",
     "output_type": "stream",
     "text": [
      "[WDM] - Downloading: 16.2kB [00:00, 8.25MB/s]                   \n",
      "[WDM] - Downloading: 16.2kB [00:00, 5.53MB/s]                   \n"
     ]
    }
   ],
   "source": [
    "df_all = LoadData.loop(\n",
    "    city_list=city_list, date_from_list=date_from_list, duration_list=duration_list, \n",
    "    max_pages=max_pages\n",
    "    )"
   ]
  },
  {
   "cell_type": "code",
   "execution_count": 5,
   "id": "a99de8ae",
   "metadata": {},
   "outputs": [],
   "source": [
    "len(df_all)\n",
    "df_all = df_all[df_all[\"price (EUR)\"]<100]"
   ]
  },
  {
   "cell_type": "code",
   "execution_count": 1,
   "id": "7787f23f",
   "metadata": {},
   "outputs": [
    {
     "ename": "NameError",
     "evalue": "name 'sns' is not defined",
     "output_type": "error",
     "traceback": [
      "\u001b[1;31m---------------------------------------------------------------------------\u001b[0m",
      "\u001b[1;31mNameError\u001b[0m                                 Traceback (most recent call last)",
      "\u001b[1;32mc:\\Users\\fsgl1\\Documents\\programming\\hostelprices\\notebooks\\static_analysis.ipynb Cell 5\u001b[0m in \u001b[0;36m<cell line: 1>\u001b[1;34m()\u001b[0m\n\u001b[1;32m----> <a href='vscode-notebook-cell:/c%3A/Users/fsgl1/Documents/programming/hostelprices/notebooks/static_analysis.ipynb#X20sZmlsZQ%3D%3D?line=0'>1</a>\u001b[0m sns\u001b[39m.\u001b[39mrelplot(\n\u001b[0;32m      <a href='vscode-notebook-cell:/c%3A/Users/fsgl1/Documents/programming/hostelprices/notebooks/static_analysis.ipynb#X20sZmlsZQ%3D%3D?line=1'>2</a>\u001b[0m     data\u001b[39m=\u001b[39mdf_all,    \n\u001b[0;32m      <a href='vscode-notebook-cell:/c%3A/Users/fsgl1/Documents/programming/hostelprices/notebooks/static_analysis.ipynb#X20sZmlsZQ%3D%3D?line=2'>3</a>\u001b[0m     x\u001b[39m=\u001b[39m\u001b[39m'\u001b[39m\u001b[39mprice (EUR)\u001b[39m\u001b[39m'\u001b[39m,\n\u001b[0;32m      <a href='vscode-notebook-cell:/c%3A/Users/fsgl1/Documents/programming/hostelprices/notebooks/static_analysis.ipynb#X20sZmlsZQ%3D%3D?line=3'>4</a>\u001b[0m     y\u001b[39m=\u001b[39m\u001b[39m'\u001b[39m\u001b[39mrating\u001b[39m\u001b[39m'\u001b[39m,\n\u001b[0;32m      <a href='vscode-notebook-cell:/c%3A/Users/fsgl1/Documents/programming/hostelprices/notebooks/static_analysis.ipynb#X20sZmlsZQ%3D%3D?line=4'>5</a>\u001b[0m     col\u001b[39m=\u001b[39m\u001b[39m'\u001b[39m\u001b[39mdate_from\u001b[39m\u001b[39m'\u001b[39m\n\u001b[0;32m      <a href='vscode-notebook-cell:/c%3A/Users/fsgl1/Documents/programming/hostelprices/notebooks/static_analysis.ipynb#X20sZmlsZQ%3D%3D?line=5'>6</a>\u001b[0m     )\n\u001b[0;32m      <a href='vscode-notebook-cell:/c%3A/Users/fsgl1/Documents/programming/hostelprices/notebooks/static_analysis.ipynb#X20sZmlsZQ%3D%3D?line=6'>7</a>\u001b[0m sns\u001b[39m.\u001b[39mrelplot(\n\u001b[0;32m      <a href='vscode-notebook-cell:/c%3A/Users/fsgl1/Documents/programming/hostelprices/notebooks/static_analysis.ipynb#X20sZmlsZQ%3D%3D?line=7'>8</a>\u001b[0m     data\u001b[39m=\u001b[39mdf_all,    \n\u001b[0;32m      <a href='vscode-notebook-cell:/c%3A/Users/fsgl1/Documents/programming/hostelprices/notebooks/static_analysis.ipynb#X20sZmlsZQ%3D%3D?line=8'>9</a>\u001b[0m     x\u001b[39m=\u001b[39m\u001b[39m'\u001b[39m\u001b[39mprice (EUR)\u001b[39m\u001b[39m'\u001b[39m,\n\u001b[0;32m     <a href='vscode-notebook-cell:/c%3A/Users/fsgl1/Documents/programming/hostelprices/notebooks/static_analysis.ipynb#X20sZmlsZQ%3D%3D?line=9'>10</a>\u001b[0m     y\u001b[39m=\u001b[39m\u001b[39m'\u001b[39m\u001b[39mrating\u001b[39m\u001b[39m'\u001b[39m,\n\u001b[0;32m     <a href='vscode-notebook-cell:/c%3A/Users/fsgl1/Documents/programming/hostelprices/notebooks/static_analysis.ipynb#X20sZmlsZQ%3D%3D?line=10'>11</a>\u001b[0m     col\u001b[39m=\u001b[39m\u001b[39m'\u001b[39m\u001b[39mcity\u001b[39m\u001b[39m'\u001b[39m\n\u001b[0;32m     <a href='vscode-notebook-cell:/c%3A/Users/fsgl1/Documents/programming/hostelprices/notebooks/static_analysis.ipynb#X20sZmlsZQ%3D%3D?line=11'>12</a>\u001b[0m     )\n\u001b[0;32m     <a href='vscode-notebook-cell:/c%3A/Users/fsgl1/Documents/programming/hostelprices/notebooks/static_analysis.ipynb#X20sZmlsZQ%3D%3D?line=12'>13</a>\u001b[0m sns\u001b[39m.\u001b[39mrelplot(\n\u001b[0;32m     <a href='vscode-notebook-cell:/c%3A/Users/fsgl1/Documents/programming/hostelprices/notebooks/static_analysis.ipynb#X20sZmlsZQ%3D%3D?line=13'>14</a>\u001b[0m     data\u001b[39m=\u001b[39mdf_all,    \n\u001b[0;32m     <a href='vscode-notebook-cell:/c%3A/Users/fsgl1/Documents/programming/hostelprices/notebooks/static_analysis.ipynb#X20sZmlsZQ%3D%3D?line=14'>15</a>\u001b[0m     x\u001b[39m=\u001b[39m\u001b[39m'\u001b[39m\u001b[39mprice (EUR)\u001b[39m\u001b[39m'\u001b[39m,\n\u001b[0;32m     <a href='vscode-notebook-cell:/c%3A/Users/fsgl1/Documents/programming/hostelprices/notebooks/static_analysis.ipynb#X20sZmlsZQ%3D%3D?line=15'>16</a>\u001b[0m     y\u001b[39m=\u001b[39m\u001b[39m'\u001b[39m\u001b[39mrating\u001b[39m\u001b[39m'\u001b[39m,\n\u001b[0;32m     <a href='vscode-notebook-cell:/c%3A/Users/fsgl1/Documents/programming/hostelprices/notebooks/static_analysis.ipynb#X20sZmlsZQ%3D%3D?line=16'>17</a>\u001b[0m     col\u001b[39m=\u001b[39m\u001b[39m'\u001b[39m\u001b[39mduration (days)\u001b[39m\u001b[39m'\u001b[39m\n\u001b[0;32m     <a href='vscode-notebook-cell:/c%3A/Users/fsgl1/Documents/programming/hostelprices/notebooks/static_analysis.ipynb#X20sZmlsZQ%3D%3D?line=17'>18</a>\u001b[0m     )\n",
      "\u001b[1;31mNameError\u001b[0m: name 'sns' is not defined"
     ]
    }
   ],
   "source": [
    "sns.relplot(\n",
    "    data=df_all,    \n",
    "    x='price (EUR)',\n",
    "    y='rating',\n",
    "    col='date_from'\n",
    "    )\n",
    "sns.relplot(\n",
    "    data=df_all,    \n",
    "    x='price (EUR)',\n",
    "    y='rating',\n",
    "    col='city'\n",
    "    )\n",
    "sns.relplot(\n",
    "    data=df_all,    \n",
    "    x='price (EUR)',\n",
    "    y='rating',\n",
    "    col='duration (days)'\n",
    "    )\n",
    "sns.show()"
   ]
  },
  {
   "cell_type": "code",
   "execution_count": null,
   "id": "410224ad",
   "metadata": {},
   "outputs": [],
   "source": []
  }
 ],
 "metadata": {
  "jupytext": {
   "main_language": "python"
  },
  "kernelspec": {
   "display_name": "Python 3.9.13 ('py39venv')",
   "language": "python",
   "name": "python3"
  },
  "language_info": {
   "codemirror_mode": {
    "name": "ipython",
    "version": 3
   },
   "file_extension": ".py",
   "mimetype": "text/x-python",
   "name": "python",
   "nbconvert_exporter": "python",
   "pygments_lexer": "ipython3",
   "version": "3.9.13"
  },
  "vscode": {
   "interpreter": {
    "hash": "588a7288a3c1f767cb4f3433b32ea6cbbe3dc77fd72aa9718dfb9b454ded2122"
   }
  }
 },
 "nbformat": 4,
 "nbformat_minor": 5
}
