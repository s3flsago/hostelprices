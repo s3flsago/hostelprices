{
 "cells": [
  {
   "cell_type": "code",
   "execution_count": 4,
   "id": "045dcc86",
   "metadata": {},
   "outputs": [
    {
     "name": "stdout",
     "output_type": "stream",
     "text": [
      "The autoreload extension is already loaded. To reload it, use:\n",
      "  %reload_ext autoreload\n"
     ]
    }
   ],
   "source": [
    "import sys\n",
    "import os\n",
    "import logging\n",
    "\n",
    "msg_format = \"%(asctime)s|%(levelname)s|%(filename)s:%(lineno)d| %(message)s\"\n",
    "date_format = \"%d-%b-%y %H:%M:%S\"\n",
    "logging.basicConfig(level=logging.INFO, format=msg_format, datefmt=date_format, stream=sys.stdout)\n",
    "\n",
    "pwd = os.getcwd()\n",
    "module_path = f\"{pwd}\\..\\src\"\n",
    "sys.path.insert(0, module_path)\n",
    "\n",
    "from datetime import datetime, timedelta\n",
    "import seaborn as sns\n",
    "import matplotlib.pyplot as plt\n",
    "\n",
    "from hostelprices.scrape_web import ScrapeWeb\n",
    "\n",
    "%load_ext autoreload\n",
    "%autoreload 2"
   ]
  },
  {
   "cell_type": "code",
   "execution_count": 5,
   "id": "4759a684",
   "metadata": {},
   "outputs": [],
   "source": [
    "city_list = ['Lisbon', 'Seville']\n",
    "date_from_list = [datetime(2023, 1, 5), datetime(2023, 4, 1)]\n",
    "duration_list = [2, 5]\n",
    "max_pages = 1"
   ]
  },
  {
   "cell_type": "code",
   "execution_count": 7,
   "id": "3b2f964c",
   "metadata": {},
   "outputs": [
    {
     "name": "stdout",
     "output_type": "stream",
     "text": [
      "09-Dec-22 13:50:51|ERROR|scrape_web.py:158| Lisbon, 2023-01-05 00:00:00, 2\n",
      "09-Dec-22 13:50:51|INFO|scrape_web.py:167| https://www.hostelworld.com/s?q=Lisbon,%20Portugal&country=Portugal&city=Lisbon&type=city&id=725&from=2023-1-5&to=2023-1-7&guests=1&page=1\n",
      "09-Dec-22 13:50:51|INFO|logger.py:11| ====== WebDriver manager ======\n",
      "09-Dec-22 13:50:53|INFO|logger.py:11| Get LATEST geckodriver version for 107.0 firefox\n",
      "09-Dec-22 13:50:55|INFO|logger.py:11| Driver [C:\\Users\\fsgl1\\.wdm\\drivers\\geckodriver\\win64\\0.32\\geckodriver.exe] found in cache\n",
      "09-Dec-22 13:51:13|ERROR|scrape_web.py:75| ['Free', 'Cancellation', 'Yes!', 'Lisbon', 'Hostel', '9.7', 'Superb', '(12547)Hostel-', '0.5km', 'from', 'city', 'centre', 'Follows', 'Covid-19', 'sanitation', 'guidance', 'No', 'Privates', 'Available', 'Dorms', 'From', '€32']\n",
      "09-Dec-22 13:51:13|ERROR|scrape_web.py:75| ['Free', 'Cancellation', 'Home', 'Lisbon', 'Hostel', '9.7', 'Superb', '(11354)Hostel-', '0.4km', 'from', 'city', 'centre', 'Follows', 'Covid-19', 'sanitation', 'guidance', 'No', 'Privates', 'Available', 'Dorms', 'From', '€27']\n",
      "09-Dec-22 13:51:13|ERROR|scrape_web.py:75| ['Free', 'Cancellation', 'Sant', 'Jordi', 'Hostels', 'Lisbon', '9.3', 'Superb', '(2414)Hostel-', '1.3km', 'from', 'city', 'centre', 'Follows', 'Covid-19', 'sanitation', 'guidance', 'Privates', 'Dorms', 'From', '€21']\n",
      "09-Dec-22 13:51:13|ERROR|scrape_web.py:75| ['Free', 'Cancellation', 'The', 'Independente', 'Hostel', '&', 'Suites', '9.2', 'Superb', '(1869)Hostel-', '0.5km', 'from', 'city', 'centre', 'Follows', 'Covid-19', 'sanitation', 'guidance', 'No', 'Privates', 'Available', 'Dorms', 'From', '€22']\n",
      "09-Dec-22 13:51:13|ERROR|scrape_web.py:75| ['Selling', 'out', 'fast!', 'Goodmorning', 'Solo', 'Traveller', 'Hostel', '9.7', 'Superb', '(5210)Hostel-', '0.3km', 'from', 'city', 'centre', 'Follows', 'Covid-19', 'sanitation', 'guidance', 'Privates', 'Dorms', 'From', '€26']\n",
      "09-Dec-22 13:51:13|ERROR|scrape_web.py:75| ['Free', 'Cancellation', 'Lisboa', 'Central', 'Hostel', '9.5', 'Superb', '(5843)Hostel-', '1.5km', 'from', 'city', 'centre', 'Follows', 'Covid-19', 'sanitation', 'guidance', 'Privates', 'Dorms', 'From', '€23']\n",
      "09-Dec-22 13:51:13|ERROR|scrape_web.py:75| ['Selling', 'out', 'fast!', 'Free', 'Cancellation', 'Lost', 'Inn', 'Lisbon', '9.3', 'Superb', '(5394)Hostel-', '0.8km', 'from', 'city', 'centre', 'Follows', 'Covid-19', 'sanitation', 'guidance', 'Privates', 'Dorms', 'From', '€20']\n",
      "09-Dec-22 13:51:13|ERROR|scrape_web.py:75| ['Selling', 'out', 'fast!', 'Free', 'Cancellation', 'Lisbon', 'Destination', 'Hostel', '9.0', 'Superb', '(4909)Hostel-', '0.2km', 'from', 'city', 'centre', 'Follows', 'Covid-19', 'sanitation', 'guidance', '-15%Privates', 'Dorms', 'From', '€25']\n",
      "09-Dec-22 13:51:13|ERROR|scrape_web.py:75| ['Free', 'Cancellation', 'Safestay', 'Lisboa', '8.0', 'Fabulous', '(3945)Hostel-', '0.5km', 'from', 'city', 'centre', 'Follows', 'Covid-19', 'sanitation', 'guidance', 'Privates', 'Dorms', 'From', '€18']\n",
      "09-Dec-22 13:51:13|ERROR|scrape_web.py:75| ['Free', 'Cancellation', 'We', 'Love', 'F.', 'Tourists', '9.6', 'Superb', '(4513)Hostel-', '0.2km', 'from', 'city', 'centre', 'Follows', 'Covid-19', 'sanitation', 'guidance', 'Privates', 'Dorms', 'From', '€21']\n",
      "09-Dec-22 13:51:13|ERROR|scrape_web.py:75| ['Free', 'Cancellation', 'Rodamon', 'Lisboa', 'Hostel', '9.5', 'Superb', '(426)Hostel-', '0.2km', 'from', 'city', 'centre', 'Follows', 'Covid-19', 'sanitation', 'guidance', 'Privates', 'Dorms', 'From', '€26']\n",
      "09-Dec-22 13:51:13|ERROR|scrape_web.py:75| ['Free', 'Cancellation', 'Selina', 'Secret', 'Garden', 'Lisbon', '8.7', 'Fabulous', '(445)Hostel-', '1.1km', 'from', 'city', 'centre', 'Follows', 'Covid-19', 'sanitation', 'guidance', '-10%Privates', 'Dorms', 'From', '€32']\n",
      "09-Dec-22 13:51:13|ERROR|scrape_web.py:75| ['Free', 'Cancellation', 'WOT', 'New', 'Lisbon', '8.1', 'Fabulous', '(1613)Hostel-', '0.8km', 'from', 'city', 'centre', 'Privates', 'Dorms', 'From', '€16']\n",
      "09-Dec-22 13:51:13|ERROR|scrape_web.py:75| ['Free', 'Cancellation', 'Avenue', 'Rooms', '&', 'Suites', '8.9', 'Fabulous', '(800)Hostel-', '1.4km', 'from', 'city', 'centre', 'Privates', 'Dorms', 'From', '€25']\n",
      "09-Dec-22 13:51:13|ERROR|scrape_web.py:75| ['Selling', 'out', 'fast!', 'Free', 'Cancellation', 'We', 'Hate', 'F', 'Tourists', '9.4', 'Superb', '(245)Hostel-', '1km', 'from', 'city', 'centre', 'Follows', 'Covid-19', 'sanitation', 'guidance', 'Privates', 'Dorms', 'From', '€22']\n",
      "09-Dec-22 13:51:13|ERROR|scrape_web.py:75| ['Free', 'Cancellation', 'Living', 'Lounge', 'Hostel', '9.4', 'Superb', '(7315)Hostel-', '0.3km', 'from', 'city', 'centre', 'Follows', 'Covid-19', 'sanitation', 'guidance', 'Privates', 'Dorms', 'From', '€25']\n",
      "09-Dec-22 13:51:13|ERROR|scrape_web.py:75| ['Free', 'Cancellation', 'Sunset', 'Destination', 'Hostel', '8.7', 'Fabulous', '(3572)Hostel-', '1km', 'from', 'city', 'centre', 'Follows', 'Covid-19', 'sanitation', 'guidance', '-15%Privates', 'Dorms', 'From', '€22']\n",
      "09-Dec-22 13:51:13|ERROR|scrape_web.py:75| ['Free', 'Cancellation', 'GSpot', 'Hostel', '7.8', 'Very', 'Good', '(4729)Hostel-', '0.5km', 'from', 'city', 'centre', 'Follows', 'Covid-19', 'sanitation', 'guidance', 'No', 'Privates', 'Available', 'Dorms', 'From', '€45']\n",
      "09-Dec-22 13:51:13|ERROR|scrape_web.py:75| ['Free', 'Cancellation', 'Lisbon', 'Chillout', 'Hostel', '6.4', 'Good', '(2973)Hostel-', '1.2km', 'from', 'city', 'centre', 'Follows', 'Covid-19', 'sanitation', 'guidance', '-10%Privates', 'Dorms', 'From', '€17']\n",
      "09-Dec-22 13:51:13|ERROR|scrape_web.py:75| ['Free', 'Cancellation', 'LX', 'Hostel', '9.5', 'Superb', '(163)Hostel-', '3.6km', 'from', 'city', 'centre', 'Follows', 'Covid-19', 'sanitation', 'guidance', 'No', 'Privates', 'Available', 'Dorms', 'From', '€21']\n",
      "09-Dec-22 13:51:13|ERROR|scrape_web.py:75| ['Free', 'Cancellation', 'Lookout', 'Lisbon!', 'Hostel', '9.3', 'Superb', '(1736)Hostel-', '0.5km', 'from', 'city', 'centre', 'Follows', 'Covid-19', 'sanitation', 'guidance', 'No', 'Privates', 'Available', 'Dorms', 'From', '€18']\n",
      "09-Dec-22 13:51:13|ERROR|scrape_web.py:75| ['Free', 'Cancellation', 'Be', 'Lisbon', 'Hostel', 'Intendente', '8.8', 'Fabulous', '(246)Hostel-', '0.9km', 'from', 'city', 'centre', 'Privates', 'Dorms', 'From', '€20']\n",
      "09-Dec-22 13:51:13|ERROR|scrape_web.py:75| ['Selling', 'out', 'fast!', 'Free', 'Cancellation', 'Lisbon', 'Lounge', 'Hostel', '9.3', 'Superb', '(5636)Hostel-', '0.4km', 'from', 'city', 'centre', 'Follows', 'Covid-19', 'sanitation', 'guidance', 'Privates', 'Dorms', 'From', '€25']\n",
      "09-Dec-22 13:51:13|ERROR|scrape_web.py:75| ['WOT', 'Lisbon', 'Patio', '7.8', 'Very', 'Good', '(1172)Hostel-', '2.1km', 'from', 'city', 'centre', 'Follows', 'Covid-19', 'sanitation', 'guidance', 'Privates', 'Dorms', 'From', '€13']\n",
      "09-Dec-22 13:51:13|ERROR|scrape_web.py:75| ['Free', 'Cancellation', 'Inn', 'Possible', 'Lisbon', 'Hostel', '8.8', 'Fabulous', '(1674)Hostel-', '0.3km', 'from', 'city', 'centre', 'Privates', 'Dorms', 'From', '€21']\n",
      "09-Dec-22 13:51:13|ERROR|scrape_web.py:75| ['Free', 'Cancellation', 'Ambiente', 'Hostel', '8.8', 'Fabulous', '(163)Hostel-', '1.8km', 'from', 'city', 'centre', 'Follows', 'Covid-19', 'sanitation', 'guidance', '-5%Privates', 'Dorms', 'From', '€20']\n",
      "09-Dec-22 13:51:13|ERROR|scrape_web.py:75| ['Free', 'Cancellation', 'This', 'is', 'Lisbon', 'Hostel', '9.1', 'Superb', '(1269)Hostel-', '0.5km', 'from', 'city', 'centre', 'Follows', 'Covid-19', 'sanitation', 'guidance', 'No', 'Privates', 'Available', 'Dorms', 'From', '€23']\n",
      "09-Dec-22 13:51:13|ERROR|scrape_web.py:75| ['Free', 'Cancellation', 'WOT', 'Lisbon', 'Nomad', '8.2', 'Fabulous', '(143)Hostel-', '2.2km', 'from', 'city', 'centre', 'Privates', 'Dorms', 'From', '€21']\n",
      "09-Dec-22 13:51:13|ERROR|scrape_web.py:75| ['Selling', 'out', 'fast!', 'Free', 'Cancellation', 'Rossio', 'Hostel', '8.4', 'Fabulous', '(3989)Hostel-', '0.1km', 'from', 'city', 'centre', 'Follows', 'Covid-19', 'sanitation', 'guidance', 'Privates', 'Dorms', 'From', '€23']\n",
      "09-Dec-22 13:51:13|ERROR|scrape_web.py:158| Lisbon, 2023-01-05 00:00:00, 5\n",
      "09-Dec-22 13:51:13|INFO|scrape_web.py:167| https://www.hostelworld.com/s?q=Lisbon,%20Portugal&country=Portugal&city=Lisbon&type=city&id=725&from=2023-1-5&to=2023-1-10&guests=1&page=1\n",
      "09-Dec-22 13:51:13|INFO|logger.py:11| ====== WebDriver manager ======\n",
      "09-Dec-22 13:51:16|INFO|logger.py:11| Get LATEST geckodriver version for 107.0 firefox\n"
     ]
    },
    {
     "name": "stderr",
     "output_type": "stream",
     "text": [
      "[WDM] - Downloading: 19.0kB [00:00, 6.12MB/s]                   \n"
     ]
    },
    {
     "name": "stdout",
     "output_type": "stream",
     "text": [
      "09-Dec-22 13:51:19|INFO|logger.py:11| Driver [C:\\Users\\fsgl1\\.wdm\\drivers\\geckodriver\\win64\\0.32\\geckodriver.exe] found in cache\n",
      "09-Dec-22 13:51:31|ERROR|scrape_web.py:75| ['1/', '30', 'Yes!', 'Lisbon', 'Hostel', 'Hostel', '-', '0.5km', 'from', 'city', 'centre', 'Show', 'on', 'Map', 'Free', 'WiFi', 'Follows', 'Covid-19', 'sanitation', 'guidance', 'Perfect', 'Location', 'Superb', 'Staff', 'Fantastic', 'Cleanliness', '9.7', 'Superb', '12547', 'Total', 'Reviews', '-5%', 'Free', 'Cancellation', 'No', 'Privates', 'Available', 'Dorms', 'From', '€32', '€30', 'View']\n",
      "09-Dec-22 13:51:31|ERROR|scrape_web.py:75| ['1/', '29', 'Home', 'Lisbon', 'Hostel', 'Hostel', '-', '0.4km', 'from', 'city', 'centre', 'Show', 'on', 'Map', 'Free', 'WiFi', 'Follows', 'Covid-19', 'sanitation', 'guidance', 'Perfect', 'Location', 'Superb', 'Staff', 'Fantastic', 'Cleanliness', '9.7', 'Superb', '11354', 'Total', 'Reviews', 'Free', 'Cancellation', 'No', 'Privates', 'Available', 'Dorms', 'From', '€26', 'View']\n",
      "09-Dec-22 13:51:31|ERROR|scrape_web.py:75| ['1/', '30', 'Sant', 'Jordi', 'Hostels', 'Lisbon', 'Hostel', '-', '1.3km', 'from', 'city', 'centre', 'Show', 'on', 'Map', 'Free', 'WiFi', 'Follows', 'Covid-19', 'sanitation', 'guidance', 'Perfect', 'Location', 'Superb', 'Staff', 'Fantastic', 'Cleanliness', '9.3', 'Superb', '2414', 'Total', 'Reviews', 'Free', 'Cancellation', 'Privates', 'From', '€75', 'Dorms', 'From', '€21', 'View']\n",
      "09-Dec-22 13:51:31|ERROR|scrape_web.py:75| ['1/', '28', 'The', 'Independente', 'Hostel', '&', 'Suites', 'Hostel', '-', '0.5km', 'from', 'city', 'centre', 'Show', 'on', 'Map', 'Free', 'WiFi', 'Free', 'Breakfast', 'Follows', 'Covid-19', 'sanitation', 'guidance', 'Perfect', 'Location', 'Superb', 'Staff', 'Fantastic', 'Cleanliness', '9.2', 'Superb', '1869', 'Total', 'Reviews', '-22%', 'Free', 'Cancellation', 'No', 'Privates', 'Available', 'Dorms', 'From', '€28', '€22', 'View']\n",
      "09-Dec-22 13:51:31|ERROR|scrape_web.py:75| ['1/', '24', 'Goodmorning', 'Solo', 'Traveller', 'Hostel', 'Hostel', '-', '0.3km', 'from', 'city', 'centre', 'Show', 'on', 'Map', 'Free', 'WiFi', 'Free', 'Breakfast', 'Follows', 'Covid-19', 'sanitation', 'guidance', 'Perfect', 'Location', 'Superb', 'Staff', 'Fantastic', 'Cleanliness', '9.7', 'Superb', '5210', 'Total', 'Reviews', 'No', 'Privates', 'Available', 'Dorms', 'From', '€26', 'View']\n",
      "09-Dec-22 13:51:31|ERROR|scrape_web.py:75| ['Selling', 'out', 'fast!', '1/', '30', 'Lost', 'Inn', 'Lisbon', 'Hostel', '-', '0.8km', 'from', 'city', 'centre', 'Show', 'on', 'Map', 'Free', 'WiFi', 'Follows', 'Covid-19', 'sanitation', 'guidance', 'Perfect', 'Location', 'Superb', 'Staff', 'Fantastic', 'Cleanliness', '9.3', 'Superb', '5394', 'Total', 'Reviews', 'Free', 'Cancellation', 'Privates', 'From', '€76', 'Dorms', 'From', '€19', 'View']\n",
      "09-Dec-22 13:51:31|ERROR|scrape_web.py:75| ['1/', '28', 'Lisbon', 'Destination', 'Hostel', 'Hostel', '-', '0.2km', 'from', 'city', 'centre', 'Show', 'on', 'Map', 'Free', 'WiFi', 'Follows', 'Covid-19', 'sanitation', 'guidance', 'Perfect', 'Location', 'Superb', 'Staff', 'Fantastic', 'Cleanliness', '9.0', 'Superb', '4909', 'Total', 'Reviews', '-15%', 'Free', 'Cancellation', 'No', 'Privates', 'Available', 'Dorms', 'From', '€29.61', '€25', 'View']\n",
      "09-Dec-22 13:51:31|ERROR|scrape_web.py:75| ['1/', '29', 'Safestay', 'Lisboa', 'Hostel', '-', '0.5km', 'from', 'city', 'centre', 'Show', 'on', 'Map', 'Free', 'WiFi', 'Follows', 'Covid-19', 'sanitation', 'guidance', 'Perfect', 'Location', 'Superb', 'Staff', 'Excellent', 'Cleanliness', '8.0', 'Fabulous', '3945', 'Total', 'Reviews', 'Free', 'Cancellation', 'Privates', 'From', '€54', 'Dorms', 'From', '€18', 'View']\n",
      "09-Dec-22 13:51:31|ERROR|scrape_web.py:75| ['1/', '30', 'Rodamon', 'Lisboa', 'Hostel', 'Hostel', '-', '0.2km', 'from', 'city', 'centre', 'Show', 'on', 'Map', 'Free', 'WiFi', 'Follows', 'Covid-19', 'sanitation', 'guidance', 'Perfect', 'Location', 'Superb', 'Staff', 'Fantastic', 'Cleanliness', '9.5', 'Superb', '426', 'Total', 'Reviews', 'Free', 'Cancellation', 'Privates', 'From', '€84', 'Dorms', 'From', '€27', 'View']\n",
      "09-Dec-22 13:51:31|ERROR|scrape_web.py:75| ['1/', '29', 'Selina', 'Secret', 'Garden', 'Lisbon', 'Hostel', '-', '1.1km', 'from', 'city', 'centre', 'Show', 'on', 'Map', 'Free', 'WiFi', 'Follows', 'Covid-19', 'sanitation', 'guidance', 'Perfect', 'Location', 'Superb', 'Staff', 'Fantastic', 'Cleanliness', '8.7', 'Fabulous', '445', 'Total', 'Reviews', '-15%', 'Free', 'Cancellation', 'Privates', 'From', '€93.28', '€84', 'Dorms', 'From', '€36.05', '€31', 'View']\n",
      "09-Dec-22 13:51:31|ERROR|scrape_web.py:75| ['1/', '28', 'WOT', 'New', 'Lisbon', 'Hostel', '-', '0.8km', 'from', 'city', 'centre', 'Show', 'on', 'Map', 'Free', 'WiFi', 'Free', 'Breakfast', 'Perfect', 'Location', 'Superb', 'Staff', 'Excellent', 'Cleanliness', '8.1', 'Fabulous', '1613', 'Total', 'Reviews', 'Free', 'Cancellation', 'Privates', 'From', '€58', 'Dorms', 'From', '€16', 'View']\n",
      "09-Dec-22 13:51:31|ERROR|scrape_web.py:75| ['1/', '15', 'Avenue', 'Rooms', '&', 'Suites', 'Hostel', '-', '1.4km', 'from', 'city', 'centre', 'Show', 'on', 'Map', 'Free', 'WiFi', 'Perfect', 'Location', 'Superb', 'Staff', 'Fantastic', 'Cleanliness', '8.9', 'Fabulous', '800', 'Total', 'Reviews', 'Free', 'Cancellation', 'Privates', 'From', '€57', 'Dorms', 'From', '€24', 'View']\n",
      "09-Dec-22 13:51:31|ERROR|scrape_web.py:75| ['1/', '27', 'Living', 'Lounge', 'Hostel', 'Hostel', '-', '0.3km', 'from', 'city', 'centre', 'Show', 'on', 'Map', 'Free', 'WiFi', 'Free', 'Breakfast', 'Follows', 'Covid-19', 'sanitation', 'guidance', 'Perfect', 'Location', 'Superb', 'Staff', 'Fantastic', 'Cleanliness', '9.4', 'Superb', '7315', 'Total', 'Reviews', 'Free', 'Cancellation', 'No', 'Privates', 'Available', 'Dorms', 'From', '€23', 'View']\n",
      "09-Dec-22 13:51:31|ERROR|scrape_web.py:75| ['Selling', 'out', 'fast!', '1/', '28', 'Sunset', 'Destination', 'Hostel', 'Hostel', '-', '1km', 'from', 'city', 'centre', 'Show', 'on', 'Map', 'Free', 'WiFi', 'Follows', 'Covid-19', 'sanitation', 'guidance', 'Perfect', 'Location', 'Superb', 'Staff', 'Fantastic', 'Cleanliness', '8.7', 'Fabulous', '3572', 'Total', 'Reviews', '-15%', 'Free', 'Cancellation', 'Privates', 'From', '€85.61', '€73', 'Dorms', 'From', '€26.73', '€23', 'View']\n",
      "09-Dec-22 13:51:31|ERROR|scrape_web.py:75| ['1/', '16', 'GSpot', 'Hostel', 'Hostel', '-', '0.5km', 'from', 'city', 'centre', 'Show', 'on', 'Map', 'Free', 'WiFi', 'Free', 'Breakfast', 'Follows', 'Covid-19', 'sanitation', 'guidance', 'Perfect', 'Location', 'Superb', 'Staff', 'Awesome', 'Cleanliness', '7.8', 'Very', 'Good', '4729', 'Total', 'Reviews', 'Free', 'Cancellation', 'No', 'Privates', 'Available', 'Dorms', 'From', '€45', 'View']\n",
      "09-Dec-22 13:51:31|ERROR|scrape_web.py:75| ['1/', '30', 'Lisbon', 'Chillout', 'Hostel', 'Hostel', '-', '1.2km', 'from', 'city', 'centre', 'Show', 'on', 'Map', 'Free', 'WiFi', 'Follows', 'Covid-19', 'sanitation', 'guidance', 'Wonderful', 'Location', 'Marvellous', 'Staff', '6.4', 'Good', '2973', 'Total', 'Reviews', '-10%', 'Free', 'Cancellation', 'Privates', 'From', '€60', '€54', 'Dorms', 'From', '€18.99', '€17', 'View']\n",
      "09-Dec-22 13:51:31|ERROR|scrape_web.py:75| ['1/', '30', 'LX', 'Hostel', 'Hostel', '-', '3.6km', 'from', 'city', 'centre', 'Show', 'on', 'Map', 'Free', 'WiFi', 'Free', 'Breakfast', 'Follows', 'Covid-19', 'sanitation', 'guidance', 'Perfect', 'Location', 'Superb', 'Staff', 'Fantastic', 'Cleanliness', '9.5', 'Superb', '163', 'Total', 'Reviews', 'Free', 'Cancellation', 'No', 'Privates', 'Available', 'Dorms', 'From', '€21', 'View']\n",
      "09-Dec-22 13:51:31|ERROR|scrape_web.py:75| ['1/', '23', 'Lookout', 'Lisbon!', 'Hostel', 'Hostel', '-', '0.5km', 'from', 'city', 'centre', 'Show', 'on', 'Map', 'Free', 'WiFi', 'Follows', 'Covid-19', 'sanitation', 'guidance', 'Perfect', 'Location', 'Superb', 'Staff', 'Fantastic', 'Cleanliness', '9.3', 'Superb', '1736', 'Total', 'Reviews', 'Free', 'Cancellation', 'No', 'Privates', 'Available', 'Dorms', 'From', '€18', 'View']\n",
      "09-Dec-22 13:51:31|ERROR|scrape_web.py:75| ['1/', '26', 'Be', 'Lisbon', 'Hostel', 'Intendente', 'Hostel', '-', '0.9km', 'from', 'city', 'centre', 'Show', 'on', 'Map', 'Free', 'WiFi', 'Perfect', 'Location', 'Superb', 'Staff', 'Fantastic', 'Cleanliness', '8.8', 'Fabulous', '246', 'Total', 'Reviews', '-5%', 'Free', 'Cancellation', 'Privates', 'From', '€61.01', '€58', 'Dorms', 'From', '€21', '€20', 'View']\n",
      "09-Dec-22 13:51:31|ERROR|scrape_web.py:75| ['Selling', 'out', 'fast!', '1/', '22', 'Lisbon', 'Lounge', 'Hostel', 'Hostel', '-', '0.4km', 'from', 'city', 'centre', 'Show', 'on', 'Map', 'Free', 'WiFi', 'Free', 'Breakfast', 'Follows', 'Covid-19', 'sanitation', 'guidance', 'Perfect', 'Location', 'Superb', 'Staff', 'Fantastic', 'Cleanliness', '9.3', 'Superb', '5636', 'Total', 'Reviews', 'Free', 'Cancellation', 'Privates', 'From', '€67', 'Dorms', 'From', '€23', 'View']\n",
      "09-Dec-22 13:51:31|ERROR|scrape_web.py:75| ['Selling', 'out', 'fast!', '1/', '27', 'WOT', 'Lisbon', 'Patio', 'Hostel', '-', '2.1km', 'from', 'city', 'centre', 'Show', 'on', 'Map', 'Free', 'WiFi', 'Free', 'Breakfast', 'Follows', 'Covid-19', 'sanitation', 'guidance', 'Wonderful', 'Location', 'Superb', 'Staff', 'Excellent', 'Cleanliness', '7.8', 'Very', 'Good', '1172', 'Total', 'Reviews', 'Privates', 'From', '€111', 'Dorms', 'From', '€15', 'View']\n",
      "09-Dec-22 13:51:31|ERROR|scrape_web.py:75| ['1/', '30', 'Inn', 'Possible', 'Lisbon', 'Hostel', 'Hostel', '-', '0.3km', 'from', 'city', 'centre', 'Show', 'on', 'Map', 'Free', 'WiFi', 'Free', 'Breakfast', 'Perfect', 'Location', 'Superb', 'Staff', 'Fantastic', 'Cleanliness', '8.8', 'Fabulous', '1674', 'Total', 'Reviews', 'Free', 'Cancellation', 'No', 'Privates', 'Available', 'Dorms', 'From', '€20', 'View']\n",
      "09-Dec-22 13:51:31|ERROR|scrape_web.py:75| ['1/', '25', 'Ambiente', 'Hostel', 'Hostel', '-', '1.8km', 'from', 'city', 'centre', 'Show', 'on', 'Map', 'Free', 'WiFi', 'Follows', 'Covid-19', 'sanitation', 'guidance', 'Perfect', 'Location', 'Superb', 'Staff', 'Fantastic', 'Cleanliness', '8.8', 'Fabulous', '163', 'Total', 'Reviews', '-15%', 'Free', 'Cancellation', 'Privates', 'From', '€60.78', '€52', 'Dorms', 'From', '€21.51', '€18', 'View']\n",
      "09-Dec-22 13:51:31|ERROR|scrape_web.py:75| ['1/', '28', 'This', 'is', 'Lisbon', 'Hostel', 'Hostel', '-', '0.5km', 'from', 'city', 'centre', 'Show', 'on', 'Map', 'Free', 'WiFi', 'Follows', 'Covid-19', 'sanitation', 'guidance', 'Perfect', 'Location', 'Superb', 'Staff', 'Fantastic', 'Cleanliness', '9.1', 'Superb', '1269', 'Total', 'Reviews', 'Free', 'Cancellation', 'No', 'Privates', 'Available', 'Dorms', 'From', '€23', 'View']\n",
      "09-Dec-22 13:51:31|ERROR|scrape_web.py:75| ['1/', '28', 'WOT', 'Lisbon', 'Nomad', 'Hostel', '-', '2.2km', 'from', 'city', 'centre', 'Show', 'on', 'Map', 'Free', 'WiFi', 'Free', 'Breakfast', 'Perfect', 'Location', 'Superb', 'Staff', 'Excellent', 'Cleanliness', '8.2', 'Fabulous', '143', 'Total', 'Reviews', 'Free', 'Cancellation', 'Privates', 'From', '€57', 'Dorms', 'From', '€21', 'View']\n",
      "09-Dec-22 13:51:31|ERROR|scrape_web.py:75| ['Selling', 'out', 'fast!', '1/', '23', 'Rossio', 'Hostel', 'Hostel', '-', '0.1km', 'from', 'city', 'centre', 'Show', 'on', 'Map', 'Free', 'WiFi', 'Free', 'Breakfast', 'Follows', 'Covid-19', 'sanitation', 'guidance', 'Perfect', 'Location', 'Superb', 'Staff', 'Fantastic', 'Cleanliness', '8.4', 'Fabulous', '3989', 'Total', 'Reviews', '-10%', 'Free', 'Cancellation', 'No', 'Privates', 'Available', 'Dorms', 'From', '€24.7', '€22', 'View']\n",
      "09-Dec-22 13:51:31|ERROR|scrape_web.py:75| ['1/', '30', 'Green', 'Heart', 'Hostel', 'Hostel', '-', '1.2km', 'from', 'city', 'centre', 'Show', 'on', 'Map', 'Free', 'WiFi', 'Follows', 'Covid-19', 'sanitation', 'guidance', 'Perfect', 'Location', 'Superb', 'Staff', 'Excellent', 'Cleanliness', '8.0', 'Fabulous', '804', 'Total', 'Reviews', 'Free', 'Cancellation', 'No', 'Privates', 'Available', 'Dorms', 'From', '€20', 'View']\n",
      "09-Dec-22 13:51:31|ERROR|scrape_web.py:75| ['1/', '30', 'HI', 'Lisboa', '-', 'Pousada', 'de', 'Juventude', 'Hostel', '-', '2km', 'from', 'city', 'centre', 'Show', 'on', 'Map', 'Free', 'WiFi', 'Free', 'Breakfast', 'Follows', 'Covid-19', 'sanitation', 'guidance', 'Wonderful', 'Location', 'Marvellous', 'Staff', '6.4', 'Good', '477', 'Total', 'Reviews', 'Free', 'Cancellation', 'Privates', 'From', '€56', 'Dorms', 'From', '€18', 'View']\n",
      "09-Dec-22 13:51:31|ERROR|scrape_web.py:75| ['Selling', 'out', 'fast!', '1/', '24', 'City', 'Guesthouse', 'Alfama', 'Hostel', '-', '0.8km', 'from', 'city', 'centre', 'Show', 'on', 'Map', 'Free', 'WiFi', 'Follows', 'Covid-19', 'sanitation', 'guidance', 'Perfect', 'Location', 'Marvellous', 'Staff', 'Awesome', 'Cleanliness', '8.1', 'Fabulous', '199', 'Total', 'Reviews', '-10%', 'Free', 'Cancellation', 'Privates', 'From', '€55.53', '€50', 'Dorms', 'From', '€14', 'View']\n",
      "09-Dec-22 13:51:31|ERROR|scrape_web.py:158| Lisbon, 2023-04-01 00:00:00, 2\n",
      "09-Dec-22 13:51:31|INFO|scrape_web.py:167| https://www.hostelworld.com/s?q=Lisbon,%20Portugal&country=Portugal&city=Lisbon&type=city&id=725&from=2023-4-1&to=2023-4-3&guests=1&page=1\n",
      "09-Dec-22 13:51:31|INFO|logger.py:11| ====== WebDriver manager ======\n",
      "09-Dec-22 13:51:34|INFO|logger.py:11| Get LATEST geckodriver version for 107.0 firefox\n"
     ]
    },
    {
     "name": "stderr",
     "output_type": "stream",
     "text": [
      "[WDM] - Downloading: 19.0kB [00:00, 6.53MB/s]                   \n"
     ]
    },
    {
     "name": "stdout",
     "output_type": "stream",
     "text": [
      "09-Dec-22 13:51:35|INFO|logger.py:11| Driver [C:\\Users\\fsgl1\\.wdm\\drivers\\geckodriver\\win64\\0.32\\geckodriver.exe] found in cache\n",
      "09-Dec-22 13:51:52|ERROR|scrape_web.py:75| ['1/', '30', 'Sant', 'Jordi', 'Hostels', 'Lisbon', 'Hostel', '-', '1.3km', 'from', 'city', 'centre', 'Show', 'on', 'Map', 'Free', 'WiFi', 'Follows', 'Covid-19', 'sanitation', 'guidance', 'Perfect', 'Location', 'Superb', 'Staff', 'Fantastic', 'Cleanliness', '9.3', 'Superb', '2414', 'Total', 'Reviews', '-10%', 'Free', 'Cancellation', 'Privates', 'From', '€88.88', '€80', 'Dorms', 'From', '€27.94', '€25', 'View']\n",
      "09-Dec-22 13:51:52|ERROR|scrape_web.py:75| ['1/', '28', 'The', 'Independente', 'Hostel', '&', 'Suites', 'Hostel', '-', '0.5km', 'from', 'city', 'centre', 'Show', 'on', 'Map', 'Free', 'WiFi', 'Free', 'Breakfast', 'Follows', 'Covid-19', 'sanitation', 'guidance', 'Perfect', 'Location', 'Superb', 'Staff', 'Fantastic', 'Cleanliness', '9.2', 'Superb', '1869', 'Total', 'Reviews', '-12%', 'Free', 'Cancellation', 'Privates', 'From', '€153.5', '€135', 'Dorms', 'From', '€25.5', '€22', 'View']\n",
      "09-Dec-22 13:51:52|ERROR|scrape_web.py:75| ['Selling', 'out', 'fast!', '1/', '24', 'Goodmorning', 'Solo', 'Traveller', 'Hostel', 'Hostel', '-', '0.3km', 'from', 'city', 'centre', 'Show', 'on', 'Map', 'Free', 'WiFi', 'Free', 'Breakfast', 'Follows', 'Covid-19', 'sanitation', 'guidance', 'Perfect', 'Location', 'Superb', 'Staff', 'Fantastic', 'Cleanliness', '9.7', 'Superb', '5210', 'Total', 'Reviews', 'Privates', 'From', '€1060', 'Dorms', 'From', '€38', 'View']\n",
      "09-Dec-22 13:51:52|ERROR|scrape_web.py:75| ['1/', '30', 'Lisboa', 'Central', 'Hostel', 'Hostel', '-', '1.5km', 'from', 'city', 'centre', 'Show', 'on', 'Map', 'Free', 'WiFi', 'Free', 'Breakfast', 'Follows', 'Covid-19', 'sanitation', 'guidance', 'Perfect', 'Location', 'Superb', 'Staff', 'Fantastic', 'Cleanliness', '9.5', 'Superb', '5843', 'Total', 'Reviews', 'Free', 'Cancellation', 'Privates', 'From', '€95', 'Dorms', 'From', '€26', 'View']\n",
      "09-Dec-22 13:51:52|ERROR|scrape_web.py:75| ['Selling', 'out', 'fast!', '1/', '30', 'Lost', 'Inn', 'Lisbon', 'Hostel', '-', '0.8km', 'from', 'city', 'centre', 'Show', 'on', 'Map', 'Free', 'WiFi', 'Follows', 'Covid-19', 'sanitation', 'guidance', 'Perfect', 'Location', 'Superb', 'Staff', 'Fantastic', 'Cleanliness', '9.3', 'Superb', '5394', 'Total', 'Reviews', 'Free', 'Cancellation', 'Privates', 'From', '€83', 'Dorms', 'From', '€21', 'View']\n",
      "09-Dec-22 13:51:52|ERROR|scrape_web.py:75| ['1/', '28', 'Lisbon', 'Destination', 'Hostel', 'Hostel', '-', '0.2km', 'from', 'city', 'centre', 'Show', 'on', 'Map', 'Free', 'WiFi', 'Follows', 'Covid-19', 'sanitation', 'guidance', 'Perfect', 'Location', 'Superb', 'Staff', 'Fantastic', 'Cleanliness', '9.0', 'Superb', '4909', 'Total', 'Reviews', '-15%', 'Free', 'Cancellation', 'Privates', 'From', '€76.08', '€65', 'Dorms', 'From', '€26.99', '€23', 'View']\n",
      "09-Dec-22 13:51:52|ERROR|scrape_web.py:75| ['1/', '29', 'Safestay', 'Lisboa', 'Hostel', '-', '0.5km', 'from', 'city', 'centre', 'Show', 'on', 'Map', 'Free', 'WiFi', 'Follows', 'Covid-19', 'sanitation', 'guidance', 'Perfect', 'Location', 'Superb', 'Staff', 'Excellent', 'Cleanliness', '8.0', 'Fabulous', '3945', 'Total', 'Reviews', 'Free', 'Cancellation', 'Privates', 'From', '€108', 'Dorms', 'From', '€33', 'View']\n",
      "09-Dec-22 13:51:52|ERROR|scrape_web.py:75| ['1/', '26', 'We', 'Love', 'F.', 'Tourists', 'Hostel', '-', '0.2km', 'from', 'city', 'centre', 'Show', 'on', 'Map', 'Free', 'WiFi', 'Follows', 'Covid-19', 'sanitation', 'guidance', 'Perfect', 'Location', 'Superb', 'Staff', 'Fantastic', 'Cleanliness', '9.6', 'Superb', '4513', 'Total', 'Reviews', 'Free', 'Cancellation', 'Privates', 'From', '€88', 'Dorms', 'From', '€26', 'View']\n",
      "09-Dec-22 13:51:52|ERROR|scrape_web.py:75| ['1/', '30', 'Rodamon', 'Lisboa', 'Hostel', 'Hostel', '-', '0.2km', 'from', 'city', 'centre', 'Show', 'on', 'Map', 'Free', 'WiFi', 'Follows', 'Covid-19', 'sanitation', 'guidance', 'Perfect', 'Location', 'Superb', 'Staff', 'Fantastic', 'Cleanliness', '9.5', 'Superb', '426', 'Total', 'Reviews', 'Free', 'Cancellation', 'Privates', 'From', '€118', 'Dorms', 'From', '€35', 'View']\n",
      "09-Dec-22 13:51:52|ERROR|scrape_web.py:75| ['1/', '29', 'Selina', 'Secret', 'Garden', 'Lisbon', 'Hostel', '-', '1.1km', 'from', 'city', 'centre', 'Show', 'on', 'Map', 'Free', 'WiFi', 'Follows', 'Covid-19', 'sanitation', 'guidance', 'Perfect', 'Location', 'Superb', 'Staff', 'Fantastic', 'Cleanliness', '8.7', 'Fabulous', '445', 'Total', 'Reviews', '-20%', 'Free', 'Cancellation', 'Privates', 'From', '€90.1', '€72', 'Dorms', 'From', '€31.8', '€27', 'View']\n",
      "09-Dec-22 13:51:52|ERROR|scrape_web.py:75| ['1/', '28', 'WOT', 'New', 'Lisbon', 'Hostel', '-', '0.8km', 'from', 'city', 'centre', 'Show', 'on', 'Map', 'Free', 'WiFi', 'Free', 'Breakfast', 'Perfect', 'Location', 'Superb', 'Staff', 'Excellent', 'Cleanliness', '8.1', 'Fabulous', '1613', 'Total', 'Reviews', 'Privates', 'From', '€82', 'Dorms', 'From', '€24', 'View']\n",
      "09-Dec-22 13:51:52|ERROR|scrape_web.py:75| ['1/', '15', 'Avenue', 'Rooms', '&', 'Suites', 'Hostel', '-', '1.4km', 'from', 'city', 'centre', 'Show', 'on', 'Map', 'Free', 'WiFi', 'Perfect', 'Location', 'Superb', 'Staff', 'Fantastic', 'Cleanliness', '8.9', 'Fabulous', '800', 'Total', 'Reviews', 'Free', 'Cancellation', 'Privates', 'From', '€200', 'Dorms', 'From', '€100', 'View']\n",
      "09-Dec-22 13:51:52|ERROR|scrape_web.py:75| ['Selling', 'out', 'fast!', '1/', '19', 'We', 'Hate', 'F', 'Tourists', 'Hostel', '-', '1km', 'from', 'city', 'centre', 'Show', 'on', 'Map', 'Free', 'WiFi', 'Follows', 'Covid-19', 'sanitation', 'guidance', 'Perfect', 'Location', 'Superb', 'Staff', 'Fantastic', 'Cleanliness', '9.4', 'Superb', '245', 'Total', 'Reviews', 'Free', 'Cancellation', 'Privates', 'From', '€128', 'Dorms', 'From', '€24', 'View']\n",
      "09-Dec-22 13:51:52|ERROR|scrape_web.py:75| ['1/', '27', 'Living', 'Lounge', 'Hostel', 'Hostel', '-', '0.3km', 'from', 'city', 'centre', 'Show', 'on', 'Map', 'Free', 'WiFi', 'Free', 'Breakfast', 'Follows', 'Covid-19', 'sanitation', 'guidance', 'Perfect', 'Location', 'Superb', 'Staff', 'Fantastic', 'Cleanliness', '9.4', 'Superb', '7315', 'Total', 'Reviews', 'Free', 'Cancellation', 'Privates', 'From', '€69', 'Dorms', 'From', '€25', 'View']\n",
      "09-Dec-22 13:51:52|ERROR|scrape_web.py:75| ['1/', '28', 'Sunset', 'Destination', 'Hostel', 'Hostel', '-', '1km', 'from', 'city', 'centre', 'Show', 'on', 'Map', 'Free', 'WiFi', 'Follows', 'Covid-19', 'sanitation', 'guidance', 'Perfect', 'Location', 'Superb', 'Staff', 'Fantastic', 'Cleanliness', '8.7', 'Fabulous', '3572', 'Total', 'Reviews', '-15%', 'Free', 'Cancellation', 'Privates', 'From', '€92.22', '€78', 'Dorms', 'From', '€26.22', '€22', 'View']\n",
      "09-Dec-22 13:51:52|ERROR|scrape_web.py:75| ['1/', '16', 'GSpot', 'Hostel', 'Hostel', '-', '0.5km', 'from', 'city', 'centre', 'Show', 'on', 'Map', 'Free', 'WiFi', 'Free', 'Breakfast', 'Follows', 'Covid-19', 'sanitation', 'guidance', 'Perfect', 'Location', 'Superb', 'Staff', 'Awesome', 'Cleanliness', '7.8', 'Very', 'Good', '4729', 'Total', 'Reviews', 'Free', 'Cancellation', 'No', 'Privates', 'Available', 'Dorms', 'From', '€45', 'View']\n",
      "09-Dec-22 13:51:52|ERROR|scrape_web.py:75| ['1/', '30', 'Lisbon', 'Chillout', 'Hostel', 'Hostel', '-', '1.2km', 'from', 'city', 'centre', 'Show', 'on', 'Map', 'Free', 'WiFi', 'Follows', 'Covid-19', 'sanitation', 'guidance', 'Wonderful', 'Location', 'Marvellous', 'Staff', '6.4', 'Good', '2973', 'Total', 'Reviews', '-10%', 'Free', 'Cancellation', 'Privates', 'From', '€75', '€68', 'Dorms', 'From', '€30', '€27', 'View']\n",
      "09-Dec-22 13:51:52|ERROR|scrape_web.py:75| ['1/', '26', 'Be', 'Lisbon', 'Hostel', 'Intendente', 'Hostel', '-', '0.9km', 'from', 'city', 'centre', 'Show', 'on', 'Map', 'Free', 'WiFi', 'Perfect', 'Location', 'Superb', 'Staff', 'Fantastic', 'Cleanliness', '8.8', 'Fabulous', '246', 'Total', 'Reviews', 'Free', 'Cancellation', 'Privates', 'From', '€96', 'Dorms', 'From', '€33', 'View']\n",
      "09-Dec-22 13:51:52|ERROR|scrape_web.py:75| ['Selling', 'out', 'fast!', '1/', '22', 'Lisbon', 'Lounge', 'Hostel', 'Hostel', '-', '0.4km', 'from', 'city', 'centre', 'Show', 'on', 'Map', 'Free', 'WiFi', 'Free', 'Breakfast', 'Follows', 'Covid-19', 'sanitation', 'guidance', 'Perfect', 'Location', 'Superb', 'Staff', 'Fantastic', 'Cleanliness', '9.3', 'Superb', '5636', 'Total', 'Reviews', 'Free', 'Cancellation', 'Privates', 'From', '€68', 'Dorms', 'From', '€24', 'View']\n",
      "09-Dec-22 13:51:52|ERROR|scrape_web.py:75| ['1/', '27', 'WOT', 'Lisbon', 'Patio', 'Hostel', '-', '2.1km', 'from', 'city', 'centre', 'Show', 'on', 'Map', 'Free', 'WiFi', 'Free', 'Breakfast', 'Follows', 'Covid-19', 'sanitation', 'guidance', 'Wonderful', 'Location', 'Superb', 'Staff', 'Excellent', 'Cleanliness', '7.8', 'Very', 'Good', '1172', 'Total', 'Reviews', 'Privates', 'From', '€64', 'Dorms', 'From', '€24', 'View']\n",
      "09-Dec-22 13:51:52|ERROR|scrape_web.py:75| ['1/', '30', 'Inn', 'Possible', 'Lisbon', 'Hostel', 'Hostel', '-', '0.3km', 'from', 'city', 'centre', 'Show', 'on', 'Map', 'Free', 'WiFi', 'Free', 'Breakfast', 'Perfect', 'Location', 'Superb', 'Staff', 'Fantastic', 'Cleanliness', '8.8', 'Fabulous', '1674', 'Total', 'Reviews', 'Free', 'Cancellation', 'Privates', 'From', '€117', 'Dorms', 'From', '€30', 'View']\n",
      "09-Dec-22 13:51:52|ERROR|scrape_web.py:75| ['Selling', 'out', 'fast!', '1/', '28', 'This', 'is', 'Lisbon', 'Hostel', 'Hostel', '-', '0.5km', 'from', 'city', 'centre', 'Show', 'on', 'Map', 'Free', 'WiFi', 'Follows', 'Covid-19', 'sanitation', 'guidance', 'Perfect', 'Location', 'Superb', 'Staff', 'Fantastic', 'Cleanliness', '9.1', 'Superb', '1269', 'Total', 'Reviews', 'Free', 'Cancellation', 'Privates', 'From', '€79', 'Dorms', 'From', '€28', 'View']\n",
      "09-Dec-22 13:51:52|ERROR|scrape_web.py:75| ['1/', '28', 'WOT', 'Lisbon', 'Nomad', 'Hostel', '-', '2.2km', 'from', 'city', 'centre', 'Show', 'on', 'Map', 'Free', 'WiFi', 'Free', 'Breakfast', 'Perfect', 'Location', 'Superb', 'Staff', 'Excellent', 'Cleanliness', '8.2', 'Fabulous', '143', 'Total', 'Reviews', 'Privates', 'From', '€75', 'Dorms', 'From', '€34', 'View']\n",
      "09-Dec-22 13:51:52|ERROR|scrape_web.py:75| ['Selling', 'out', 'fast!', '1/', '23', 'Rossio', 'Hostel', 'Hostel', '-', '0.1km', 'from', 'city', 'centre', 'Show', 'on', 'Map', 'Free', 'WiFi', 'Free', 'Breakfast', 'Follows', 'Covid-19', 'sanitation', 'guidance', 'Perfect', 'Location', 'Superb', 'Staff', 'Fantastic', 'Cleanliness', '8.4', 'Fabulous', '3989', 'Total', 'Reviews', 'Free', 'Cancellation', 'Privates', 'From', '€87', 'Dorms', 'From', '€32', 'View']\n",
      "09-Dec-22 13:51:52|ERROR|scrape_web.py:75| ['1/', '30', 'Green', 'Heart', 'Hostel', 'Hostel', '-', '1.2km', 'from', 'city', 'centre', 'Show', 'on', 'Map', 'Free', 'WiFi', 'Follows', 'Covid-19', 'sanitation', 'guidance', 'Perfect', 'Location', 'Superb', 'Staff', 'Excellent', 'Cleanliness', '8.0', 'Fabulous', '804', 'Total', 'Reviews', 'Free', 'Cancellation', 'Privates', 'From', '€63', 'Dorms', 'From', '€41', 'View']\n",
      "09-Dec-22 13:51:52|ERROR|scrape_web.py:75| ['1/', '30', 'HI', 'Lisboa', '-', 'Pousada', 'de', 'Juventude', 'Hostel', '-', '2km', 'from', 'city', 'centre', 'Show', 'on', 'Map', 'Free', 'WiFi', 'Free', 'Breakfast', 'Follows', 'Covid-19', 'sanitation', 'guidance', 'Wonderful', 'Location', 'Marvellous', 'Staff', '6.4', 'Good', '477', 'Total', 'Reviews', 'Free', 'Cancellation', 'Privates', 'From', '€56', 'Dorms', 'From', '€18', 'View']\n",
      "09-Dec-22 13:51:52|ERROR|scrape_web.py:75| ['1/', '24', \"Lisb'on\", 'Hostel', 'Hostel', '-', '0.8km', 'from', 'city', 'centre', 'Show', 'on', 'Map', 'Free', 'WiFi', 'Free', 'Breakfast', 'Perfect', 'Location', 'Superb', 'Staff', 'Fantastic', 'Cleanliness', '8.7', 'Fabulous', '978', 'Total', 'Reviews', 'Free', 'Cancellation', 'No', 'Privates', 'Available', 'Dorms', 'From', '€30', 'View']\n",
      "09-Dec-22 13:51:52|ERROR|scrape_web.py:75| ['Selling', 'out', 'fast!', '1/', '24', 'City', 'Guesthouse', 'Alfama', 'Hostel', '-', '0.8km', 'from', 'city', 'centre', 'Show', 'on', 'Map', 'Free', 'WiFi', 'Follows', 'Covid-19', 'sanitation', 'guidance', 'Perfect', 'Location', 'Marvellous', 'Staff', 'Awesome', 'Cleanliness', '8.1', 'Fabulous', '199', 'Total', 'Reviews', 'Free', 'Cancellation', 'Privates', 'From', '€55', 'Dorms', 'From', '€19', 'View']\n",
      "09-Dec-22 13:51:52|ERROR|scrape_web.py:75| ['1/', '30', 'Hostel', 'Seven', 'Hills', 'Hostel', '-', '1.5km', 'from', 'city', 'centre', 'Show', 'on', 'Map', 'Free', 'WiFi', 'Follows', 'Covid-19', 'sanitation', 'guidance', 'Wonderful', 'Location', 'Marvellous', 'Staff', 'Awesome', 'Cleanliness', '6.5', 'Good', '274', 'Total', 'Reviews', 'Free', 'Cancellation', 'Privates', 'From', '€55', 'Dorms', 'From', '€19', 'View']\n",
      "09-Dec-22 13:51:52|ERROR|scrape_web.py:158| Lisbon, 2023-04-01 00:00:00, 5\n",
      "09-Dec-22 13:51:52|INFO|scrape_web.py:167| https://www.hostelworld.com/s?q=Lisbon,%20Portugal&country=Portugal&city=Lisbon&type=city&id=725&from=2023-4-1&to=2023-4-6&guests=1&page=1\n",
      "09-Dec-22 13:51:53|INFO|logger.py:11| ====== WebDriver manager ======\n",
      "09-Dec-22 13:51:55|INFO|logger.py:11| Get LATEST geckodriver version for 107.0 firefox\n"
     ]
    },
    {
     "name": "stderr",
     "output_type": "stream",
     "text": [
      "[WDM] - Downloading: 19.0kB [00:00, 6.52MB/s]                   \n"
     ]
    },
    {
     "name": "stdout",
     "output_type": "stream",
     "text": [
      "09-Dec-22 13:51:57|INFO|logger.py:11| Driver [C:\\Users\\fsgl1\\.wdm\\drivers\\geckodriver\\win64\\0.32\\geckodriver.exe] found in cache\n",
      "09-Dec-22 13:52:16|ERROR|scrape_web.py:75| ['Free', 'Cancellation', 'Sant', 'Jordi', 'Hostels', 'Lisbon', '9.3', 'Superb', '(2414)Hostel-', '1.3km', 'from', 'city', 'centre', 'Follows', 'Covid-19', 'sanitation', 'guidance', '-10%Privates', 'Dorms', 'From', '€26']\n",
      "09-Dec-22 13:52:16|ERROR|scrape_web.py:75| ['Free', 'Cancellation', 'The', 'Independente', 'Hostel', '&', 'Suites', '9.2', 'Superb', '(1869)Hostel-', '0.5km', 'from', 'city', 'centre', 'Follows', 'Covid-19', 'sanitation', 'guidance', '-15%Privates', 'Dorms', 'From', '€22']\n",
      "09-Dec-22 13:52:16|ERROR|scrape_web.py:75| ['Selling', 'out', 'fast!', 'Goodmorning', 'Solo', 'Traveller', 'Hostel', '9.7', 'Superb', '(5210)Hostel-', '0.3km', 'from', 'city', 'centre', 'Follows', 'Covid-19', 'sanitation', 'guidance', 'Privates', 'Dorms', 'From', '€35']\n",
      "09-Dec-22 13:52:16|ERROR|scrape_web.py:75| ['Free', 'Cancellation', 'Lisboa', 'Central', 'Hostel', '9.5', 'Superb', '(5843)Hostel-', '1.5km', 'from', 'city', 'centre', 'Follows', 'Covid-19', 'sanitation', 'guidance', '-10%Privates', 'Dorms', 'From', '€24']\n",
      "09-Dec-22 13:52:16|ERROR|scrape_web.py:75| ['Selling', 'out', 'fast!', 'Free', 'Cancellation', 'Lost', 'Inn', 'Lisbon', '9.3', 'Superb', '(5394)Hostel-', '0.8km', 'from', 'city', 'centre', 'Follows', 'Covid-19', 'sanitation', 'guidance', 'Privates', 'Dorms', 'From', '€21']\n",
      "09-Dec-22 13:52:16|ERROR|scrape_web.py:75| ['Free', 'Cancellation', 'Lisbon', 'Destination', 'Hostel', '9.0', 'Superb', '(4909)Hostel-', '0.2km', 'from', 'city', 'centre', 'Follows', 'Covid-19', 'sanitation', 'guidance', '-15%Privates', 'Dorms', 'From', '€25']\n",
      "09-Dec-22 13:52:16|ERROR|scrape_web.py:75| ['Free', 'Cancellation', 'Safestay', 'Lisboa', '8.0', 'Fabulous', '(3945)Hostel-', '0.5km', 'from', 'city', 'centre', 'Follows', 'Covid-19', 'sanitation', 'guidance', 'Privates', 'Dorms', 'From', '€33']\n",
      "09-Dec-22 13:52:16|ERROR|scrape_web.py:75| ['Free', 'Cancellation', 'We', 'Love', 'F.', 'Tourists', '9.6', 'Superb', '(4513)Hostel-', '0.2km', 'from', 'city', 'centre', 'Follows', 'Covid-19', 'sanitation', 'guidance', 'Privates', 'Dorms', 'From', '€25']\n",
      "09-Dec-22 13:52:16|ERROR|scrape_web.py:75| ['Free', 'Cancellation', 'Rodamon', 'Lisboa', 'Hostel', '9.5', 'Superb', '(426)Hostel-', '0.2km', 'from', 'city', 'centre', 'Follows', 'Covid-19', 'sanitation', 'guidance', 'Privates', 'Dorms', 'From', '€32']\n",
      "09-Dec-22 13:52:16|ERROR|scrape_web.py:75| ['Free', 'Cancellation', 'Selina', 'Secret', 'Garden', 'Lisbon', '8.7', 'Fabulous', '(445)Hostel-', '1.1km', 'from', 'city', 'centre', 'Follows', 'Covid-19', 'sanitation', 'guidance', '-20%Privates', 'Dorms', 'From', '€24']\n",
      "09-Dec-22 13:52:16|ERROR|scrape_web.py:75| ['WOT', 'New', 'Lisbon', '8.1', 'Fabulous', '(1613)Hostel-', '0.8km', 'from', 'city', 'centre', 'Privates', 'Dorms', 'From', '€26']\n",
      "09-Dec-22 13:52:16|ERROR|scrape_web.py:75| ['Free', 'Cancellation', 'Avenue', 'Rooms', '&', 'Suites', '8.9', 'Fabulous', '(800)Hostel-', '1.4km', 'from', 'city', 'centre', 'Privates', 'Dorms', 'From', '€100']\n",
      "09-Dec-22 13:52:16|ERROR|scrape_web.py:75| ['Selling', 'out', 'fast!', 'Free', 'Cancellation', 'We', 'Hate', 'F', 'Tourists', '9.4', 'Superb', '(245)Hostel-', '1km', 'from', 'city', 'centre', 'Follows', 'Covid-19', 'sanitation', 'guidance', 'Privates', 'Dorms', 'From', '€23']\n",
      "09-Dec-22 13:52:16|ERROR|scrape_web.py:75| ['Free', 'Cancellation', 'Living', 'Lounge', 'Hostel', '9.4', 'Superb', '(7315)Hostel-', '0.3km', 'from', 'city', 'centre', 'Follows', 'Covid-19', 'sanitation', 'guidance', 'Privates', 'Dorms', 'From', '€25']\n",
      "09-Dec-22 13:52:16|ERROR|scrape_web.py:75| ['Free', 'Cancellation', 'Sunset', 'Destination', 'Hostel', '8.7', 'Fabulous', '(3572)Hostel-', '1km', 'from', 'city', 'centre', 'Follows', 'Covid-19', 'sanitation', 'guidance', '-15%Privates', 'Dorms', 'From', '€24']\n",
      "09-Dec-22 13:52:16|ERROR|scrape_web.py:75| ['Free', 'Cancellation', 'GSpot', 'Hostel', '7.8', 'Very', 'Good', '(4729)Hostel-', '0.5km', 'from', 'city', 'centre', 'Follows', 'Covid-19', 'sanitation', 'guidance', 'No', 'Privates', 'Available', 'Dorms', 'From', '€45']\n",
      "09-Dec-22 13:52:16|ERROR|scrape_web.py:75| ['Free', 'Cancellation', 'Lisbon', 'Chillout', 'Hostel', '6.4', 'Good', '(2973)Hostel-', '1.2km', 'from', 'city', 'centre', 'Follows', 'Covid-19', 'sanitation', 'guidance', 'No', 'Privates', 'Available', 'Dorms', 'From', '€27']\n",
      "09-Dec-22 13:52:16|ERROR|scrape_web.py:75| ['Free', 'Cancellation', 'Be', 'Lisbon', 'Hostel', 'Intendente', '8.8', 'Fabulous', '(246)Hostel-', '0.9km', 'from', 'city', 'centre', '-5%Privates', 'Dorms', 'From', '€32']\n",
      "09-Dec-22 13:52:16|ERROR|scrape_web.py:75| ['Selling', 'out', 'fast!', 'Free', 'Cancellation', 'Lisbon', 'Lounge', 'Hostel', '9.3', 'Superb', '(5636)Hostel-', '0.4km', 'from', 'city', 'centre', 'Follows', 'Covid-19', 'sanitation', 'guidance', 'Privates', 'Dorms', 'From', '€24']\n",
      "09-Dec-22 13:52:16|ERROR|scrape_web.py:75| ['WOT', 'Lisbon', 'Patio', '7.8', 'Very', 'Good', '(1172)Hostel-', '2.1km', 'from', 'city', 'centre', 'Follows', 'Covid-19', 'sanitation', 'guidance', 'Privates', 'Dorms', 'From', '€23']\n",
      "09-Dec-22 13:52:16|ERROR|scrape_web.py:75| ['Free', 'Cancellation', 'Inn', 'Possible', 'Lisbon', 'Hostel', '8.8', 'Fabulous', '(1674)Hostel-', '0.3km', 'from', 'city', 'centre', 'Privates', 'Dorms', 'From', '€30']\n",
      "09-Dec-22 13:52:16|ERROR|scrape_web.py:75| ['Selling', 'out', 'fast!', 'Free', 'Cancellation', 'This', 'is', 'Lisbon', 'Hostel', '9.1', 'Superb', '(1269)Hostel-', '0.5km', 'from', 'city', 'centre', 'Follows', 'Covid-19', 'sanitation', 'guidance', '-5%Privates', 'Dorms', 'From', '€28']\n",
      "09-Dec-22 13:52:16|ERROR|scrape_web.py:75| ['WOT', 'Lisbon', 'Nomad', '8.2', 'Fabulous', '(143)Hostel-', '2.2km', 'from', 'city', 'centre', 'Privates', 'Dorms', 'From', '€34']\n",
      "09-Dec-22 13:52:16|ERROR|scrape_web.py:75| ['Selling', 'out', 'fast!', 'Free', 'Cancellation', 'Rossio', 'Hostel', '8.4', 'Fabulous', '(3989)Hostel-', '0.1km', 'from', 'city', 'centre', 'Follows', 'Covid-19', 'sanitation', 'guidance', '-10%Privates', 'Dorms', 'From', '€30']\n",
      "09-Dec-22 13:52:16|ERROR|scrape_web.py:75| ['Free', 'Cancellation', 'Green', 'Heart', 'Hostel', '8.0', 'Fabulous', '(804)Hostel-', '1.2km', 'from', 'city', 'centre', 'Follows', 'Covid-19', 'sanitation', 'guidance', 'Privates', 'Dorms', 'From', '€32']\n",
      "09-Dec-22 13:52:16|ERROR|scrape_web.py:75| ['Free', 'Cancellation', 'HI', 'Lisboa', '-', 'Pousada', 'de', 'Juventude', '6.4', 'Good', '(477)Hostel-', '2km', 'from', 'city', 'centre', 'Follows', 'Covid-19', 'sanitation', 'guidance', 'No', 'Privates', 'Available', 'Dorms', 'From', '€18']\n",
      "09-Dec-22 13:52:16|ERROR|scrape_web.py:75| ['Free', 'Cancellation', \"Lisb'on\", 'Hostel', '8.7', 'Fabulous', '(978)Hostel-', '0.8km', 'from', 'city', 'centre', 'No', 'Privates', 'Available', 'Dorms', 'From', '€30']\n",
      "09-Dec-22 13:52:16|ERROR|scrape_web.py:75| ['Selling', 'out', 'fast!', 'Free', 'Cancellation', 'City', 'Guesthouse', 'Alfama', '8.1', 'Fabulous', '(199)Hostel-', '0.8km', 'from', 'city', 'centre', 'Follows', 'Covid-19', 'sanitation', 'guidance', 'Privates', 'Dorms', 'From', '€19']\n",
      "09-Dec-22 13:52:16|ERROR|scrape_web.py:75| ['Free', 'Cancellation', 'Hostel', 'Seven', 'Hills', '6.5', 'Good', '(274)Hostel-', '1.5km', 'from', 'city', 'centre', 'Follows', 'Covid-19', 'sanitation', 'guidance', 'Privates', 'Dorms', 'From', '€19']\n",
      "09-Dec-22 13:52:16|ERROR|scrape_web.py:158| Seville, 2023-01-05 00:00:00, 2\n",
      "09-Dec-22 13:52:16|INFO|scrape_web.py:167| https://www.hostelworld.com/s?q=Seville,%20Spain&country=Spain&city=Seville&type=city&id=1565&from=2023-1-5&to=2023-1-7&guests=1&page=1\n",
      "09-Dec-22 13:52:16|INFO|logger.py:11| ====== WebDriver manager ======\n",
      "09-Dec-22 13:52:18|INFO|logger.py:11| Get LATEST geckodriver version for 107.0 firefox\n"
     ]
    },
    {
     "name": "stderr",
     "output_type": "stream",
     "text": [
      "[WDM] - Downloading: 19.0kB [00:00, 9.75MB/s]                   \n"
     ]
    },
    {
     "name": "stdout",
     "output_type": "stream",
     "text": [
      "09-Dec-22 13:52:20|INFO|logger.py:11| Driver [C:\\Users\\fsgl1\\.wdm\\drivers\\geckodriver\\win64\\0.32\\geckodriver.exe] found in cache\n",
      "09-Dec-22 13:52:35|ERROR|scrape_web.py:75| ['Selling', 'out', 'fast!', '1/', '24', 'Oasis', \"Backpackers'\", 'Palace', 'Sevilla', 'Hostel', '-', '1.3km', 'from', 'city', 'centre', 'Show', 'on', 'Map', 'Free', 'WiFi', 'Follows', 'Covid-19', 'sanitation', 'guidance', 'Perfect', 'Location', 'Superb', 'Staff', 'Fantastic', 'Cleanliness', '8.9', 'Fabulous', '6024', 'Total', 'Reviews', 'Free', 'Cancellation', 'Privates', 'From', '€146', 'Dorms', 'From', '€20', 'View']\n",
      "09-Dec-22 13:52:35|ERROR|scrape_web.py:75| ['1/', '30', 'La', 'Banda', 'Rooftop', 'Hostel', 'Hostel', '-', '1.1km', 'from', 'city', 'centre', 'Show', 'on', 'Map', 'Free', 'WiFi', 'Free', 'Breakfast', 'Follows', 'Covid-19', 'sanitation', 'guidance', 'Perfect', 'Location', 'Superb', 'Staff', 'Fantastic', 'Cleanliness', '9.6', 'Superb', '4010', 'Total', 'Reviews', '-15%', 'Free', 'Cancellation', 'No', 'Privates', 'Available', 'Dorms', 'From', '€32.24', '€27', 'View']\n",
      "09-Dec-22 13:52:35|ERROR|scrape_web.py:75| ['1/', '28', 'Black', 'Swan', 'Hostel', 'Sevilla', 'Hostel', '-', '1.1km', 'from', 'city', 'centre', 'Show', 'on', 'Map', 'Perfect', 'Location', 'Superb', 'Staff', 'Fantastic', 'Cleanliness', '9.1', 'Superb', '3844', 'Total', 'Reviews', 'Free', 'Cancellation', 'No', 'Privates', 'Available', 'Dorms', 'From', '€23', 'View']\n",
      "09-Dec-22 13:52:35|ERROR|scrape_web.py:75| ['Selling', 'out', 'fast!', '1/', '25', 'Hostel', 'One', 'Catedral', 'Hostel', '-', '0.7km', 'from', 'city', 'centre', 'Show', 'on', 'Map', 'Free', 'WiFi', 'Perfect', 'Location', 'Superb', 'Staff', 'Fantastic', 'Cleanliness', '9.6', 'Superb', '3915', 'Total', 'Reviews', 'Free', 'Cancellation', 'Privates', 'From', '€104', 'Dorms', 'From', '€27', 'View']\n",
      "09-Dec-22 13:52:35|ERROR|scrape_web.py:75| ['1/', '30', 'For', 'You', 'Hostel', 'Sevilla', 'Hostel', '-', '1.3km', 'from', 'city', 'centre', 'Show', 'on', 'Map', 'Free', 'WiFi', 'Follows', 'Covid-19', 'sanitation', 'guidance', 'Perfect', 'Location', 'Superb', 'Staff', 'Fantastic', 'Cleanliness', '9.1', 'Superb', '879', 'Total', 'Reviews', 'Free', 'Cancellation', 'Privates', 'From', '€87', 'Dorms', 'From', '€24', 'View']\n",
      "09-Dec-22 13:52:35|ERROR|scrape_web.py:75| ['1/', '20', 'Toc', 'Hostel', 'Sevilla', 'Hostel', '-', '1km', 'from', 'city', 'centre', 'Show', 'on', 'Map', 'Free', 'WiFi', 'Follows', 'Covid-19', 'sanitation', 'guidance', 'Perfect', 'Location', 'Superb', 'Staff', 'Fantastic', 'Cleanliness', '9.2', 'Superb', '1260', 'Total', 'Reviews', '-8%', 'Free', 'Cancellation', 'Privates', 'From', '€106.39', '€98', 'Dorms', 'From', '€28.68', '€26', 'View']\n",
      "09-Dec-22 13:52:35|ERROR|scrape_web.py:75| ['1/', '30', 'Oasis', \"Backpacker's\", 'Hostel', 'Sevilla', '&', 'Coworking', 'Hostel', '-', '0.8km', 'from', 'city', 'centre', 'Show', 'on', 'Map', 'Free', 'WiFi', 'Perfect', 'Location', 'Superb', 'Staff', 'Fantastic', 'Cleanliness', '9.0', 'Superb', '2034', 'Total', 'Reviews', 'Free', 'Cancellation', 'No', 'Privates', 'Available', 'Dorms', 'From', '€22', 'View']\n",
      "09-Dec-22 13:52:35|ERROR|scrape_web.py:75| ['1/', '29', 'Hostel', 'One', 'Centro', 'Hostel', '-', '1km', 'from', 'city', 'centre', 'Show', 'on', 'Map', 'Free', 'WiFi', 'Perfect', 'Location', 'Superb', 'Staff', 'Excellent', 'Cleanliness', '8.6', 'Fabulous', '4097', 'Total', 'Reviews', 'Free', 'Cancellation', 'Privates', 'From', '€63', 'Dorms', 'From', '€21', 'View']\n",
      "09-Dec-22 13:52:35|ERROR|scrape_web.py:75| ['Selling', 'out', 'fast!', '1/', '28', 'San', 'Isidoro', 'Sevilla', 'Hostel', 'Hostel', '-', '0.6km', 'from', 'city', 'centre', 'Show', 'on', 'Map', 'Free', 'WiFi', 'Follows', 'Covid-19', 'sanitation', 'guidance', 'Perfect', 'Location', 'Superb', 'Staff', 'Excellent', 'Cleanliness', '8.3', 'Fabulous', '334', 'Total', 'Reviews', 'Free', 'Cancellation', 'Privates', 'From', '€44', 'Dorms', 'From', '€17', 'View']\n",
      "09-Dec-22 13:52:35|ERROR|scrape_web.py:75| ['1/', '30', 'room007', 'Salvador', 'Hostel', 'Hostel', '-', '0.8km', 'from', 'city', 'centre', 'Show', 'on', 'Map', 'Free', 'WiFi', 'Follows', 'Covid-19', 'sanitation', 'guidance', 'Perfect', 'Location', 'Superb', 'Staff', 'Fantastic', 'Cleanliness', '9.1', 'Superb', '35', 'Total', 'Reviews', '-30%', 'Free', 'Cancellation', 'No', 'Privates', 'Available', 'Dorms', 'From', '€34.14', '€24', 'View']\n",
      "09-Dec-22 13:52:35|ERROR|scrape_web.py:75| ['1/', '22', 'Triana', 'Hostel', 'Hostel', '-', '1.7km', 'from', 'city', 'centre', 'Show', 'on', 'Map', 'Free', 'WiFi', 'Free', 'Breakfast', 'Perfect', 'Location', 'Superb', 'Staff', 'Fantastic', 'Cleanliness', '9.5', 'Superb', '2198', 'Total', 'Reviews', 'Free', 'Cancellation', 'No', 'Privates', 'Available', 'Dorms', 'From', '€19', 'View']\n",
      "09-Dec-22 13:52:35|ERROR|scrape_web.py:75| ['1/', '29', 'The', 'Nomad', 'Hostel&Pension', 'Hostel', '-', '1.1km', 'from', 'city', 'centre', 'Show', 'on', 'Map', 'Free', 'WiFi', 'Follows', 'Covid-19', 'sanitation', 'guidance', 'Perfect', 'Location', 'Superb', 'Staff', 'Fantastic', 'Cleanliness', '8.9', 'Fabulous', '881', 'Total', 'Reviews', 'Free', 'Cancellation', 'Privates', 'From', '€80', 'Dorms', 'From', '€25', 'View']\n",
      "09-Dec-22 13:52:35|ERROR|scrape_web.py:75| ['Selling', 'out', 'fast!', '1/', '30', 'New', 'Samay', 'Hostel', 'Hostel', '-', '0.3km', 'from', 'city', 'centre', 'Show', 'on', 'Map', 'Free', 'WiFi', 'Follows', 'Covid-19', 'sanitation', 'guidance', 'Perfect', 'Location', 'Superb', 'Staff', 'Fantastic', 'Cleanliness', '9.4', 'Superb', '4586', 'Total', 'Reviews', 'Free', 'Cancellation', 'Privates', 'From', '€85', 'Dorms', 'From', '€23', 'View']\n",
      "09-Dec-22 13:52:35|ERROR|scrape_web.py:75| ['1/', '20', 'Hostel', 'Trotamundos', 'Hostel', '-', '1.2km', 'from', 'city', 'centre', 'Show', 'on', 'Map', 'Free', 'WiFi', 'Perfect', 'Location', 'Brilliant', 'Staff', 'Awesome', 'Cleanliness', '7.1', 'Very', 'Good', '263', 'Total', 'Reviews', 'No', 'Privates', 'Available', 'Dorms', 'From', '€14', 'View']\n",
      "09-Dec-22 13:52:35|ERROR|scrape_web.py:75| ['1/', '18', 'Nuevo', 'Suizo', 'Bed', 'and', 'Breakfast', '-', '0.9km', 'from', 'city', 'centre', 'Show', 'on', 'Map', 'Free', 'WiFi', 'Free', 'Breakfast', 'Perfect', 'Location', 'Superb', 'Staff', 'Fantastic', 'Cleanliness', '8.5', 'Fabulous', '2372', 'Total', 'Reviews', 'Free', 'Cancellation', 'Privates', 'From', '€46', 'Dorms', 'From', '€18', 'View']\n",
      "09-Dec-22 13:52:35|ERROR|scrape_web.py:75| ['1/', '15', 'Hub', 'Hostel', 'Seville', 'Hostel', '-', '1.6km', 'from', 'city', 'centre', 'Show', 'on', 'Map', 'Free', 'WiFi', 'Perfect', 'Location', 'Superb', 'Staff', 'Awesome', 'Cleanliness', '7.6', 'Very', 'Good', '293', 'Total', 'Reviews', 'Free', 'Cancellation', 'No', 'Privates', 'Available', 'Dorms', 'From', '€14', 'View']\n",
      "09-Dec-22 13:52:35|ERROR|scrape_web.py:75| ['Selling', 'out', 'fast!', '1/', '25', 'La', 'Flamenka', 'Hostel', 'Hostel', '-', '1.4km', 'from', 'city', 'centre', 'Show', 'on', 'Map', 'Free', 'WiFi', 'Perfect', 'Location', 'Superb', 'Staff', 'Fantastic', 'Cleanliness', '8.9', 'Fabulous', '345', 'Total', 'Reviews', 'Free', 'Cancellation', 'No', 'Privates', 'Available', 'Dorms', 'From', '€17', 'View']\n",
      "09-Dec-22 13:52:35|ERROR|scrape_web.py:75| ['Selling', 'out', 'fast!', '1/', '25', 'Sevilla', 'Kitsch', 'Hostel', 'Art', 'Hostel', '-', '1km', 'from', 'city', 'centre', 'Show', 'on', 'Map', 'Free', 'WiFi', 'Perfect', 'Location', 'Superb', 'Staff', 'Awesome', 'Cleanliness', '7.7', 'Very', 'Good', '1194', 'Total', 'Reviews', 'Free', 'Cancellation', 'Privates', 'From', '€68', 'Dorms', 'From', '€18', 'View']\n",
      "09-Dec-22 13:52:35|ERROR|scrape_web.py:75| ['1/', '21', 'Sweet', 'Sevilla', 'Hostel', 'Hostel', '-', '1.1km', 'from', 'city', 'centre', 'Show', 'on', 'Map', 'Free', 'WiFi', 'Perfect', 'Location', 'Superb', 'Staff', 'Fantastic', 'Cleanliness', '8.8', 'Fabulous', '22', 'Total', 'Reviews', 'Free', 'Cancellation', 'Privates', 'From', '€57', 'Dorms', 'From', '€19', 'View']\n",
      "09-Dec-22 13:52:35|ERROR|scrape_web.py:75| ['1/', '25', 'Hostel', 'A2C', 'Sevilla', 'Hostel', '-', '1.2km', 'from', 'city', 'centre', 'Show', 'on', 'Map', 'Free', 'WiFi', 'Wonderful', 'Location', 'Superb', 'Staff', 'Excellent', 'Cleanliness', '7.9', 'Very', 'Good', '214', 'Total', 'Reviews', 'Free', 'Cancellation', 'No', 'Privates', 'Available', 'Dorms', 'From', '€18', 'View']\n",
      "09-Dec-22 13:52:35|ERROR|scrape_web.py:75| ['Selling', 'out', 'fast!', '1/', '22', 'The', 'Spot', 'Central', 'Hostel', 'Hostel', '-', '1.1km', 'from', 'city', 'centre', 'Show', 'on', 'Map', 'Free', 'WiFi', 'Perfect', 'Location', 'Superb', 'Staff', 'Fantastic', 'Cleanliness', '9.1', 'Superb', '746', 'Total', 'Reviews', 'Free', 'Cancellation', 'Privates', 'From', '€76', 'Dorms', 'From', '€36', 'View']\n",
      "09-Dec-22 13:52:35|ERROR|scrape_web.py:75| ['1/', '11', 'Sevilla', 'Dream', 'Hostel', 'Hostel', '-', '1.6km', 'from', 'city', 'centre', 'Show', 'on', 'Map', 'Free', 'WiFi', '4.7', 'Rating', '424', 'Total', 'Reviews', 'Free', 'Cancellation', 'Privates', 'From', '€49', 'Dorms', 'From', '€15', 'View']\n",
      "09-Dec-22 13:52:35|ERROR|scrape_web.py:75| ['Selling', 'out', 'fast!', '1/', '15', 'Seville', 'Your', 'Way', 'Hostel', 'Hostel', '-', '1.6km', 'from', 'city', 'centre', 'Show', 'on', 'Map', 'Free', 'WiFi', 'Perfect', 'Location', 'Brilliant', 'Staff', '5.7', 'Rating', '3', 'Total', 'Reviews', 'Free', 'Cancellation', 'Privates', 'From', '€52', 'Dorms', 'From', '€22', 'View']\n",
      "09-Dec-22 13:52:35|ERROR|scrape_web.py:158| Seville, 2023-01-05 00:00:00, 5\n",
      "09-Dec-22 13:52:35|INFO|scrape_web.py:167| https://www.hostelworld.com/s?q=Seville,%20Spain&country=Spain&city=Seville&type=city&id=1565&from=2023-1-5&to=2023-1-10&guests=1&page=1\n",
      "09-Dec-22 13:52:35|INFO|logger.py:11| ====== WebDriver manager ======\n",
      "09-Dec-22 13:52:37|INFO|logger.py:11| Get LATEST geckodriver version for 107.0 firefox\n",
      "09-Dec-22 13:52:39|INFO|logger.py:11| Driver [C:\\Users\\fsgl1\\.wdm\\drivers\\geckodriver\\win64\\0.32\\geckodriver.exe] found in cache\n",
      "09-Dec-22 13:52:56|ERROR|scrape_web.py:75| ['Selling', 'out', 'fast!', '1/', '24', 'Oasis', \"Backpackers'\", 'Palace', 'Sevilla', 'Hostel', '-', '1.3km', 'from', 'city', 'centre', 'Show', 'on', 'Map', 'Free', 'WiFi', 'Follows', 'Covid-19', 'sanitation', 'guidance', 'Perfect', 'Location', 'Superb', 'Staff', 'Fantastic', 'Cleanliness', '8.9', 'Fabulous', '6024', 'Total', 'Reviews', 'Free', 'Cancellation', 'Privates', 'From', '€142', 'Dorms', 'From', '€19', 'View']\n",
      "09-Dec-22 13:52:56|ERROR|scrape_web.py:75| ['1/', '30', 'La', 'Banda', 'Rooftop', 'Hostel', 'Hostel', '-', '1.1km', 'from', 'city', 'centre', 'Show', 'on', 'Map', 'Free', 'WiFi', 'Free', 'Breakfast', 'Follows', 'Covid-19', 'sanitation', 'guidance', 'Perfect', 'Location', 'Superb', 'Staff', 'Fantastic', 'Cleanliness', '9.6', 'Superb', '4010', 'Total', 'Reviews', '-15%', 'Free', 'Cancellation', 'No', 'Privates', 'Available', 'Dorms', 'From', '€32.24', '€27', 'View']\n",
      "09-Dec-22 13:52:56|ERROR|scrape_web.py:75| ['1/', '28', 'Black', 'Swan', 'Hostel', 'Sevilla', 'Hostel', '-', '1.1km', 'from', 'city', 'centre', 'Show', 'on', 'Map', 'Perfect', 'Location', 'Superb', 'Staff', 'Fantastic', 'Cleanliness', '9.1', 'Superb', '3844', 'Total', 'Reviews', 'Free', 'Cancellation', 'No', 'Privates', 'Available', 'Dorms', 'From', '€22', 'View']\n",
      "09-Dec-22 13:52:56|ERROR|scrape_web.py:75| ['Selling', 'out', 'fast!', '1/', '25', 'Hostel', 'One', 'Catedral', 'Hostel', '-', '0.7km', 'from', 'city', 'centre', 'Show', 'on', 'Map', 'Free', 'WiFi', 'Perfect', 'Location', 'Superb', 'Staff', 'Fantastic', 'Cleanliness', '9.6', 'Superb', '3915', 'Total', 'Reviews', 'Free', 'Cancellation', 'Privates', 'From', '€99', 'Dorms', 'From', '€27', 'View']\n",
      "09-Dec-22 13:52:56|ERROR|scrape_web.py:75| ['Selling', 'out', 'fast!', '1/', '30', 'For', 'You', 'Hostel', 'Sevilla', 'Hostel', '-', '1.3km', 'from', 'city', 'centre', 'Show', 'on', 'Map', 'Free', 'WiFi', 'Follows', 'Covid-19', 'sanitation', 'guidance', 'Perfect', 'Location', 'Superb', 'Staff', 'Fantastic', 'Cleanliness', '9.1', 'Superb', '879', 'Total', 'Reviews', 'Free', 'Cancellation', 'Privates', 'From', '€83', 'Dorms', 'From', '€23', 'View']\n",
      "09-Dec-22 13:52:56|ERROR|scrape_web.py:75| ['1/', '20', 'Toc', 'Hostel', 'Sevilla', 'Hostel', '-', '1km', 'from', 'city', 'centre', 'Show', 'on', 'Map', 'Free', 'WiFi', 'Follows', 'Covid-19', 'sanitation', 'guidance', 'Perfect', 'Location', 'Superb', 'Staff', 'Fantastic', 'Cleanliness', '9.2', 'Superb', '1260', 'Total', 'Reviews', '-8%', 'Free', 'Cancellation', 'Privates', 'From', '€103.92', '€96', 'Dorms', 'From', '€30.23', '€28', 'View']\n",
      "09-Dec-22 13:52:56|ERROR|scrape_web.py:75| ['1/', '30', 'Oasis', \"Backpacker's\", 'Hostel', 'Sevilla', '&', 'Coworking', 'Hostel', '-', '0.8km', 'from', 'city', 'centre', 'Show', 'on', 'Map', 'Free', 'WiFi', 'Perfect', 'Location', 'Superb', 'Staff', 'Fantastic', 'Cleanliness', '9.0', 'Superb', '2034', 'Total', 'Reviews', 'Free', 'Cancellation', 'No', 'Privates', 'Available', 'Dorms', 'From', '€22', 'View']\n",
      "09-Dec-22 13:52:56|ERROR|scrape_web.py:75| ['1/', '29', 'Hostel', 'One', 'Centro', 'Hostel', '-', '1km', 'from', 'city', 'centre', 'Show', 'on', 'Map', 'Free', 'WiFi', 'Perfect', 'Location', 'Superb', 'Staff', 'Excellent', 'Cleanliness', '8.6', 'Fabulous', '4097', 'Total', 'Reviews', 'Free', 'Cancellation', 'Privates', 'From', '€63', 'Dorms', 'From', '€21', 'View']\n",
      "09-Dec-22 13:52:56|ERROR|scrape_web.py:75| ['Selling', 'out', 'fast!', '1/', '28', 'San', 'Isidoro', 'Sevilla', 'Hostel', 'Hostel', '-', '0.6km', 'from', 'city', 'centre', 'Show', 'on', 'Map', 'Free', 'WiFi', 'Follows', 'Covid-19', 'sanitation', 'guidance', 'Perfect', 'Location', 'Superb', 'Staff', 'Excellent', 'Cleanliness', '8.3', 'Fabulous', '334', 'Total', 'Reviews', '-10%', 'Free', 'Cancellation', 'Privates', 'From', '€42', 'Dorms', 'From', '€16.56', '€15', 'View']\n",
      "09-Dec-22 13:52:56|ERROR|scrape_web.py:75| ['1/', '30', 'room007', 'Salvador', 'Hostel', 'Hostel', '-', '0.8km', 'from', 'city', 'centre', 'Show', 'on', 'Map', 'Free', 'WiFi', 'Follows', 'Covid-19', 'sanitation', 'guidance', 'Perfect', 'Location', 'Superb', 'Staff', 'Fantastic', 'Cleanliness', '9.1', 'Superb', '35', 'Total', 'Reviews', '-30%', 'Free', 'Cancellation', 'No', 'Privates', 'Available', 'Dorms', 'From', '€31.66', '€22', 'View']\n",
      "09-Dec-22 13:52:56|ERROR|scrape_web.py:75| ['1/', '29', 'The', 'Nomad', 'Hostel&Pension', 'Hostel', '-', '1.1km', 'from', 'city', 'centre', 'Show', 'on', 'Map', 'Free', 'WiFi', 'Follows', 'Covid-19', 'sanitation', 'guidance', 'Perfect', 'Location', 'Superb', 'Staff', 'Fantastic', 'Cleanliness', '8.9', 'Fabulous', '881', 'Total', 'Reviews', 'Free', 'Cancellation', 'Privates', 'From', '€81', 'Dorms', 'From', '€24', 'View']\n",
      "09-Dec-22 13:52:56|ERROR|scrape_web.py:75| ['1/', '20', 'Hostel', 'Trotamundos', 'Hostel', '-', '1.2km', 'from', 'city', 'centre', 'Show', 'on', 'Map', 'Free', 'WiFi', 'Perfect', 'Location', 'Brilliant', 'Staff', 'Awesome', 'Cleanliness', '7.1', 'Very', 'Good', '263', 'Total', 'Reviews', 'No', 'Privates', 'Available', 'Dorms', 'From', '€14', 'View']\n",
      "09-Dec-22 13:52:56|ERROR|scrape_web.py:75| ['1/', '18', 'Nuevo', 'Suizo', 'Bed', 'and', 'Breakfast', '-', '0.9km', 'from', 'city', 'centre', 'Show', 'on', 'Map', 'Free', 'WiFi', 'Free', 'Breakfast', 'Perfect', 'Location', 'Superb', 'Staff', 'Fantastic', 'Cleanliness', '8.5', 'Fabulous', '2372', 'Total', 'Reviews', 'Free', 'Cancellation', 'Privates', 'From', '€46', 'Dorms', 'From', '€18', 'View']\n",
      "09-Dec-22 13:52:56|ERROR|scrape_web.py:75| ['1/', '15', 'Hub', 'Hostel', 'Seville', 'Hostel', '-', '1.6km', 'from', 'city', 'centre', 'Show', 'on', 'Map', 'Free', 'WiFi', 'Perfect', 'Location', 'Superb', 'Staff', 'Awesome', 'Cleanliness', '7.6', 'Very', 'Good', '293', 'Total', 'Reviews', 'Free', 'Cancellation', 'No', 'Privates', 'Available', 'Dorms', 'From', '€13', 'View']\n",
      "09-Dec-22 13:52:56|ERROR|scrape_web.py:75| ['Selling', 'out', 'fast!', '1/', '25', 'Sevilla', 'Kitsch', 'Hostel', 'Art', 'Hostel', '-', '1km', 'from', 'city', 'centre', 'Show', 'on', 'Map', 'Free', 'WiFi', 'Perfect', 'Location', 'Superb', 'Staff', 'Awesome', 'Cleanliness', '7.7', 'Very', 'Good', '1194', 'Total', 'Reviews', '-15%', 'Free', 'Cancellation', 'Privates', 'From', '€65.01', '€55', 'Dorms', 'From', '€17', '€14', 'View']\n",
      "09-Dec-22 13:52:56|ERROR|scrape_web.py:75| ['1/', '21', 'Sweet', 'Sevilla', 'Hostel', 'Hostel', '-', '1.1km', 'from', 'city', 'centre', 'Show', 'on', 'Map', 'Free', 'WiFi', 'Perfect', 'Location', 'Superb', 'Staff', 'Fantastic', 'Cleanliness', '8.8', 'Fabulous', '22', 'Total', 'Reviews', 'Free', 'Cancellation', 'Privates', 'From', '€53', 'Dorms', 'From', '€18', 'View']\n",
      "09-Dec-22 13:52:56|ERROR|scrape_web.py:75| ['1/', '25', 'Hostel', 'A2C', 'Sevilla', 'Hostel', '-', '1.2km', 'from', 'city', 'centre', 'Show', 'on', 'Map', 'Free', 'WiFi', 'Wonderful', 'Location', 'Superb', 'Staff', 'Excellent', 'Cleanliness', '7.9', 'Very', 'Good', '214', 'Total', 'Reviews', 'Free', 'Cancellation', 'No', 'Privates', 'Available', 'Dorms', 'From', '€18', 'View']\n",
      "09-Dec-22 13:52:56|ERROR|scrape_web.py:75| ['Selling', 'out', 'fast!', '1/', '22', 'The', 'Spot', 'Central', 'Hostel', 'Hostel', '-', '1.1km', 'from', 'city', 'centre', 'Show', 'on', 'Map', 'Free', 'WiFi', 'Perfect', 'Location', 'Superb', 'Staff', 'Fantastic', 'Cleanliness', '9.1', 'Superb', '746', 'Total', 'Reviews', '-10%', 'Free', 'Cancellation', 'Privates', 'From', '€62.64', '€56', 'Dorms', 'From', '€32.39', '€29', 'View']\n",
      "09-Dec-22 13:52:56|ERROR|scrape_web.py:75| ['1/', '11', 'Sevilla', 'Dream', 'Hostel', 'Hostel', '-', '1.6km', 'from', 'city', 'centre', 'Show', 'on', 'Map', 'Free', 'WiFi', '4.7', 'Rating', '424', 'Total', 'Reviews', 'Free', 'Cancellation', 'Privates', 'From', '€51', 'Dorms', 'From', '€15', 'View']\n",
      "09-Dec-22 13:52:56|ERROR|scrape_web.py:75| ['Selling', 'out', 'fast!', '1/', '15', 'Seville', 'Your', 'Way', 'Hostel', 'Hostel', '-', '1.6km', 'from', 'city', 'centre', 'Show', 'on', 'Map', 'Free', 'WiFi', 'Perfect', 'Location', 'Brilliant', 'Staff', '5.7', 'Rating', '3', 'Total', 'Reviews', 'Free', 'Cancellation', 'Privates', 'From', '€50', 'Dorms', 'From', '€20', 'View']\n",
      "09-Dec-22 13:52:56|ERROR|scrape_web.py:158| Seville, 2023-04-01 00:00:00, 2\n",
      "09-Dec-22 13:52:56|INFO|scrape_web.py:167| https://www.hostelworld.com/s?q=Seville,%20Spain&country=Spain&city=Seville&type=city&id=1565&from=2023-4-1&to=2023-4-3&guests=1&page=1\n",
      "09-Dec-22 13:52:56|INFO|logger.py:11| ====== WebDriver manager ======\n",
      "09-Dec-22 13:52:58|INFO|logger.py:11| Get LATEST geckodriver version for 107.0 firefox\n"
     ]
    },
    {
     "name": "stderr",
     "output_type": "stream",
     "text": [
      "[WDM] - Downloading: 19.0kB [00:00, 20.4MB/s]                   \n"
     ]
    },
    {
     "name": "stdout",
     "output_type": "stream",
     "text": [
      "09-Dec-22 13:53:00|INFO|logger.py:11| Driver [C:\\Users\\fsgl1\\.wdm\\drivers\\geckodriver\\win64\\0.32\\geckodriver.exe] found in cache\n",
      "09-Dec-22 13:53:20|ERROR|scrape_web.py:75| ['Selling', 'out', 'fast!', 'Free', 'Cancellation', 'Oasis', \"Backpackers'\", 'Palace', 'Sevilla', '8.9', 'Fabulous', '(6024)Hostel-', '1.3km', 'from', 'city', 'centre', 'Follows', 'Covid-19', 'sanitation', 'guidance', 'Privates', 'Dorms', 'From', '€32']\n",
      "09-Dec-22 13:53:20|ERROR|scrape_web.py:75| ['For', 'You', 'Hostel', 'Sevilla', '9.1', 'Superb', '(879)Hostel-', '1.3km', 'from', 'city', 'centre', 'Follows', 'Covid-19', 'sanitation', 'guidance', 'Privates', 'Dorms', 'From', '€58']\n",
      "09-Dec-22 13:53:20|ERROR|scrape_web.py:75| ['Selling', 'out', 'fast!', 'Free', 'Cancellation', 'Oasis', \"Backpacker's\", 'Hostel', 'Sevilla', '&', 'Coworking', '9.0', 'Superb', '(2034)Hostel-', '0.8km', 'from', 'city', 'centre', 'Privates', 'Dorms', 'From', '€31']\n",
      "09-Dec-22 13:53:20|ERROR|scrape_web.py:75| ['Free', 'Cancellation', 'Hostel', 'One', 'Centro', '8.6', 'Fabulous', '(4097)Hostel-', '1km', 'from', 'city', 'centre', 'Privates', 'Dorms', 'From', '€37']\n",
      "09-Dec-22 13:53:20|ERROR|scrape_web.py:75| ['Selling', 'out', 'fast!', 'New', 'Samay', 'Hostel', '9.4', 'Superb', '(4586)Hostel-', '0.3km', 'from', 'city', 'centre', 'Follows', 'Covid-19', 'sanitation', 'guidance', 'Privates', 'Dorms', 'From', '€28']\n",
      "09-Dec-22 13:53:20|ERROR|scrape_web.py:75| ['Free', 'Cancellation', 'The', 'Nomad', 'Hostel&Pension', '8.9', 'Fabulous', '(881)Hostel-', '1.1km', 'from', 'city', 'centre', 'Follows', 'Covid-19', 'sanitation', 'guidance', 'Privates', 'Dorms', 'From', '€36']\n",
      "09-Dec-22 13:53:20|ERROR|scrape_web.py:75| ['Free', 'Cancellation', 'Nuevo', 'Suizo', '8.5', 'Fabulous', '(2372)Bed', 'and', 'Breakfast-', '0.9km', 'from', 'city', 'centre', 'Privates', 'Dorms', 'From', '€29']\n",
      "09-Dec-22 13:53:20|ERROR|scrape_web.py:75| ['Free', 'Cancellation', 'La', 'Flamenka', 'Hostel', '8.9', 'Fabulous', '(345)Hostel-', '1.4km', 'from', 'city', 'centre', 'Privates', 'Dorms', 'From', '€37']\n",
      "09-Dec-22 13:53:20|ERROR|scrape_web.py:75| ['Free', 'Cancellation', 'Sweet', 'Sevilla', 'Hostel', '8.8', 'Fabulous', '(22)Hostel-', '1.1km', 'from', 'city', 'centre', 'Privates', 'Dorms', 'From', '€32']\n",
      "09-Dec-22 13:53:20|ERROR|scrape_web.py:75| ['Free', 'Cancellation', 'Hostel', 'A2C', 'Sevilla', '7.9', 'Very', 'Good', '(214)Hostel-', '1.2km', 'from', 'city', 'centre', 'No', 'Privates', 'Available', 'Dorms', 'From', '€41']\n",
      "09-Dec-22 13:53:20|ERROR|scrape_web.py:75| ['Selling', 'out', 'fast!', 'Free', 'Cancellation', 'The', 'Spot', 'Central', 'Hostel', '9.1', 'Superb', '(746)Hostel-', '1.1km', 'from', 'city', 'centre', 'Privates', 'Dorms', 'From', '€90']\n",
      "09-Dec-22 13:53:20|ERROR|scrape_web.py:75| ['Free', 'Cancellation', 'Sevilla', 'Dream', 'Hostel', '4.7(424)Hostel-', '1.6km', 'from', 'city', 'centre', 'No', 'Privates', 'Available', 'Dorms', 'From', '€500']\n",
      "09-Dec-22 13:53:20|ERROR|scrape_web.py:75| ['Selling', 'out', 'fast!', 'Free', 'Cancellation', 'Seville', 'Your', 'Way', 'Hostel', '5.7(3)Hostel-', '1.6km', 'from', 'city', 'centre', 'Privates', 'Dorms', 'From', '€77']\n",
      "09-Dec-22 13:53:20|ERROR|scrape_web.py:158| Seville, 2023-04-01 00:00:00, 5\n",
      "09-Dec-22 13:53:20|INFO|scrape_web.py:167| https://www.hostelworld.com/s?q=Seville,%20Spain&country=Spain&city=Seville&type=city&id=1565&from=2023-4-1&to=2023-4-6&guests=1&page=1\n",
      "09-Dec-22 13:53:20|INFO|logger.py:11| ====== WebDriver manager ======\n",
      "09-Dec-22 13:53:23|INFO|logger.py:11| Get LATEST geckodriver version for 107.0 firefox\n"
     ]
    },
    {
     "name": "stderr",
     "output_type": "stream",
     "text": [
      "[WDM] - Downloading: 19.0kB [00:00, 9.79MB/s]                   \n"
     ]
    },
    {
     "name": "stdout",
     "output_type": "stream",
     "text": [
      "09-Dec-22 13:53:25|INFO|logger.py:11| Driver [C:\\Users\\fsgl1\\.wdm\\drivers\\geckodriver\\win64\\0.32\\geckodriver.exe] found in cache\n",
      "09-Dec-22 13:53:40|ERROR|scrape_web.py:75| ['Selling', 'out', 'fast!', '1/', '24', 'Oasis', \"Backpackers'\", 'Palace', 'Sevilla', 'Hostel', '-', '1.3km', 'from', 'city', 'centre', 'Show', 'on', 'Map', 'Free', 'WiFi', 'Follows', 'Covid-19', 'sanitation', 'guidance', 'Perfect', 'Location', 'Superb', 'Staff', 'Fantastic', 'Cleanliness', '8.9', 'Fabulous', '6024', 'Total', 'Reviews', 'Free', 'Cancellation', 'Privates', 'From', '€143', 'Dorms', 'From', '€32', 'View']\n",
      "09-Dec-22 13:53:40|ERROR|scrape_web.py:75| ['1/', '30', 'For', 'You', 'Hostel', 'Sevilla', 'Hostel', '-', '1.3km', 'from', 'city', 'centre', 'Show', 'on', 'Map', 'Free', 'WiFi', 'Follows', 'Covid-19', 'sanitation', 'guidance', 'Perfect', 'Location', 'Superb', 'Staff', 'Fantastic', 'Cleanliness', '9.1', 'Superb', '879', 'Total', 'Reviews', 'Privates', 'From', '€258', 'Dorms', 'From', '€58', 'View']\n",
      "09-Dec-22 13:53:40|ERROR|scrape_web.py:75| ['Selling', 'out', 'fast!', '1/', '30', 'Oasis', \"Backpacker's\", 'Hostel', 'Sevilla', '&', 'Coworking', 'Hostel', '-', '0.8km', 'from', 'city', 'centre', 'Show', 'on', 'Map', 'Free', 'WiFi', 'Perfect', 'Location', 'Superb', 'Staff', 'Fantastic', 'Cleanliness', '9.0', 'Superb', '2034', 'Total', 'Reviews', 'Free', 'Cancellation', 'Privates', 'From', '€75', 'Dorms', 'From', '€32', 'View']\n",
      "09-Dec-22 13:53:40|ERROR|scrape_web.py:75| ['1/', '29', 'Hostel', 'One', 'Centro', 'Hostel', '-', '1km', 'from', 'city', 'centre', 'Show', 'on', 'Map', 'Free', 'WiFi', 'Perfect', 'Location', 'Superb', 'Staff', 'Excellent', 'Cleanliness', '8.6', 'Fabulous', '4097', 'Total', 'Reviews', 'Free', 'Cancellation', 'Privates', 'From', '€102', 'Dorms', 'From', '€43', 'View']\n",
      "09-Dec-22 13:53:40|ERROR|scrape_web.py:75| ['Selling', 'out', 'fast!', '1/', '30', 'New', 'Samay', 'Hostel', 'Hostel', '-', '0.3km', 'from', 'city', 'centre', 'Show', 'on', 'Map', 'Free', 'WiFi', 'Follows', 'Covid-19', 'sanitation', 'guidance', 'Perfect', 'Location', 'Superb', 'Staff', 'Fantastic', 'Cleanliness', '9.4', 'Superb', '4586', 'Total', 'Reviews', 'Privates', 'From', '€140', 'Dorms', 'From', '€31', 'View']\n",
      "09-Dec-22 13:53:40|ERROR|scrape_web.py:75| ['1/', '29', 'The', 'Nomad', 'Hostel&Pension', 'Hostel', '-', '1.1km', 'from', 'city', 'centre', 'Show', 'on', 'Map', 'Free', 'WiFi', 'Follows', 'Covid-19', 'sanitation', 'guidance', 'Perfect', 'Location', 'Superb', 'Staff', 'Fantastic', 'Cleanliness', '8.9', 'Fabulous', '881', 'Total', 'Reviews', 'Free', 'Cancellation', 'Privates', 'From', '€149', 'Dorms', 'From', '€42', 'View']\n",
      "09-Dec-22 13:53:40|ERROR|scrape_web.py:75| ['1/', '18', 'Nuevo', 'Suizo', 'Bed', 'and', 'Breakfast', '-', '0.9km', 'from', 'city', 'centre', 'Show', 'on', 'Map', 'Free', 'WiFi', 'Free', 'Breakfast', 'Perfect', 'Location', 'Superb', 'Staff', 'Fantastic', 'Cleanliness', '8.5', 'Fabulous', '2372', 'Total', 'Reviews', 'Free', 'Cancellation', 'Privates', 'From', '€123', 'Dorms', 'From', '€31', 'View']\n",
      "09-Dec-22 13:53:40|ERROR|scrape_web.py:75| ['1/', '25', 'La', 'Flamenka', 'Hostel', 'Hostel', '-', '1.4km', 'from', 'city', 'centre', 'Show', 'on', 'Map', 'Free', 'WiFi', 'Perfect', 'Location', 'Superb', 'Staff', 'Fantastic', 'Cleanliness', '8.9', 'Fabulous', '345', 'Total', 'Reviews', 'Free', 'Cancellation', 'Privates', 'From', '€109', 'Dorms', 'From', '€36', 'View']\n",
      "09-Dec-22 13:53:40|ERROR|scrape_web.py:75| ['Selling', 'out', 'fast!', '1/', '21', 'Sweet', 'Sevilla', 'Hostel', 'Hostel', '-', '1.1km', 'from', 'city', 'centre', 'Show', 'on', 'Map', 'Free', 'WiFi', 'Perfect', 'Location', 'Superb', 'Staff', 'Fantastic', 'Cleanliness', '8.8', 'Fabulous', '22', 'Total', 'Reviews', 'Free', 'Cancellation', 'Privates', 'From', '€145', 'Dorms', 'From', '€33', 'View']\n",
      "09-Dec-22 13:53:40|ERROR|scrape_web.py:75| ['1/', '25', 'Hostel', 'A2C', 'Sevilla', 'Hostel', '-', '1.2km', 'from', 'city', 'centre', 'Show', 'on', 'Map', 'Free', 'WiFi', 'Wonderful', 'Location', 'Superb', 'Staff', 'Excellent', 'Cleanliness', '7.9', 'Very', 'Good', '214', 'Total', 'Reviews', 'Free', 'Cancellation', 'No', 'Privates', 'Available', 'Dorms', 'From', '€40', 'View']\n",
      "09-Dec-22 13:53:40|ERROR|scrape_web.py:75| ['Selling', 'out', 'fast!', '1/', '22', 'The', 'Spot', 'Central', 'Hostel', 'Hostel', '-', '1.1km', 'from', 'city', 'centre', 'Show', 'on', 'Map', 'Free', 'WiFi', 'Perfect', 'Location', 'Superb', 'Staff', 'Fantastic', 'Cleanliness', '9.1', 'Superb', '746', 'Total', 'Reviews', '-10%', 'Free', 'Cancellation', 'Privates', 'From', '€216', '€194', 'Dorms', 'From', '€89.99', '€81', 'View']\n",
      "09-Dec-22 13:53:40|ERROR|scrape_web.py:75| ['1/', '11', 'Sevilla', 'Dream', 'Hostel', 'Hostel', '-', '1.6km', 'from', 'city', 'centre', 'Show', 'on', 'Map', 'Free', 'WiFi', '4.7', 'Rating', '424', 'Total', 'Reviews', 'Free', 'Cancellation', 'No', 'Privates', 'Available', 'Dorms', 'From', '€500', 'View']\n",
      "09-Dec-22 13:53:40|ERROR|scrape_web.py:75| ['Selling', 'out', 'fast!', '1/', '15', 'Seville', 'Your', 'Way', 'Hostel', 'Hostel', '-', '1.6km', 'from', 'city', 'centre', 'Show', 'on', 'Map', 'Free', 'WiFi', 'Perfect', 'Location', 'Brilliant', 'Staff', '5.7', 'Rating', '3', 'Total', 'Reviews', 'Free', 'Cancellation', 'Privates', 'From', '€135', 'Dorms', 'From', '€77', 'View']\n"
     ]
    }
   ],
   "source": [
    "df_all = ScrapeWeb.loop(\n",
    "    city_list=city_list, date_from_list=date_from_list, duration_list=duration_list, \n",
    "    max_pages=max_pages\n",
    "    )"
   ]
  },
  {
   "cell_type": "code",
   "execution_count": 8,
   "id": "a99de8ae",
   "metadata": {},
   "outputs": [
    {
     "data": {
      "text/html": [
       "<div>\n",
       "<style scoped>\n",
       "    .dataframe tbody tr th:only-of-type {\n",
       "        vertical-align: middle;\n",
       "    }\n",
       "\n",
       "    .dataframe tbody tr th {\n",
       "        vertical-align: top;\n",
       "    }\n",
       "\n",
       "    .dataframe thead th {\n",
       "        text-align: right;\n",
       "    }\n",
       "</style>\n",
       "<table border=\"1\" class=\"dataframe\">\n",
       "  <thead>\n",
       "    <tr style=\"text-align: right;\">\n",
       "      <th></th>\n",
       "      <th>price (EUR)</th>\n",
       "      <th>rating</th>\n",
       "      <th>distance (km)</th>\n",
       "      <th>city</th>\n",
       "      <th>date_from</th>\n",
       "      <th>duration (days)</th>\n",
       "      <th>request_time</th>\n",
       "    </tr>\n",
       "  </thead>\n",
       "  <tbody>\n",
       "    <tr>\n",
       "      <th>3</th>\n",
       "      <td>32.0</td>\n",
       "      <td>9.7</td>\n",
       "      <td>0.5</td>\n",
       "      <td>Lisbon</td>\n",
       "      <td>2023-01-05</td>\n",
       "      <td>2</td>\n",
       "      <td>2022-12-09 13:51:13.897398</td>\n",
       "    </tr>\n",
       "    <tr>\n",
       "      <th>4</th>\n",
       "      <td>27.0</td>\n",
       "      <td>9.7</td>\n",
       "      <td>0.4</td>\n",
       "      <td>Lisbon</td>\n",
       "      <td>2023-01-05</td>\n",
       "      <td>2</td>\n",
       "      <td>2022-12-09 13:51:13.897398</td>\n",
       "    </tr>\n",
       "    <tr>\n",
       "      <th>5</th>\n",
       "      <td>21.0</td>\n",
       "      <td>9.3</td>\n",
       "      <td>1.3</td>\n",
       "      <td>Lisbon</td>\n",
       "      <td>2023-01-05</td>\n",
       "      <td>2</td>\n",
       "      <td>2022-12-09 13:51:13.897398</td>\n",
       "    </tr>\n",
       "    <tr>\n",
       "      <th>6</th>\n",
       "      <td>22.0</td>\n",
       "      <td>9.2</td>\n",
       "      <td>0.5</td>\n",
       "      <td>Lisbon</td>\n",
       "      <td>2023-01-05</td>\n",
       "      <td>2</td>\n",
       "      <td>2022-12-09 13:51:13.897398</td>\n",
       "    </tr>\n",
       "    <tr>\n",
       "      <th>7</th>\n",
       "      <td>26.0</td>\n",
       "      <td>9.7</td>\n",
       "      <td>0.3</td>\n",
       "      <td>Lisbon</td>\n",
       "      <td>2023-01-05</td>\n",
       "      <td>2</td>\n",
       "      <td>2022-12-09 13:51:13.897398</td>\n",
       "    </tr>\n",
       "  </tbody>\n",
       "</table>\n",
       "</div>"
      ],
      "text/plain": [
       "   price (EUR)  rating  distance (km)    city  date_from  duration (days)  \\\n",
       "3         32.0     9.7            0.5  Lisbon 2023-01-05                2   \n",
       "4         27.0     9.7            0.4  Lisbon 2023-01-05                2   \n",
       "5         21.0     9.3            1.3  Lisbon 2023-01-05                2   \n",
       "6         22.0     9.2            0.5  Lisbon 2023-01-05                2   \n",
       "7         26.0     9.7            0.3  Lisbon 2023-01-05                2   \n",
       "\n",
       "                request_time  \n",
       "3 2022-12-09 13:51:13.897398  \n",
       "4 2022-12-09 13:51:13.897398  \n",
       "5 2022-12-09 13:51:13.897398  \n",
       "6 2022-12-09 13:51:13.897398  \n",
       "7 2022-12-09 13:51:13.897398  "
      ]
     },
     "execution_count": 8,
     "metadata": {},
     "output_type": "execute_result"
    }
   ],
   "source": [
    "len(df_all)\n",
    "df_all = df_all[(df_all[\"price (EUR)\"]<100) & (df_all[\"duration (days)\"]==2)]\n",
    "df_all.head()"
   ]
  },
  {
   "cell_type": "code",
   "execution_count": 9,
   "id": "7787f23f",
   "metadata": {},
   "outputs": [
    {
     "data": {
      "image/png": "[encoded data removed]",
      "text/plain": [
       "<Figure size 789x360 with 2 Axes>"
      ]
     },
     "metadata": {
      "needs_background": "light"
     },
     "output_type": "display_data"
    }
   ],
   "source": [
    "sns.relplot(\n",
    "    data=df_all,    \n",
    "    x='price (EUR)',\n",
    "    y='rating',\n",
    "    col='date_from',\n",
    "    hue='city'\n",
    "    )\n",
    "plt.show()"
   ]
  },
  {
   "cell_type": "code",
   "execution_count": null,
   "id": "d2b1528c",
   "metadata": {},
   "outputs": [],
   "source": []
  }
 ],
 "metadata": {
  "jupytext": {
   "main_language": "python"
  },
  "kernelspec": {
   "display_name": "Python 3.9.13 ('py39venv')",
   "language": "python",
   "name": "python3"
  },
  "language_info": {
   "codemirror_mode": {
    "name": "ipython",
    "version": 3
   },
   "file_extension": ".py",
   "mimetype": "text/x-python",
   "name": "python",
   "nbconvert_exporter": "python",
   "pygments_lexer": "ipython3",
   "version": "3.9.13 | packaged by conda-forge | (main, May 27 2022, 16:50:36) [MSC v.1929 64 bit (AMD64)]"
  },
  "vscode": {
   "interpreter": {
    "hash": "588a7288a3c1f767cb4f3433b32ea6cbbe3dc77fd72aa9718dfb9b454ded2122"
   }
  }
 },
 "nbformat": 4,
 "nbformat_minor": 5
}
