{
 "cells": [
  {
   "cell_type": "code",
   "execution_count": 1,
   "id": "91b4f78f",
   "metadata": {},
   "outputs": [],
   "source": [
    "import sys\n",
    "import os\n",
    "import logging\n",
    "\n",
    "import pandas as pd\n",
    "\n",
    "msg_format = \"%(asctime)s|%(levelname)s|%(filename)s:%(lineno)d| %(message)s\"\n",
    "date_format = \"%d-%b-%y %H:%M:%S\"\n",
    "logging.basicConfig(level=logging.INFO, format=msg_format, datefmt=date_format, stream=sys.stdout)\n",
    "\n",
    "pwd = os.getcwd()\n",
    "module_path = f\"{pwd}\\..\\src\"\n",
    "sys.path.insert(0, module_path)\n",
    "\n",
    "from datetime import datetime\n",
    "from hostelprices.scrape_web import ScrapeWeb\n",
    "from hostelprices.utils import Utils\n",
    "from hostelprices.database import Database\n",
    "\n",
    "%load_ext autoreload\n",
    "%autoreload 2"
   ]
  },
  {
   "cell_type": "code",
   "execution_count": 2,
   "id": "9187a2a6",
   "metadata": {},
   "outputs": [],
   "source": [
    "client_id = Utils.fromConfig('mongo_client')\n",
    "data_base_name = Utils.fromConfig('data_base_name')\n",
    "#collection_name = \"main_coll-dev-12_14_2022-15_07\"\n",
    "\n",
    "DB = Database(\n",
    "    client_id=client_id, data_base_name=data_base_name#, collection_name=collection_name\n",
    "    )"
   ]
  },
  {
   "cell_type": "code",
   "execution_count": 3,
   "id": "3309b9a9",
   "metadata": {},
   "outputs": [
    {
     "data": {
      "text/html": [
       "<div>\n",
       "<style scoped>\n",
       "    .dataframe tbody tr th:only-of-type {\n",
       "        vertical-align: middle;\n",
       "    }\n",
       "\n",
       "    .dataframe tbody tr th {\n",
       "        vertical-align: top;\n",
       "    }\n",
       "\n",
       "    .dataframe thead th {\n",
       "        text-align: right;\n",
       "    }\n",
       "</style>\n",
       "<table border=\"1\" class=\"dataframe\">\n",
       "  <thead>\n",
       "    <tr style=\"text-align: right;\">\n",
       "      <th></th>\n",
       "      <th>_id</th>\n",
       "      <th>price (EUR)</th>\n",
       "      <th>rating</th>\n",
       "      <th>distance (km)</th>\n",
       "      <th>city</th>\n",
       "      <th>date_from</th>\n",
       "      <th>duration (days)</th>\n",
       "      <th>request_time</th>\n",
       "    </tr>\n",
       "  </thead>\n",
       "  <tbody>\n",
       "    <tr>\n",
       "      <th>0</th>\n",
       "      <td>639b3a91263daf73fcc83118</td>\n",
       "      <td>3.420000</td>\n",
       "      <td>6.4</td>\n",
       "      <td>1.2</td>\n",
       "      <td>Lisbon</td>\n",
       "      <td>2023-02-13</td>\n",
       "      <td>2</td>\n",
       "      <td>2022-12-15 15:17:36.889</td>\n",
       "    </tr>\n",
       "    <tr>\n",
       "      <th>1</th>\n",
       "      <td>639b3a91263daf73fcc8310d</td>\n",
       "      <td>18.781106</td>\n",
       "      <td>9.7</td>\n",
       "      <td>0.2</td>\n",
       "      <td>Lisbon</td>\n",
       "      <td>2023-02-13</td>\n",
       "      <td>2</td>\n",
       "      <td>2022-12-15 15:17:36.889</td>\n",
       "    </tr>\n",
       "    <tr>\n",
       "      <th>2</th>\n",
       "      <td>639b3a91263daf73fcc83110</td>\n",
       "      <td>8.220000</td>\n",
       "      <td>8.7</td>\n",
       "      <td>1.1</td>\n",
       "      <td>Lisbon</td>\n",
       "      <td>2023-02-13</td>\n",
       "      <td>2</td>\n",
       "      <td>2022-12-15 15:17:36.889</td>\n",
       "    </tr>\n",
       "    <tr>\n",
       "      <th>3</th>\n",
       "      <td>639b3a91263daf73fcc83109</td>\n",
       "      <td>25.354493</td>\n",
       "      <td>9.7</td>\n",
       "      <td>0.3</td>\n",
       "      <td>Lisbon</td>\n",
       "      <td>2023-02-13</td>\n",
       "      <td>2</td>\n",
       "      <td>2022-12-15 15:17:36.889</td>\n",
       "    </tr>\n",
       "    <tr>\n",
       "      <th>4</th>\n",
       "      <td>639b3a91263daf73fcc83114</td>\n",
       "      <td>21.598272</td>\n",
       "      <td>9.4</td>\n",
       "      <td>0.3</td>\n",
       "      <td>Lisbon</td>\n",
       "      <td>2023-02-13</td>\n",
       "      <td>2</td>\n",
       "      <td>2022-12-15 15:17:36.889</td>\n",
       "    </tr>\n",
       "    <tr>\n",
       "      <th>...</th>\n",
       "      <td>...</td>\n",
       "      <td>...</td>\n",
       "      <td>...</td>\n",
       "      <td>...</td>\n",
       "      <td>...</td>\n",
       "      <td>...</td>\n",
       "      <td>...</td>\n",
       "      <td>...</td>\n",
       "    </tr>\n",
       "    <tr>\n",
       "      <th>23</th>\n",
       "      <td>639bafb945ece293533ed3b1</td>\n",
       "      <td>17.842051</td>\n",
       "      <td>8.8</td>\n",
       "      <td>0.3</td>\n",
       "      <td>Lisbon</td>\n",
       "      <td>2023-02-13</td>\n",
       "      <td>2</td>\n",
       "      <td>2022-12-15 23:37:29.241</td>\n",
       "    </tr>\n",
       "    <tr>\n",
       "      <th>24</th>\n",
       "      <td>639bafb945ece293533ed3b2</td>\n",
       "      <td>21.598272</td>\n",
       "      <td>9.1</td>\n",
       "      <td>0.5</td>\n",
       "      <td>Lisbon</td>\n",
       "      <td>2023-02-13</td>\n",
       "      <td>2</td>\n",
       "      <td>2022-12-15 23:37:29.241</td>\n",
       "    </tr>\n",
       "    <tr>\n",
       "      <th>25</th>\n",
       "      <td>639bafb945ece293533ed3b3</td>\n",
       "      <td>23.476383</td>\n",
       "      <td>8.2</td>\n",
       "      <td>2.2</td>\n",
       "      <td>Lisbon</td>\n",
       "      <td>2023-02-13</td>\n",
       "      <td>2</td>\n",
       "      <td>2022-12-15 23:37:29.241</td>\n",
       "    </tr>\n",
       "    <tr>\n",
       "      <th>26</th>\n",
       "      <td>639bafb945ece293533ed3b4</td>\n",
       "      <td>23.476383</td>\n",
       "      <td>8.4</td>\n",
       "      <td>0.1</td>\n",
       "      <td>Lisbon</td>\n",
       "      <td>2023-02-13</td>\n",
       "      <td>2</td>\n",
       "      <td>2022-12-15 23:37:29.241</td>\n",
       "    </tr>\n",
       "    <tr>\n",
       "      <th>27</th>\n",
       "      <td>639bafb945ece293533ed3b5</td>\n",
       "      <td>15.963940</td>\n",
       "      <td>8.1</td>\n",
       "      <td>0.8</td>\n",
       "      <td>Lisbon</td>\n",
       "      <td>2023-02-13</td>\n",
       "      <td>2</td>\n",
       "      <td>2022-12-15 23:37:29.241</td>\n",
       "    </tr>\n",
       "  </tbody>\n",
       "</table>\n",
       "<p>1569 rows × 8 columns</p>\n",
       "</div>"
      ],
      "text/plain": [
       "                         _id  price (EUR)  rating  distance (km)    city  \\\n",
       "0   639b3a91263daf73fcc83118     3.420000     6.4            1.2  Lisbon   \n",
       "1   639b3a91263daf73fcc8310d    18.781106     9.7            0.2  Lisbon   \n",
       "2   639b3a91263daf73fcc83110     8.220000     8.7            1.1  Lisbon   \n",
       "3   639b3a91263daf73fcc83109    25.354493     9.7            0.3  Lisbon   \n",
       "4   639b3a91263daf73fcc83114    21.598272     9.4            0.3  Lisbon   \n",
       "..                       ...          ...     ...            ...     ...   \n",
       "23  639bafb945ece293533ed3b1    17.842051     8.8            0.3  Lisbon   \n",
       "24  639bafb945ece293533ed3b2    21.598272     9.1            0.5  Lisbon   \n",
       "25  639bafb945ece293533ed3b3    23.476383     8.2            2.2  Lisbon   \n",
       "26  639bafb945ece293533ed3b4    23.476383     8.4            0.1  Lisbon   \n",
       "27  639bafb945ece293533ed3b5    15.963940     8.1            0.8  Lisbon   \n",
       "\n",
       "    date_from  duration (days)            request_time  \n",
       "0  2023-02-13                2 2022-12-15 15:17:36.889  \n",
       "1  2023-02-13                2 2022-12-15 15:17:36.889  \n",
       "2  2023-02-13                2 2022-12-15 15:17:36.889  \n",
       "3  2023-02-13                2 2022-12-15 15:17:36.889  \n",
       "4  2023-02-13                2 2022-12-15 15:17:36.889  \n",
       "..        ...              ...                     ...  \n",
       "23 2023-02-13                2 2022-12-15 23:37:29.241  \n",
       "24 2023-02-13                2 2022-12-15 23:37:29.241  \n",
       "25 2023-02-13                2 2022-12-15 23:37:29.241  \n",
       "26 2023-02-13                2 2022-12-15 23:37:29.241  \n",
       "27 2023-02-13                2 2022-12-15 23:37:29.241  \n",
       "\n",
       "[1569 rows x 8 columns]"
      ]
     },
     "execution_count": 3,
     "metadata": {},
     "output_type": "execute_result"
    }
   ],
   "source": [
    "df_all = DB.getPandasDf()\n",
    "df_all"
   ]
  },
  {
   "cell_type": "code",
   "execution_count": 4,
   "id": "fbeab03b",
   "metadata": {},
   "outputs": [],
   "source": [
    "# coll_names = DB.db.list_collection_names()\n",
    "# coll_selection = []\n",
    "# for coll_name in coll_names:\n",
    "#     if not (('12_15_2022' in coll_name) or ('12_14_2022' in coll_name) or (not '2022' in coll_name) or ('dev' in coll_name)):\n",
    "#         coll_selection.append(coll_name)\n",
    "\n",
    "# coll_selection"
   ]
  },
  {
   "cell_type": "code",
   "execution_count": 5,
   "id": "f0a17bc4",
   "metadata": {},
   "outputs": [],
   "source": [
    "# DB_list = []\n",
    "# for coll_name in coll_selection:\n",
    "#     DB = Database(\n",
    "#         client_id=client_id, data_base_name=data_base_name, collection_name=coll_name\n",
    "#         )\n",
    "#     DB_list.append(DB)\n",
    "#     df = DB.getPandasDf()\n",
    "    "
   ]
  },
  {
   "cell_type": "code",
   "execution_count": 6,
   "id": "45e6adfe",
   "metadata": {},
   "outputs": [],
   "source": [
    "# DB_df_list = []\n",
    "# for DB in DB_list:\n",
    "#     df = DB.getPandasDf()\n",
    "#     df[\"collection\"] = DB.collection_name\n",
    "#     DB_df_list.append(df)"
   ]
  },
  {
   "cell_type": "code",
   "execution_count": 7,
   "id": "9dbb5cb6",
   "metadata": {},
   "outputs": [],
   "source": [
    "# df_all = pd.concat(DB_df_list)\n",
    "# df_all"
   ]
  },
  {
   "cell_type": "code",
   "execution_count": 8,
   "id": "35f070e2",
   "metadata": {},
   "outputs": [
    {
     "name": "stdout",
     "output_type": "stream",
     "text": [
      "Lisbon     1487\n",
      "Seville      82\n",
      "Name: city, dtype: int64\n",
      "2023-02-13    1344\n",
      "2023-01-17     113\n",
      "2023-01-13     112\n",
      "Name: date_from, dtype: int64\n",
      "2    1344\n",
      "5     120\n",
      "1     105\n",
      "Name: duration (days), dtype: int64\n"
     ]
    }
   ],
   "source": [
    "print(df_all.city.value_counts())\n",
    "print(df_all.date_from.value_counts())\n",
    "print(df_all[\"duration (days)\"].value_counts())"
   ]
  },
  {
   "cell_type": "code",
   "execution_count": 9,
   "id": "c3f2b4f2",
   "metadata": {},
   "outputs": [],
   "source": [
    "df_all[\"rating_per_price\"] = df_all[\"rating\"] / df_all[\"price (EUR)\"]"
   ]
  },
  {
   "cell_type": "code",
   "execution_count": 10,
   "id": "061548b9",
   "metadata": {},
   "outputs": [],
   "source": [
    "import seaborn as sns\n",
    "import matplotlib.pyplot as plt"
   ]
  },
  {
   "cell_type": "code",
   "execution_count": 11,
   "id": "daf6f389",
   "metadata": {},
   "outputs": [
    {
     "data": {
      "image/png": "[encoded data removed]",
      "text/plain": [
       "<Figure size 436.75x360 with 1 Axes>"
      ]
     },
     "metadata": {
      "needs_background": "light"
     },
     "output_type": "display_data"
    }
   ],
   "source": [
    "sns.relplot(\n",
    "    data=df_all,    \n",
    "    x='request_time',\n",
    "    y='rating_per_price',\n",
    "    hue='distance (km)'\n",
    "    )\n",
    "plt.show()"
   ]
  },
  {
   "cell_type": "code",
   "execution_count": null,
   "id": "088f7ca3",
   "metadata": {},
   "outputs": [],
   "source": []
  }
 ],
 "metadata": {
  "jupytext": {
   "main_language": "python"
  },
  "kernelspec": {
   "display_name": "Python 3.9.13 ('py39venv')",
   "language": "python",
   "name": "python3"
  },
  "language_info": {
   "codemirror_mode": {
    "name": "ipython",
    "version": 3
   },
   "file_extension": ".py",
   "mimetype": "text/x-python",
   "name": "python",
   "nbconvert_exporter": "python",
   "pygments_lexer": "ipython3",
   "version": "3.9.13"
  },
  "vscode": {
   "interpreter": {
    "hash": "588a7288a3c1f767cb4f3433b32ea6cbbe3dc77fd72aa9718dfb9b454ded2122"
   }
  }
 },
 "nbformat": 4,
 "nbformat_minor": 5
}
