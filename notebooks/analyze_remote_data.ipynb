{
 "cells": [
  {
   "cell_type": "code",
   "execution_count": 37,
   "id": "91b4f78f",
   "metadata": {},
   "outputs": [
    {
     "name": "stdout",
     "output_type": "stream",
     "text": [
      "The autoreload extension is already loaded. To reload it, use:\n",
      "  %reload_ext autoreload\n"
     ]
    }
   ],
   "source": [
    "import sys\n",
    "import os\n",
    "import logging\n",
    "\n",
    "import pandas as pd\n",
    "\n",
    "msg_format = \"%(asctime)s|%(levelname)s|%(filename)s:%(lineno)d| %(message)s\"\n",
    "date_format = \"%d-%b-%y %H:%M:%S\"\n",
    "logging.basicConfig(level=logging.INFO, format=msg_format, datefmt=date_format, stream=sys.stdout)\n",
    "\n",
    "pwd = os.getcwd()\n",
    "module_path = f\"{pwd}\\..\\src\"\n",
    "sys.path.insert(0, module_path)\n",
    "\n",
    "from datetime import datetime\n",
    "from hostelprices.scrape_web import ScrapeWeb\n",
    "from hostelprices.utils import Utils\n",
    "from hostelprices.database import Database\n",
    "\n",
    "%load_ext autoreload\n",
    "%autoreload 2"
   ]
  },
  {
   "cell_type": "code",
   "execution_count": 38,
   "id": "9187a2a6",
   "metadata": {},
   "outputs": [],
   "source": [
    "client_id = Utils.fromConfig('mongo_client')\n",
    "data_base_name = Utils.fromConfig('data_base_name')\n",
    "collection_name = \"main_coll-dev-12_14_2022-15_07\"\n",
    "\n",
    "DB = Database(\n",
    "    client_id=client_id, data_base_name=data_base_name, collection_name=collection_name\n",
    "    )"
   ]
  },
  {
   "cell_type": "code",
   "execution_count": 54,
   "id": "71bbee34",
   "metadata": {},
   "outputs": [
    {
     "data": {
      "text/plain": [
       "True"
      ]
     },
     "execution_count": 54,
     "metadata": {},
     "output_type": "execute_result"
    }
   ],
   "source": [
    "coll_name = 'main_coll-main-12_15_2022-14_14'\n",
    "('12_15_2022' in coll_name) or ('12_14_2022' in coll_name) or (not '2022' in coll_name) or ('dev' in coll_name)"
   ]
  },
  {
   "cell_type": "code",
   "execution_count": 58,
   "id": "fbeab03b",
   "metadata": {},
   "outputs": [
    {
     "data": {
      "text/plain": [
       "['main_coll-main-12_16_2022-06_18',\n",
       " 'main_coll-main-12_18_2022-20_18',\n",
       " 'main_coll-main-12_16_2022-06_39',\n",
       " 'main_coll-main-12_16_2022-05_13',\n",
       " 'main_coll-main-12_17_2022-08_22',\n",
       " 'main_coll-main-12_19_2022-08_24',\n",
       " 'main_coll-main-12_16_2022-20_19',\n",
       " 'main_coll-main-12_16_2022-03_16',\n",
       " 'main_coll-main-12_16_2022-03_36',\n",
       " 'main_coll-main-12_16_2022-01_12',\n",
       " 'main_coll-main-12_16_2022-04_39',\n",
       " 'main_coll-main-12_16_2022-02_47',\n",
       " 'main_coll-main-12_16_2022-07_36',\n",
       " 'main_coll-main-12_17_2022-20_17',\n",
       " 'main_coll-main-12_16_2022-04_18',\n",
       " 'main_coll-main-12_16_2022-08_18',\n",
       " 'main_coll-main-12_16_2022-02_23',\n",
       " 'main_coll-main-12_18_2022-08_22',\n",
       " 'main_coll-main-12_16_2022-07_13',\n",
       " 'main_coll-main-12_19_2022-20_21',\n",
       " 'main_coll-main-12_20_2022-08_24']"
      ]
     },
     "execution_count": 58,
     "metadata": {},
     "output_type": "execute_result"
    }
   ],
   "source": [
    "coll_names = DB.db.list_collection_names()\n",
    "coll_selection = []\n",
    "for coll_name in coll_names:\n",
    "    if not (('12_15_2022' in coll_name) or ('12_14_2022' in coll_name) or (not '2022' in coll_name) or ('dev' in coll_name)):\n",
    "        coll_selection.append(coll_name)\n",
    "\n",
    "coll_selection"
   ]
  },
  {
   "cell_type": "code",
   "execution_count": 59,
   "id": "f0a17bc4",
   "metadata": {},
   "outputs": [],
   "source": [
    "\n",
    "DB_list = []\n",
    "for coll_name in coll_selection:\n",
    "    DB = Database(\n",
    "        client_id=client_id, data_base_name=data_base_name, collection_name=coll_name\n",
    "        )\n",
    "    DB_list.append(DB)\n",
    "    df = DB.getPandasDf()\n",
    "    "
   ]
  },
  {
   "cell_type": "code",
   "execution_count": 60,
   "id": "45e6adfe",
   "metadata": {},
   "outputs": [],
   "source": [
    "DB_df_list = []\n",
    "for DB in DB_list:\n",
    "    df = DB.getPandasDf()\n",
    "    df[\"collection\"] = DB.collection_name\n",
    "    DB_df_list.append(df)"
   ]
  },
  {
   "cell_type": "code",
   "execution_count": 61,
   "id": "9dbb5cb6",
   "metadata": {},
   "outputs": [
    {
     "data": {
      "text/html": [
       "<div>\n",
       "<style scoped>\n",
       "    .dataframe tbody tr th:only-of-type {\n",
       "        vertical-align: middle;\n",
       "    }\n",
       "\n",
       "    .dataframe tbody tr th {\n",
       "        vertical-align: top;\n",
       "    }\n",
       "\n",
       "    .dataframe thead th {\n",
       "        text-align: right;\n",
       "    }\n",
       "</style>\n",
       "<table border=\"1\" class=\"dataframe\">\n",
       "  <thead>\n",
       "    <tr style=\"text-align: right;\">\n",
       "      <th></th>\n",
       "      <th>_id</th>\n",
       "      <th>price (EUR)</th>\n",
       "      <th>rating</th>\n",
       "      <th>distance (km)</th>\n",
       "      <th>city</th>\n",
       "      <th>date_from</th>\n",
       "      <th>duration (days)</th>\n",
       "      <th>request_time</th>\n",
       "      <th>collection</th>\n",
       "    </tr>\n",
       "  </thead>\n",
       "  <tbody>\n",
       "    <tr>\n",
       "      <th>0</th>\n",
       "      <td>639c0e0fa4c6fbdb623b9b34</td>\n",
       "      <td>29.187459</td>\n",
       "      <td>9.7</td>\n",
       "      <td>0.5</td>\n",
       "      <td>Lisbon</td>\n",
       "      <td>2023-02-13</td>\n",
       "      <td>2</td>\n",
       "      <td>2022-12-16 06:19:58.789</td>\n",
       "      <td>main_coll-main-12_16_2022-06_18</td>\n",
       "    </tr>\n",
       "    <tr>\n",
       "      <th>1</th>\n",
       "      <td>639c0e0fa4c6fbdb623b9b35</td>\n",
       "      <td>24.479804</td>\n",
       "      <td>9.7</td>\n",
       "      <td>0.4</td>\n",
       "      <td>Lisbon</td>\n",
       "      <td>2023-02-13</td>\n",
       "      <td>2</td>\n",
       "      <td>2022-12-16 06:19:58.789</td>\n",
       "      <td>main_coll-main-12_16_2022-06_18</td>\n",
       "    </tr>\n",
       "    <tr>\n",
       "      <th>2</th>\n",
       "      <td>639c0e0fa4c6fbdb623b9b36</td>\n",
       "      <td>2.120000</td>\n",
       "      <td>9.3</td>\n",
       "      <td>1.3</td>\n",
       "      <td>Lisbon</td>\n",
       "      <td>2023-02-13</td>\n",
       "      <td>2</td>\n",
       "      <td>2022-12-16 06:19:58.789</td>\n",
       "      <td>main_coll-main-12_16_2022-06_18</td>\n",
       "    </tr>\n",
       "    <tr>\n",
       "      <th>3</th>\n",
       "      <td>639c0e0fa4c6fbdb623b9b37</td>\n",
       "      <td>0.860000</td>\n",
       "      <td>9.2</td>\n",
       "      <td>0.5</td>\n",
       "      <td>Lisbon</td>\n",
       "      <td>2023-02-13</td>\n",
       "      <td>2</td>\n",
       "      <td>2022-12-16 06:19:58.789</td>\n",
       "      <td>main_coll-main-12_16_2022-06_18</td>\n",
       "    </tr>\n",
       "    <tr>\n",
       "      <th>4</th>\n",
       "      <td>639c0e0fa4c6fbdb623b9b38</td>\n",
       "      <td>24.479804</td>\n",
       "      <td>9.7</td>\n",
       "      <td>0.3</td>\n",
       "      <td>Lisbon</td>\n",
       "      <td>2023-02-13</td>\n",
       "      <td>2</td>\n",
       "      <td>2022-12-16 06:19:58.789</td>\n",
       "      <td>main_coll-main-12_16_2022-06_18</td>\n",
       "    </tr>\n",
       "    <tr>\n",
       "      <th>...</th>\n",
       "      <td>...</td>\n",
       "      <td>...</td>\n",
       "      <td>...</td>\n",
       "      <td>...</td>\n",
       "      <td>...</td>\n",
       "      <td>...</td>\n",
       "      <td>...</td>\n",
       "      <td>...</td>\n",
       "      <td>...</td>\n",
       "    </tr>\n",
       "    <tr>\n",
       "      <th>23</th>\n",
       "      <td>63a1715f2d5abd8a01885798</td>\n",
       "      <td>17.927911</td>\n",
       "      <td>8.8</td>\n",
       "      <td>0.3</td>\n",
       "      <td>Lisbon</td>\n",
       "      <td>2023-02-13</td>\n",
       "      <td>2</td>\n",
       "      <td>2022-12-20 08:25:02.390</td>\n",
       "      <td>main_coll-main-12_20_2022-08_24</td>\n",
       "    </tr>\n",
       "    <tr>\n",
       "      <th>24</th>\n",
       "      <td>63a1715f2d5abd8a01885799</td>\n",
       "      <td>7.860000</td>\n",
       "      <td>8.7</td>\n",
       "      <td>1.8</td>\n",
       "      <td>Lisbon</td>\n",
       "      <td>2023-02-13</td>\n",
       "      <td>2</td>\n",
       "      <td>2022-12-20 08:25:02.390</td>\n",
       "      <td>main_coll-main-12_20_2022-08_24</td>\n",
       "    </tr>\n",
       "    <tr>\n",
       "      <th>25</th>\n",
       "      <td>63a1715f2d5abd8a0188579a</td>\n",
       "      <td>21.702208</td>\n",
       "      <td>9.1</td>\n",
       "      <td>0.5</td>\n",
       "      <td>Lisbon</td>\n",
       "      <td>2023-02-13</td>\n",
       "      <td>2</td>\n",
       "      <td>2022-12-20 08:25:02.390</td>\n",
       "      <td>main_coll-main-12_20_2022-08_24</td>\n",
       "    </tr>\n",
       "    <tr>\n",
       "      <th>26</th>\n",
       "      <td>63a1715f2d5abd8a0188579b</td>\n",
       "      <td>23.589356</td>\n",
       "      <td>8.2</td>\n",
       "      <td>2.2</td>\n",
       "      <td>Lisbon</td>\n",
       "      <td>2023-02-13</td>\n",
       "      <td>2</td>\n",
       "      <td>2022-12-20 08:25:02.390</td>\n",
       "      <td>main_coll-main-12_20_2022-08_24</td>\n",
       "    </tr>\n",
       "    <tr>\n",
       "      <th>27</th>\n",
       "      <td>63a1715f2d5abd8a0188579c</td>\n",
       "      <td>16.040762</td>\n",
       "      <td>8.1</td>\n",
       "      <td>0.8</td>\n",
       "      <td>Lisbon</td>\n",
       "      <td>2023-02-13</td>\n",
       "      <td>2</td>\n",
       "      <td>2022-12-20 08:25:02.390</td>\n",
       "      <td>main_coll-main-12_20_2022-08_24</td>\n",
       "    </tr>\n",
       "  </tbody>\n",
       "</table>\n",
       "<p>588 rows × 9 columns</p>\n",
       "</div>"
      ],
      "text/plain": [
       "                         _id  price (EUR)  rating  distance (km)    city  \\\n",
       "0   639c0e0fa4c6fbdb623b9b34    29.187459     9.7            0.5  Lisbon   \n",
       "1   639c0e0fa4c6fbdb623b9b35    24.479804     9.7            0.4  Lisbon   \n",
       "2   639c0e0fa4c6fbdb623b9b36     2.120000     9.3            1.3  Lisbon   \n",
       "3   639c0e0fa4c6fbdb623b9b37     0.860000     9.2            0.5  Lisbon   \n",
       "4   639c0e0fa4c6fbdb623b9b38    24.479804     9.7            0.3  Lisbon   \n",
       "..                       ...          ...     ...            ...     ...   \n",
       "23  63a1715f2d5abd8a01885798    17.927911     8.8            0.3  Lisbon   \n",
       "24  63a1715f2d5abd8a01885799     7.860000     8.7            1.8  Lisbon   \n",
       "25  63a1715f2d5abd8a0188579a    21.702208     9.1            0.5  Lisbon   \n",
       "26  63a1715f2d5abd8a0188579b    23.589356     8.2            2.2  Lisbon   \n",
       "27  63a1715f2d5abd8a0188579c    16.040762     8.1            0.8  Lisbon   \n",
       "\n",
       "    date_from  duration (days)            request_time  \\\n",
       "0  2023-02-13                2 2022-12-16 06:19:58.789   \n",
       "1  2023-02-13                2 2022-12-16 06:19:58.789   \n",
       "2  2023-02-13                2 2022-12-16 06:19:58.789   \n",
       "3  2023-02-13                2 2022-12-16 06:19:58.789   \n",
       "4  2023-02-13                2 2022-12-16 06:19:58.789   \n",
       "..        ...              ...                     ...   \n",
       "23 2023-02-13                2 2022-12-20 08:25:02.390   \n",
       "24 2023-02-13                2 2022-12-20 08:25:02.390   \n",
       "25 2023-02-13                2 2022-12-20 08:25:02.390   \n",
       "26 2023-02-13                2 2022-12-20 08:25:02.390   \n",
       "27 2023-02-13                2 2022-12-20 08:25:02.390   \n",
       "\n",
       "                         collection  \n",
       "0   main_coll-main-12_16_2022-06_18  \n",
       "1   main_coll-main-12_16_2022-06_18  \n",
       "2   main_coll-main-12_16_2022-06_18  \n",
       "3   main_coll-main-12_16_2022-06_18  \n",
       "4   main_coll-main-12_16_2022-06_18  \n",
       "..                              ...  \n",
       "23  main_coll-main-12_20_2022-08_24  \n",
       "24  main_coll-main-12_20_2022-08_24  \n",
       "25  main_coll-main-12_20_2022-08_24  \n",
       "26  main_coll-main-12_20_2022-08_24  \n",
       "27  main_coll-main-12_20_2022-08_24  \n",
       "\n",
       "[588 rows x 9 columns]"
      ]
     },
     "execution_count": 61,
     "metadata": {},
     "output_type": "execute_result"
    }
   ],
   "source": [
    "df_all = pd.concat(DB_df_list)\n",
    "df_all"
   ]
  },
  {
   "cell_type": "code",
   "execution_count": 62,
   "id": "35f070e2",
   "metadata": {},
   "outputs": [
    {
     "data": {
      "text/plain": [
       "<bound method IndexOpsMixin.value_counts of 0     Lisbon\n",
       "1     Lisbon\n",
       "2     Lisbon\n",
       "3     Lisbon\n",
       "4     Lisbon\n",
       "       ...  \n",
       "23    Lisbon\n",
       "24    Lisbon\n",
       "25    Lisbon\n",
       "26    Lisbon\n",
       "27    Lisbon\n",
       "Name: city, Length: 588, dtype: object>"
      ]
     },
     "execution_count": 62,
     "metadata": {},
     "output_type": "execute_result"
    }
   ],
   "source": [
    "df_all.city.value_counts"
   ]
  },
  {
   "cell_type": "code",
   "execution_count": 63,
   "id": "c3f2b4f2",
   "metadata": {},
   "outputs": [],
   "source": [
    "df_all[\"rating_per_price\"] = df_all[\"rating\"] / df_all[\"price (EUR)\"]"
   ]
  },
  {
   "cell_type": "code",
   "execution_count": 64,
   "id": "061548b9",
   "metadata": {},
   "outputs": [],
   "source": [
    "import seaborn as sns\n",
    "import matplotlib.pyplot as plt"
   ]
  },
  {
   "cell_type": "code",
   "execution_count": 65,
   "id": "daf6f389",
   "metadata": {},
   "outputs": [
    {
     "data": {
      "image/png": "[encoded data removed]",
      "text/plain": [
       "<Figure size 500x500 with 1 Axes>"
      ]
     },
     "metadata": {},
     "output_type": "display_data"
    }
   ],
   "source": [
    "sns.relplot(\n",
    "    data=df_all,    \n",
    "    x='request_time',\n",
    "    y='rating_per_price',\n",
    "    )\n",
    "plt.show()"
   ]
  },
  {
   "cell_type": "code",
   "execution_count": null,
   "id": "088f7ca3",
   "metadata": {},
   "outputs": [],
   "source": []
  }
 ],
 "metadata": {
  "jupytext": {
   "main_language": "python"
  },
  "kernelspec": {
   "display_name": "Python 3.9.13 ('py39venv')",
   "language": "python",
   "name": "python3"
  },
  "language_info": {
   "codemirror_mode": {
    "name": "ipython",
    "version": 3
   },
   "file_extension": ".py",
   "mimetype": "text/x-python",
   "name": "python",
   "nbconvert_exporter": "python",
   "pygments_lexer": "ipython3",
   "version": "3.9.13"
  },
  "vscode": {
   "interpreter": {
    "hash": "588a7288a3c1f767cb4f3433b32ea6cbbe3dc77fd72aa9718dfb9b454ded2122"
   }
  }
 },
 "nbformat": 4,
 "nbformat_minor": 5
}
