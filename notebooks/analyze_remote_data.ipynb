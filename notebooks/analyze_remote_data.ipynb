{
 "cells": [
  {
   "cell_type": "code",
   "execution_count": 1,
   "id": "91b4f78f",
   "metadata": {},
   "outputs": [],
   "source": [
    "import sys\n",
    "import os\n",
    "import logging\n",
    "\n",
    "import pandas as pd\n",
    "import seaborn as sns\n",
    "import matplotlib.pyplot as plt\n",
    "import numpy as np\n",
    "\n",
    "msg_format = \"%(asctime)s|%(levelname)s|%(filename)s:%(lineno)d| %(message)s\"\n",
    "date_format = \"%d-%b-%y %H:%M:%S\"\n",
    "logging.basicConfig(level=logging.INFO, format=msg_format, datefmt=date_format, stream=sys.stdout)\n",
    "\n",
    "pwd = os.getcwd()\n",
    "module_path = f\"{pwd}\\..\\src\"\n",
    "sys.path.insert(0, module_path)\n",
    "\n",
    "from datetime import datetime, timedelta\n",
    "from hostelprices.scrape_web import ScrapeWeb\n",
    "from hostelprices.utils import Utils, Defs \n",
    "from hostelprices.database import Database\n",
    "from hostelprices.analysis import HostelDF\n",
    "\n",
    "%load_ext autoreload\n",
    "%autoreload 2"
   ]
  },
  {
   "cell_type": "code",
   "execution_count": 2,
   "id": "9187a2a6",
   "metadata": {},
   "outputs": [],
   "source": [
    "client_id = Utils.fromConfig('mongo_client')\n",
    "data_base_name = Utils.fromConfig('data_base_name')\n",
    "# collection_name = \"main_coll-main-12_21_2022-20_19\"\n",
    "\n",
    "DB = Database(\n",
    "    client_id=client_id, data_base_name=data_base_name#, collection_name=collection_name\n",
    "    )\n",
    "DB.filterCollections(contains='-main-')"
   ]
  },
  {
   "cell_type": "code",
   "execution_count": 42,
   "id": "19607ac2",
   "metadata": {},
   "outputs": [
    {
     "data": {
      "text/plain": [
       "'1.23.1'"
      ]
     },
     "execution_count": 42,
     "metadata": {},
     "output_type": "execute_result"
    }
   ],
   "source": [
    "np.__version__"
   ]
  },
  {
   "cell_type": "code",
   "execution_count": 3,
   "id": "3309b9a9",
   "metadata": {},
   "outputs": [
    {
     "data": {
      "text/html": [
       "<div>\n",
       "<style scoped>\n",
       "    .dataframe tbody tr th:only-of-type {\n",
       "        vertical-align: middle;\n",
       "    }\n",
       "\n",
       "    .dataframe tbody tr th {\n",
       "        vertical-align: top;\n",
       "    }\n",
       "\n",
       "    .dataframe thead th {\n",
       "        text-align: right;\n",
       "    }\n",
       "</style>\n",
       "<table border=\"1\" class=\"dataframe\">\n",
       "  <thead>\n",
       "    <tr style=\"text-align: right;\">\n",
       "      <th></th>\n",
       "      <th>_id</th>\n",
       "      <th>price (EUR)</th>\n",
       "      <th>rating</th>\n",
       "      <th>distance (km)</th>\n",
       "      <th>city</th>\n",
       "      <th>date_from</th>\n",
       "      <th>duration (days)</th>\n",
       "      <th>request_time</th>\n",
       "      <th>collection</th>\n",
       "      <th>collection time</th>\n",
       "    </tr>\n",
       "  </thead>\n",
       "  <tbody>\n",
       "    <tr>\n",
       "      <th>0</th>\n",
       "      <td>639b3a91263daf73fcc83118</td>\n",
       "      <td>3.420000</td>\n",
       "      <td>6.4</td>\n",
       "      <td>1.2</td>\n",
       "      <td>Lisbon</td>\n",
       "      <td>2023-02-13</td>\n",
       "      <td>2</td>\n",
       "      <td>2022-12-15 15:17:36.889</td>\n",
       "      <td>main_coll-main-12_15_2022-15_16</td>\n",
       "      <td>2022-12-15 15:16:00</td>\n",
       "    </tr>\n",
       "    <tr>\n",
       "      <th>0</th>\n",
       "      <td>639b7767a8dd57147623e190</td>\n",
       "      <td>21.598272</td>\n",
       "      <td>9.3</td>\n",
       "      <td>0.4</td>\n",
       "      <td>Lisbon</td>\n",
       "      <td>2023-02-13</td>\n",
       "      <td>2</td>\n",
       "      <td>2022-12-15 19:37:10.584</td>\n",
       "      <td>main_coll-main-12_15_2022-19_36</td>\n",
       "      <td>2022-12-15 19:36:00</td>\n",
       "    </tr>\n",
       "    <tr>\n",
       "      <th>0</th>\n",
       "      <td>639b5622b563a42000075f63</td>\n",
       "      <td>25.354493</td>\n",
       "      <td>9.7</td>\n",
       "      <td>0.3</td>\n",
       "      <td>Lisbon</td>\n",
       "      <td>2023-02-13</td>\n",
       "      <td>2</td>\n",
       "      <td>2022-12-15 17:15:13.907</td>\n",
       "      <td>main_coll-main-12_15_2022-17_14</td>\n",
       "      <td>2022-12-15 17:14:00</td>\n",
       "    </tr>\n",
       "    <tr>\n",
       "      <th>0</th>\n",
       "      <td>639b9398a24c6b7b21440527</td>\n",
       "      <td>29.110715</td>\n",
       "      <td>9.7</td>\n",
       "      <td>0.5</td>\n",
       "      <td>Lisbon</td>\n",
       "      <td>2023-02-13</td>\n",
       "      <td>2</td>\n",
       "      <td>2022-12-15 21:37:28.206</td>\n",
       "      <td>main_coll-main-12_15_2022-21_36</td>\n",
       "      <td>2022-12-15 21:36:00</td>\n",
       "    </tr>\n",
       "    <tr>\n",
       "      <th>0</th>\n",
       "      <td>639ba1a9368d5e0c31f35488</td>\n",
       "      <td>29.110715</td>\n",
       "      <td>9.7</td>\n",
       "      <td>0.5</td>\n",
       "      <td>Lisbon</td>\n",
       "      <td>2023-02-13</td>\n",
       "      <td>2</td>\n",
       "      <td>2022-12-15 22:37:29.237</td>\n",
       "      <td>main_coll-main-12_15_2022-22_36</td>\n",
       "      <td>2022-12-15 22:36:00</td>\n",
       "    </tr>\n",
       "    <tr>\n",
       "      <th>...</th>\n",
       "      <td>...</td>\n",
       "      <td>...</td>\n",
       "      <td>...</td>\n",
       "      <td>...</td>\n",
       "      <td>...</td>\n",
       "      <td>...</td>\n",
       "      <td>...</td>\n",
       "      <td>...</td>\n",
       "      <td>...</td>\n",
       "      <td>...</td>\n",
       "    </tr>\n",
       "    <tr>\n",
       "      <th>227</th>\n",
       "      <td>63ab54fb01900892c026197b</td>\n",
       "      <td>2.490000</td>\n",
       "      <td>9.1</td>\n",
       "      <td>1.1</td>\n",
       "      <td>Seville</td>\n",
       "      <td>2023-01-17</td>\n",
       "      <td>5</td>\n",
       "      <td>2022-12-27 20:26:24.836</td>\n",
       "      <td>main_coll-main-12_27_2022-20_19</td>\n",
       "      <td>2022-12-27 20:19:00</td>\n",
       "    </tr>\n",
       "    <tr>\n",
       "      <th>227</th>\n",
       "      <td>63aaad48be5fc4ebfe046b3c</td>\n",
       "      <td>14.121634</td>\n",
       "      <td>7.8</td>\n",
       "      <td>1.0</td>\n",
       "      <td>Seville</td>\n",
       "      <td>2023-01-13</td>\n",
       "      <td>5</td>\n",
       "      <td>2022-12-27 08:29:30.725</td>\n",
       "      <td>main_coll-main-12_27_2022-08_23</td>\n",
       "      <td>2022-12-27 08:23:00</td>\n",
       "    </tr>\n",
       "    <tr>\n",
       "      <th>228</th>\n",
       "      <td>63ab54fb01900892c026197c</td>\n",
       "      <td>17.887404</td>\n",
       "      <td>7.8</td>\n",
       "      <td>1.2</td>\n",
       "      <td>Seville</td>\n",
       "      <td>2023-01-17</td>\n",
       "      <td>5</td>\n",
       "      <td>2022-12-27 20:26:24.836</td>\n",
       "      <td>main_coll-main-12_27_2022-20_19</td>\n",
       "      <td>2022-12-27 20:19:00</td>\n",
       "    </tr>\n",
       "    <tr>\n",
       "      <th>229</th>\n",
       "      <td>63ab54fb01900892c026197d</td>\n",
       "      <td>15.063077</td>\n",
       "      <td>4.0</td>\n",
       "      <td>1.6</td>\n",
       "      <td>Seville</td>\n",
       "      <td>2023-01-17</td>\n",
       "      <td>5</td>\n",
       "      <td>2022-12-27 20:26:24.836</td>\n",
       "      <td>main_coll-main-12_27_2022-20_19</td>\n",
       "      <td>2022-12-27 20:19:00</td>\n",
       "    </tr>\n",
       "    <tr>\n",
       "      <th>230</th>\n",
       "      <td>63ab54fb01900892c026197e</td>\n",
       "      <td>15.063077</td>\n",
       "      <td>4.9</td>\n",
       "      <td>1.6</td>\n",
       "      <td>Seville</td>\n",
       "      <td>2023-01-17</td>\n",
       "      <td>5</td>\n",
       "      <td>2022-12-27 20:26:24.836</td>\n",
       "      <td>main_coll-main-12_27_2022-20_19</td>\n",
       "      <td>2022-12-27 20:19:00</td>\n",
       "    </tr>\n",
       "  </tbody>\n",
       "</table>\n",
       "<p>3505 rows × 10 columns</p>\n",
       "</div>"
      ],
      "text/plain": [
       "                          _id  price (EUR)  rating  distance (km)     city  \\\n",
       "0    639b3a91263daf73fcc83118     3.420000     6.4            1.2   Lisbon   \n",
       "0    639b7767a8dd57147623e190    21.598272     9.3            0.4   Lisbon   \n",
       "0    639b5622b563a42000075f63    25.354493     9.7            0.3   Lisbon   \n",
       "0    639b9398a24c6b7b21440527    29.110715     9.7            0.5   Lisbon   \n",
       "0    639ba1a9368d5e0c31f35488    29.110715     9.7            0.5   Lisbon   \n",
       "..                        ...          ...     ...            ...      ...   \n",
       "227  63ab54fb01900892c026197b     2.490000     9.1            1.1  Seville   \n",
       "227  63aaad48be5fc4ebfe046b3c    14.121634     7.8            1.0  Seville   \n",
       "228  63ab54fb01900892c026197c    17.887404     7.8            1.2  Seville   \n",
       "229  63ab54fb01900892c026197d    15.063077     4.0            1.6  Seville   \n",
       "230  63ab54fb01900892c026197e    15.063077     4.9            1.6  Seville   \n",
       "\n",
       "     date_from  duration (days)            request_time  \\\n",
       "0   2023-02-13                2 2022-12-15 15:17:36.889   \n",
       "0   2023-02-13                2 2022-12-15 19:37:10.584   \n",
       "0   2023-02-13                2 2022-12-15 17:15:13.907   \n",
       "0   2023-02-13                2 2022-12-15 21:37:28.206   \n",
       "0   2023-02-13                2 2022-12-15 22:37:29.237   \n",
       "..         ...              ...                     ...   \n",
       "227 2023-01-17                5 2022-12-27 20:26:24.836   \n",
       "227 2023-01-13                5 2022-12-27 08:29:30.725   \n",
       "228 2023-01-17                5 2022-12-27 20:26:24.836   \n",
       "229 2023-01-17                5 2022-12-27 20:26:24.836   \n",
       "230 2023-01-17                5 2022-12-27 20:26:24.836   \n",
       "\n",
       "                          collection     collection time  \n",
       "0    main_coll-main-12_15_2022-15_16 2022-12-15 15:16:00  \n",
       "0    main_coll-main-12_15_2022-19_36 2022-12-15 19:36:00  \n",
       "0    main_coll-main-12_15_2022-17_14 2022-12-15 17:14:00  \n",
       "0    main_coll-main-12_15_2022-21_36 2022-12-15 21:36:00  \n",
       "0    main_coll-main-12_15_2022-22_36 2022-12-15 22:36:00  \n",
       "..                               ...                 ...  \n",
       "227  main_coll-main-12_27_2022-20_19 2022-12-27 20:19:00  \n",
       "227  main_coll-main-12_27_2022-08_23 2022-12-27 08:23:00  \n",
       "228  main_coll-main-12_27_2022-20_19 2022-12-27 20:19:00  \n",
       "229  main_coll-main-12_27_2022-20_19 2022-12-27 20:19:00  \n",
       "230  main_coll-main-12_27_2022-20_19 2022-12-27 20:19:00  \n",
       "\n",
       "[3505 rows x 10 columns]"
      ]
     },
     "execution_count": 3,
     "metadata": {},
     "output_type": "execute_result"
    }
   ],
   "source": [
    "df_all = DB.getPandasDf()\n",
    "df_all"
   ]
  },
  {
   "cell_type": "code",
   "execution_count": 4,
   "id": "7fbcf1a1",
   "metadata": {},
   "outputs": [
    {
     "data": {
      "text/html": [
       "<div>\n",
       "<style scoped>\n",
       "    .dataframe tbody tr th:only-of-type {\n",
       "        vertical-align: middle;\n",
       "    }\n",
       "\n",
       "    .dataframe tbody tr th {\n",
       "        vertical-align: top;\n",
       "    }\n",
       "\n",
       "    .dataframe thead th {\n",
       "        text-align: right;\n",
       "    }\n",
       "</style>\n",
       "<table border=\"1\" class=\"dataframe\">\n",
       "  <thead>\n",
       "    <tr style=\"text-align: right;\">\n",
       "      <th></th>\n",
       "      <th>_id</th>\n",
       "      <th>price (EUR)</th>\n",
       "      <th>rating</th>\n",
       "      <th>distance (km)</th>\n",
       "      <th>city</th>\n",
       "      <th>date_from</th>\n",
       "      <th>duration (days)</th>\n",
       "      <th>request_time</th>\n",
       "      <th>collection</th>\n",
       "      <th>collection time</th>\n",
       "      <th>date from</th>\n",
       "      <th>request time</th>\n",
       "      <th>rating per price</th>\n",
       "      <th>days before</th>\n",
       "    </tr>\n",
       "  </thead>\n",
       "  <tbody>\n",
       "    <tr>\n",
       "      <th>0</th>\n",
       "      <td>639b3a91263daf73fcc83118</td>\n",
       "      <td>3.420000</td>\n",
       "      <td>6.4</td>\n",
       "      <td>1.2</td>\n",
       "      <td>Lisbon</td>\n",
       "      <td>2023-02-13</td>\n",
       "      <td>2</td>\n",
       "      <td>2022-12-15 15:17:36.889</td>\n",
       "      <td>main_coll-main-12_15_2022-15_16</td>\n",
       "      <td>2022-12-15 15:16:00</td>\n",
       "      <td>2023-02-13</td>\n",
       "      <td>2022-12-15 15:17:36.889</td>\n",
       "      <td>1.871345</td>\n",
       "      <td>59.363889</td>\n",
       "    </tr>\n",
       "    <tr>\n",
       "      <th>0</th>\n",
       "      <td>639b7767a8dd57147623e190</td>\n",
       "      <td>21.598272</td>\n",
       "      <td>9.3</td>\n",
       "      <td>0.4</td>\n",
       "      <td>Lisbon</td>\n",
       "      <td>2023-02-13</td>\n",
       "      <td>2</td>\n",
       "      <td>2022-12-15 19:37:10.584</td>\n",
       "      <td>main_coll-main-12_15_2022-19_36</td>\n",
       "      <td>2022-12-15 19:36:00</td>\n",
       "      <td>2023-02-13</td>\n",
       "      <td>2022-12-15 19:37:10.584</td>\n",
       "      <td>0.430590</td>\n",
       "      <td>59.183333</td>\n",
       "    </tr>\n",
       "    <tr>\n",
       "      <th>0</th>\n",
       "      <td>639b5622b563a42000075f63</td>\n",
       "      <td>25.354493</td>\n",
       "      <td>9.7</td>\n",
       "      <td>0.3</td>\n",
       "      <td>Lisbon</td>\n",
       "      <td>2023-02-13</td>\n",
       "      <td>2</td>\n",
       "      <td>2022-12-15 17:15:13.907</td>\n",
       "      <td>main_coll-main-12_15_2022-17_14</td>\n",
       "      <td>2022-12-15 17:14:00</td>\n",
       "      <td>2023-02-13</td>\n",
       "      <td>2022-12-15 17:15:13.907</td>\n",
       "      <td>0.382575</td>\n",
       "      <td>59.281944</td>\n",
       "    </tr>\n",
       "    <tr>\n",
       "      <th>0</th>\n",
       "      <td>639b9398a24c6b7b21440527</td>\n",
       "      <td>29.110715</td>\n",
       "      <td>9.7</td>\n",
       "      <td>0.5</td>\n",
       "      <td>Lisbon</td>\n",
       "      <td>2023-02-13</td>\n",
       "      <td>2</td>\n",
       "      <td>2022-12-15 21:37:28.206</td>\n",
       "      <td>main_coll-main-12_15_2022-21_36</td>\n",
       "      <td>2022-12-15 21:36:00</td>\n",
       "      <td>2023-02-13</td>\n",
       "      <td>2022-12-15 21:37:28.206</td>\n",
       "      <td>0.333211</td>\n",
       "      <td>59.100000</td>\n",
       "    </tr>\n",
       "    <tr>\n",
       "      <th>0</th>\n",
       "      <td>639ba1a9368d5e0c31f35488</td>\n",
       "      <td>29.110715</td>\n",
       "      <td>9.7</td>\n",
       "      <td>0.5</td>\n",
       "      <td>Lisbon</td>\n",
       "      <td>2023-02-13</td>\n",
       "      <td>2</td>\n",
       "      <td>2022-12-15 22:37:29.237</td>\n",
       "      <td>main_coll-main-12_15_2022-22_36</td>\n",
       "      <td>2022-12-15 22:36:00</td>\n",
       "      <td>2023-02-13</td>\n",
       "      <td>2022-12-15 22:37:29.237</td>\n",
       "      <td>0.333211</td>\n",
       "      <td>59.058333</td>\n",
       "    </tr>\n",
       "    <tr>\n",
       "      <th>...</th>\n",
       "      <td>...</td>\n",
       "      <td>...</td>\n",
       "      <td>...</td>\n",
       "      <td>...</td>\n",
       "      <td>...</td>\n",
       "      <td>...</td>\n",
       "      <td>...</td>\n",
       "      <td>...</td>\n",
       "      <td>...</td>\n",
       "      <td>...</td>\n",
       "      <td>...</td>\n",
       "      <td>...</td>\n",
       "      <td>...</td>\n",
       "      <td>...</td>\n",
       "    </tr>\n",
       "    <tr>\n",
       "      <th>227</th>\n",
       "      <td>63ab54fb01900892c026197b</td>\n",
       "      <td>2.490000</td>\n",
       "      <td>9.1</td>\n",
       "      <td>1.1</td>\n",
       "      <td>Seville</td>\n",
       "      <td>2023-01-17</td>\n",
       "      <td>5</td>\n",
       "      <td>2022-12-27 20:26:24.836</td>\n",
       "      <td>main_coll-main-12_27_2022-20_19</td>\n",
       "      <td>2022-12-27 20:19:00</td>\n",
       "      <td>2023-01-17</td>\n",
       "      <td>2022-12-27 20:26:24.836</td>\n",
       "      <td>3.654618</td>\n",
       "      <td>20.153472</td>\n",
       "    </tr>\n",
       "    <tr>\n",
       "      <th>227</th>\n",
       "      <td>63aaad48be5fc4ebfe046b3c</td>\n",
       "      <td>14.121634</td>\n",
       "      <td>7.8</td>\n",
       "      <td>1.0</td>\n",
       "      <td>Seville</td>\n",
       "      <td>2023-01-13</td>\n",
       "      <td>5</td>\n",
       "      <td>2022-12-27 08:29:30.725</td>\n",
       "      <td>main_coll-main-12_27_2022-08_23</td>\n",
       "      <td>2022-12-27 08:23:00</td>\n",
       "      <td>2023-01-13</td>\n",
       "      <td>2022-12-27 08:29:30.725</td>\n",
       "      <td>0.552344</td>\n",
       "      <td>16.650694</td>\n",
       "    </tr>\n",
       "    <tr>\n",
       "      <th>228</th>\n",
       "      <td>63ab54fb01900892c026197c</td>\n",
       "      <td>17.887404</td>\n",
       "      <td>7.8</td>\n",
       "      <td>1.2</td>\n",
       "      <td>Seville</td>\n",
       "      <td>2023-01-17</td>\n",
       "      <td>5</td>\n",
       "      <td>2022-12-27 20:26:24.836</td>\n",
       "      <td>main_coll-main-12_27_2022-20_19</td>\n",
       "      <td>2022-12-27 20:19:00</td>\n",
       "      <td>2023-01-17</td>\n",
       "      <td>2022-12-27 20:26:24.836</td>\n",
       "      <td>0.436061</td>\n",
       "      <td>20.153472</td>\n",
       "    </tr>\n",
       "    <tr>\n",
       "      <th>229</th>\n",
       "      <td>63ab54fb01900892c026197d</td>\n",
       "      <td>15.063077</td>\n",
       "      <td>4.0</td>\n",
       "      <td>1.6</td>\n",
       "      <td>Seville</td>\n",
       "      <td>2023-01-17</td>\n",
       "      <td>5</td>\n",
       "      <td>2022-12-27 20:26:24.836</td>\n",
       "      <td>main_coll-main-12_27_2022-20_19</td>\n",
       "      <td>2022-12-27 20:19:00</td>\n",
       "      <td>2023-01-17</td>\n",
       "      <td>2022-12-27 20:26:24.836</td>\n",
       "      <td>0.265550</td>\n",
       "      <td>20.153472</td>\n",
       "    </tr>\n",
       "    <tr>\n",
       "      <th>230</th>\n",
       "      <td>63ab54fb01900892c026197e</td>\n",
       "      <td>15.063077</td>\n",
       "      <td>4.9</td>\n",
       "      <td>1.6</td>\n",
       "      <td>Seville</td>\n",
       "      <td>2023-01-17</td>\n",
       "      <td>5</td>\n",
       "      <td>2022-12-27 20:26:24.836</td>\n",
       "      <td>main_coll-main-12_27_2022-20_19</td>\n",
       "      <td>2022-12-27 20:19:00</td>\n",
       "      <td>2023-01-17</td>\n",
       "      <td>2022-12-27 20:26:24.836</td>\n",
       "      <td>0.325299</td>\n",
       "      <td>20.153472</td>\n",
       "    </tr>\n",
       "  </tbody>\n",
       "</table>\n",
       "<p>3505 rows × 14 columns</p>\n",
       "</div>"
      ],
      "text/plain": [
       "                          _id  price (EUR)  rating  distance (km)     city  \\\n",
       "0    639b3a91263daf73fcc83118     3.420000     6.4            1.2   Lisbon   \n",
       "0    639b7767a8dd57147623e190    21.598272     9.3            0.4   Lisbon   \n",
       "0    639b5622b563a42000075f63    25.354493     9.7            0.3   Lisbon   \n",
       "0    639b9398a24c6b7b21440527    29.110715     9.7            0.5   Lisbon   \n",
       "0    639ba1a9368d5e0c31f35488    29.110715     9.7            0.5   Lisbon   \n",
       "..                        ...          ...     ...            ...      ...   \n",
       "227  63ab54fb01900892c026197b     2.490000     9.1            1.1  Seville   \n",
       "227  63aaad48be5fc4ebfe046b3c    14.121634     7.8            1.0  Seville   \n",
       "228  63ab54fb01900892c026197c    17.887404     7.8            1.2  Seville   \n",
       "229  63ab54fb01900892c026197d    15.063077     4.0            1.6  Seville   \n",
       "230  63ab54fb01900892c026197e    15.063077     4.9            1.6  Seville   \n",
       "\n",
       "     date_from  duration (days)            request_time  \\\n",
       "0   2023-02-13                2 2022-12-15 15:17:36.889   \n",
       "0   2023-02-13                2 2022-12-15 19:37:10.584   \n",
       "0   2023-02-13                2 2022-12-15 17:15:13.907   \n",
       "0   2023-02-13                2 2022-12-15 21:37:28.206   \n",
       "0   2023-02-13                2 2022-12-15 22:37:29.237   \n",
       "..         ...              ...                     ...   \n",
       "227 2023-01-17                5 2022-12-27 20:26:24.836   \n",
       "227 2023-01-13                5 2022-12-27 08:29:30.725   \n",
       "228 2023-01-17                5 2022-12-27 20:26:24.836   \n",
       "229 2023-01-17                5 2022-12-27 20:26:24.836   \n",
       "230 2023-01-17                5 2022-12-27 20:26:24.836   \n",
       "\n",
       "                          collection     collection time  date from  \\\n",
       "0    main_coll-main-12_15_2022-15_16 2022-12-15 15:16:00 2023-02-13   \n",
       "0    main_coll-main-12_15_2022-19_36 2022-12-15 19:36:00 2023-02-13   \n",
       "0    main_coll-main-12_15_2022-17_14 2022-12-15 17:14:00 2023-02-13   \n",
       "0    main_coll-main-12_15_2022-21_36 2022-12-15 21:36:00 2023-02-13   \n",
       "0    main_coll-main-12_15_2022-22_36 2022-12-15 22:36:00 2023-02-13   \n",
       "..                               ...                 ...        ...   \n",
       "227  main_coll-main-12_27_2022-20_19 2022-12-27 20:19:00 2023-01-17   \n",
       "227  main_coll-main-12_27_2022-08_23 2022-12-27 08:23:00 2023-01-13   \n",
       "228  main_coll-main-12_27_2022-20_19 2022-12-27 20:19:00 2023-01-17   \n",
       "229  main_coll-main-12_27_2022-20_19 2022-12-27 20:19:00 2023-01-17   \n",
       "230  main_coll-main-12_27_2022-20_19 2022-12-27 20:19:00 2023-01-17   \n",
       "\n",
       "               request time  rating per price  days before  \n",
       "0   2022-12-15 15:17:36.889          1.871345    59.363889  \n",
       "0   2022-12-15 19:37:10.584          0.430590    59.183333  \n",
       "0   2022-12-15 17:15:13.907          0.382575    59.281944  \n",
       "0   2022-12-15 21:37:28.206          0.333211    59.100000  \n",
       "0   2022-12-15 22:37:29.237          0.333211    59.058333  \n",
       "..                      ...               ...          ...  \n",
       "227 2022-12-27 20:26:24.836          3.654618    20.153472  \n",
       "227 2022-12-27 08:29:30.725          0.552344    16.650694  \n",
       "228 2022-12-27 20:26:24.836          0.436061    20.153472  \n",
       "229 2022-12-27 20:26:24.836          0.265550    20.153472  \n",
       "230 2022-12-27 20:26:24.836          0.325299    20.153472  \n",
       "\n",
       "[3505 rows x 14 columns]"
      ]
     },
     "execution_count": 4,
     "metadata": {},
     "output_type": "execute_result"
    }
   ],
   "source": [
    "hdf = HostelDF(df_all)\n",
    "hdf"
   ]
  },
  {
   "cell_type": "code",
   "execution_count": 40,
   "id": "d669c120",
   "metadata": {},
   "outputs": [
    {
     "data": {
      "text/plain": [
       "366"
      ]
     },
     "execution_count": 40,
     "metadata": {},
     "output_type": "execute_result"
    }
   ],
   "source": [
    "hdf_sel = hdf.filter((hdf.city=='Lisbon') & (hdf.date_from=='2023-01-13') & (hdf[\"distance (km)\"]<10) & (hdf[\"rating\"]>5) & (hdf[\"duration (days)\"]==5))\n",
    "len(hdf_sel)"
   ]
  },
  {
   "cell_type": "code",
   "execution_count": 6,
   "id": "35f070e2",
   "metadata": {},
   "outputs": [
    {
     "name": "stdout",
     "output_type": "stream",
     "text": [
      "Lisbon    294\n",
      "Name: city, dtype: int64\n",
      "2023-01-13    294\n",
      "Name: date_from, dtype: int64\n",
      "16.650694    30\n",
      "17.154167    30\n",
      "17.650694    30\n",
      "16.153472    30\n",
      "20.650694    29\n",
      "19.651389    29\n",
      "22.153472    29\n",
      "20.153472    29\n",
      "18.651389    29\n",
      "18.154167    29\n",
      "Name: days before, dtype: int64\n",
      "5    294\n",
      "Name: duration (days), dtype: int64\n"
     ]
    }
   ],
   "source": [
    "print(hdf_sel.city.value_counts())\n",
    "print(hdf_sel.date_from.value_counts())\n",
    "print(hdf_sel[Defs.colName('time_before')].value_counts())\n",
    "print(hdf_sel[Defs.colName('duration')].value_counts())"
   ]
  },
  {
   "cell_type": "code",
   "execution_count": 7,
   "id": "daf6f389",
   "metadata": {},
   "outputs": [
    {
     "name": "stderr",
     "output_type": "stream",
     "text": [
      "c:\\Users\\fsgl1\\Documents\\programming\\hostelprices\\notebooks\\..\\src\\hostelprices\\analysis.py:195: UserWarning: Matplotlib is currently using module://matplotlib_inline.backend_inline, which is a non-GUI backend, so cannot show the figure.\n",
      "  fig.show()\n",
      "c:\\Users\\fsgl1\\Documents\\programming\\hostelprices\\notebooks\\..\\src\\hostelprices\\analysis.py:195: UserWarning: Matplotlib is currently using module://matplotlib_inline.backend_inline, which is a non-GUI backend, so cannot show the figure.\n",
      "  fig.show()\n"
     ]
    },
    {
     "data": {
      "image/png": "[encoded data removed]",
      "text/plain": [
       "<Figure size 720x432 with 2 Axes>"
      ]
     },
     "metadata": {
      "needs_background": "light"
     },
     "output_type": "display_data"
    },
    {
     "data": {
      "image/png": "[encoded data removed]",
      "text/plain": [
       "<Figure size 720x432 with 2 Axes>"
      ]
     },
     "metadata": {
      "needs_background": "light"
     },
     "output_type": "display_data"
    }
   ],
   "source": [
    "_ = hdf_sel.plot(\n",
    "    x=Defs.colName('rating'), y=Defs.colName('price'), \n",
    "    col=Defs.colName('date_from'),\n",
    "    hist=True, \n",
    "    xlim=(4,10), ylim=(0,40), nbins=10\n",
    "    )\n",
    "_ = hdf_sel.plot(\n",
    "    x=Defs.colName('distance'), y=Defs.colName('price'), \n",
    "    col=Defs.colName('date_from'),\n",
    "    hist=True, \n",
    "    xlim=(0,5), ylim=(0,40), nbins=10\n",
    "    )"
   ]
  },
  {
   "cell_type": "code",
   "execution_count": 8,
   "id": "088f7ca3",
   "metadata": {},
   "outputs": [
    {
     "name": "stderr",
     "output_type": "stream",
     "text": [
      "c:\\Users\\fsgl1\\Documents\\programming\\hostelprices\\notebooks\\..\\src\\hostelprices\\analysis.py:195: UserWarning: Matplotlib is currently using module://matplotlib_inline.backend_inline, which is a non-GUI backend, so cannot show the figure.\n",
      "  fig.show()\n",
      "c:\\Users\\fsgl1\\Documents\\programming\\hostelprices\\notebooks\\..\\src\\hostelprices\\analysis.py:195: UserWarning: Matplotlib is currently using module://matplotlib_inline.backend_inline, which is a non-GUI backend, so cannot show the figure.\n",
      "  fig.show()\n"
     ]
    },
    {
     "data": {
      "image/png": "[encoded data removed]",
      "text/plain": [
       "<Figure size 720x432 with 2 Axes>"
      ]
     },
     "metadata": {
      "needs_background": "light"
     },
     "output_type": "display_data"
    },
    {
     "data": {
      "image/png": "[encoded data removed]",
      "text/plain": [
       "<Figure size 720x432 with 2 Axes>"
      ]
     },
     "metadata": {
      "needs_background": "light"
     },
     "output_type": "display_data"
    }
   ],
   "source": [
    "_ = hdf_sel.plot(\n",
    "    x=Defs.colName('rating'), y=Defs.colName('price'), \n",
    "    col=Defs.colName('date_from'),\n",
    "    hist=True, \n",
    "    xlim=(4,10), ylim=(0,40), nbins=10\n",
    "    )\n",
    "_ = hdf_sel.plot(\n",
    "    x=Defs.colName('distance'), y=Defs.colName('price'), \n",
    "    col=Defs.colName('date_from'),\n",
    "    hist=True, \n",
    "    xlim=(0,5), ylim=(0,40), nbins=10\n",
    "    )"
   ]
  },
  {
   "cell_type": "code",
   "execution_count": 33,
   "id": "9c5b1e0c",
   "metadata": {},
   "outputs": [],
   "source": [
    "def processed_values_plot(axs, city='Lisbon', date_from='2023-01-13', max_dist=5, min_rating=5, duration=5, label=None):\n",
    "    hdf_sel = hdf.filter(\n",
    "        (hdf.city==city) & (hdf.date_from==date_from) & (hdf[\"distance (km)\"]<max_dist) & (hdf[\"rating\"]>min_rating) & (hdf[\"duration (days)\"]==duration)\n",
    "        )\n",
    "    time_before, avg_price, n_hostels = hdf_sel.cummulated()\n",
    "    axs[0].plot(time_before, avg_price, label=label)\n",
    "    axs[0].set_xlabel('days before')\n",
    "    axs[0].set_ylabel('lowest price')\n",
    "    axs[1].plot(time_before, n_hostels, label=label)\n",
    "    axs[1].set_xlabel('days before')\n",
    "    axs[1].set_ylabel('number of hostels')"
   ]
  },
  {
   "cell_type": "code",
   "execution_count": 38,
   "id": "a9bc762d",
   "metadata": {},
   "outputs": [
    {
     "name": "stderr",
     "output_type": "stream",
     "text": [
      "C:\\Users\\fsgl1\\AppData\\Local\\Temp\\ipykernel_33056\\3702109576.py:6: UserWarning: Matplotlib is currently using module://matplotlib_inline.backend_inline, which is a non-GUI backend, so cannot show the figure.\n",
      "  fig.show()\n"
     ]
    },
    {
     "data": {
      "image/png": "[encoded data removed]",
      "text/plain": [
       "<Figure size 720x360 with 2 Axes>"
      ]
     },
     "metadata": {
      "needs_background": "light"
     },
     "output_type": "display_data"
    }
   ],
   "source": [
    "fig, axs = plt.subplots(1,2)\n",
    "fig.set_size_inches(10,5)\n",
    "processed_values_plot(axs, duration=5, label='min_rating=5')\n",
    "processed_values_plot(axs, duration=5, min_rating=9, label='min_rating=9')\n",
    "plt.legend()\n",
    "fig.show()"
   ]
  },
  {
   "cell_type": "code",
   "execution_count": 39,
   "id": "d48ff2a1",
   "metadata": {},
   "outputs": [
    {
     "name": "stderr",
     "output_type": "stream",
     "text": [
      "C:\\Users\\fsgl1\\AppData\\Local\\Temp\\ipykernel_33056\\523508498.py:6: UserWarning: Matplotlib is currently using module://matplotlib_inline.backend_inline, which is a non-GUI backend, so cannot show the figure.\n",
      "  fig.show()\n"
     ]
    },
    {
     "data": {
      "image/png": "[encoded data removed]",
      "text/plain": [
       "<Figure size 720x360 with 2 Axes>"
      ]
     },
     "metadata": {
      "needs_background": "light"
     },
     "output_type": "display_data"
    }
   ],
   "source": [
    "fig, axs = plt.subplots(1,2)\n",
    "fig.set_size_inches(10,5)\n",
    "processed_values_plot(axs, duration=1, label='min_rating=5')\n",
    "processed_values_plot(axs, duration=1, min_rating=9, label='min_rating=9')\n",
    "plt.legend()\n",
    "fig.show()"
   ]
  },
  {
   "cell_type": "code",
   "execution_count": null,
   "id": "4649ebc7",
   "metadata": {},
   "outputs": [],
   "source": []
  },
  {
   "cell_type": "code",
   "execution_count": null,
   "id": "18a1ae0f",
   "metadata": {},
   "outputs": [],
   "source": []
  }
 ],
 "metadata": {
  "jupytext": {
   "main_language": "python"
  },
  "kernelspec": {
   "display_name": "Python 3.9.13 ('py39venv')",
   "language": "python",
   "name": "python3"
  },
  "language_info": {
   "codemirror_mode": {
    "name": "ipython",
    "version": 3
   },
   "file_extension": ".py",
   "mimetype": "text/x-python",
   "name": "python",
   "nbconvert_exporter": "python",
   "pygments_lexer": "ipython3",
   "version": "3.9.13"
  },
  "vscode": {
   "interpreter": {
    "hash": "588a7288a3c1f767cb4f3433b32ea6cbbe3dc77fd72aa9718dfb9b454ded2122"
   }
  }
 },
 "nbformat": 4,
 "nbformat_minor": 5
}
