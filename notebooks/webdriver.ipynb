{
 "cells": [
  {
   "cell_type": "code",
   "execution_count": 1,
   "metadata": {},
   "outputs": [
    {
     "name": "stderr",
     "output_type": "stream",
     "text": [
      "/usr/lib/python3/dist-packages/requests/__init__.py:89: RequestsDependencyWarning: urllib3 (1.26.12) or chardet (3.0.4) doesn't match a supported version!\n",
      "  warnings.warn(\"urllib3 ({}) or chardet ({}) doesn't match a supported \"\n"
     ]
    }
   ],
   "source": [
    "import sys\n",
    "import os\n",
    "import logging\n",
    "\n",
    "msg_format = \"%(asctime)s|%(levelname)s|%(filename)s:%(lineno)d| %(message)s\"\n",
    "date_format = \"%d-%b-%y %H:%M:%S\"\n",
    "logging.basicConfig(level=logging.INFO, format=msg_format, datefmt=date_format, stream=sys.stdout)\n",
    "\n",
    "pwd = os.getcwd()\n",
    "module_path = f\"{pwd}\\..\\src\"\n",
    "sys.path.insert(0, module_path)\n",
    "\n",
    "from hostelprices.utils import Utils\n",
    "\n",
    "from bs4 import BeautifulSoup\n",
    "\n",
    "from selenium import webdriver\n",
    "from selenium.webdriver.firefox.service import Service\n",
    "from selenium.webdriver.firefox.options import Options\n",
    "from webdriver_manager.firefox import GeckoDriverManager\n",
    "\n",
    "from hostelprices.scrape_web import ScrapeWeb\n",
    "\n",
    "%load_ext autoreload\n",
    "%autoreload 2"
   ]
  },
  {
   "cell_type": "code",
   "execution_count": 2,
   "metadata": {},
   "outputs": [],
   "source": [
    "city_list = Utils.fromConfig('city_selection')\n",
    "date_from_list = Utils.fromConfig('date_selection')\n",
    "duration_list = Utils.fromConfig('duration_selection')\n",
    "max_pages = Utils.fromConfig('max_pages')"
   ]
  },
  {
   "cell_type": "code",
   "execution_count": 3,
   "metadata": {},
   "outputs": [
    {
     "data": {
      "text/plain": [
       "'https://www.hostelworld.com/s?q=Seville,%20Spain&country=Spain&city=Seville&type=city&id=1565&from=2023-2-13&to=2023-2-14&guests=1&page=1'"
      ]
     },
     "execution_count": 3,
     "metadata": {},
     "output_type": "execute_result"
    }
   ],
   "source": [
    "url = ScrapeWeb.createUrl(country='Spain', city='Seville', date_from=date_from_list[0], duration=1, page=1)\n",
    "url"
   ]
  },
  {
   "cell_type": "code",
   "execution_count": 4,
   "metadata": {},
   "outputs": [],
   "source": [
    "from webdriver_manager.chrome import ChromeDriverManager\n",
    "from selenium.webdriver.chrome.service import Service as ChromeService\n",
    "\n",
    "#service = ChromeService(executable_path=ChromeDriverManager().install())\n",
    "\n",
    "#driver = webdriver.Chrome(executable_path=r'/usr/bin/chromedriver')"
   ]
  },
  {
   "cell_type": "code",
   "execution_count": 5,
   "metadata": {},
   "outputs": [],
   "source": [
    "def loadSoup(url):\n",
    "    options = Options()\n",
    "    options.headless = True\n",
    "\n",
    "    service = Service(GeckoDriverManager().install())\n",
    "\n",
    "    log_dir = Utils.logPath()\n",
    "    log_path = os.path.join(log_dir, 'geckodriver.log')\n",
    "\n",
    "    driver = webdriver.Firefox(\n",
    "        #executable_path=r'/usr/bin/geckodriver',\n",
    "        service=service, \n",
    "        options=options, \n",
    "        #log_path=log_path\n",
    "        )\n",
    "    \n",
    "    #driver = webdriver.Chrome(executable_path=r'/usr/bin/chromedriver')\n",
    "    # selenium 4\n",
    "    # from selenium import webdriver\n",
    "    # from selenium.webdriver.chrome.service import Service as ChromiumService\n",
    "    # from webdriver_manager.chrome import ChromeDriverManager\n",
    "    # from webdriver_manager.core.utils import ChromeType\n",
    "\n",
    "    # driver = webdriver.Chrome(service=ChromiumService(ChromeDriverManager(chrome_type=ChromeType.CHROMIUM).install()))\n",
    "\n",
    "    driver.get(url)    \n",
    "    pg_src = driver.page_source\n",
    "    soup = BeautifulSoup(pg_src, 'html.parser')\n",
    "    \n",
    "    driver.quit()\n",
    "    driver.close()\n",
    "\n",
    "    return soup"
   ]
  },
  {
   "cell_type": "code",
   "execution_count": 6,
   "metadata": {},
   "outputs": [
    {
     "name": "stdout",
     "output_type": "stream",
     "text": [
      "09-Dec-22 12:18:32|INFO|logger.py:11| ====== WebDriver manager ======\n",
      "09-Dec-22 12:18:32|INFO|logger.py:11| Get LATEST geckodriver version for 107.0 firefox\n"
     ]
    },
    {
     "name": "stderr",
     "output_type": "stream",
     "text": [
      "[WDM] - Downloading: 19.0kB [00:00, 7.09MB/s]                   \n"
     ]
    },
    {
     "name": "stdout",
     "output_type": "stream",
     "text": [
      "09-Dec-22 12:18:38|INFO|logger.py:11| Driver [/home/fsgl/.wdm/drivers/geckodriver/linux64/0.32/geckodriver] found in cache\n"
     ]
    },
    {
     "ename": "InvalidSessionIdException",
     "evalue": "Message: WebDriver session does not exist, or is not active\nStacktrace:\nRemoteError@chrome://remote/content/shared/RemoteError.sys.mjs:8:8\nWebDriverError@chrome://remote/content/shared/webdriver/Errors.sys.mjs:182:5\nInvalidSessionIDError@chrome://remote/content/shared/webdriver/Errors.sys.mjs:353:5\nassert.that/<@chrome://remote/content/shared/webdriver/Assert.sys.mjs:485:13\nassert.session@chrome://remote/content/shared/webdriver/Assert.sys.mjs:37:4\ndespatch@chrome://remote/content/marionette/server.sys.mjs:300:19\nexecute@chrome://remote/content/marionette/server.sys.mjs:276:16\nonPacket/<@chrome://remote/content/marionette/server.sys.mjs:249:20\nonPacket@chrome://remote/content/marionette/server.sys.mjs:250:9\n_onJSONObjectReady/<@chrome://remote/content/marionette/transport.sys.mjs:498:20\n",
     "output_type": "error",
     "traceback": [
      "\u001b[0;31m---------------------------------------------------------------------------\u001b[0m",
      "\u001b[0;31mInvalidSessionIdException\u001b[0m                 Traceback (most recent call last)",
      "Cell \u001b[0;32mIn [6], line 1\u001b[0m\n\u001b[0;32m----> 1\u001b[0m dr \u001b[39m=\u001b[39m loadSoup(url)\n",
      "Cell \u001b[0;32mIn [5], line 27\u001b[0m, in \u001b[0;36mloadSoup\u001b[0;34m(url)\u001b[0m\n\u001b[1;32m     17\u001b[0m \u001b[39m#driver = webdriver.Chrome(executable_path=r'/usr/bin/chromedriver')\u001b[39;00m\n\u001b[1;32m     18\u001b[0m \u001b[39m# selenium 4\u001b[39;00m\n\u001b[1;32m     19\u001b[0m \u001b[39m# from selenium import webdriver\u001b[39;00m\n\u001b[0;32m   (...)\u001b[0m\n\u001b[1;32m     23\u001b[0m \n\u001b[1;32m     24\u001b[0m \u001b[39m# driver = webdriver.Chrome(service=ChromiumService(ChromeDriverManager(chrome_type=ChromeType.CHROMIUM).install()))\u001b[39;00m\n\u001b[1;32m     26\u001b[0m driver\u001b[39m.\u001b[39mget(url)    \n\u001b[0;32m---> 27\u001b[0m pg_src \u001b[39m=\u001b[39m driver\u001b[39m.\u001b[39;49mpage_source\n\u001b[1;32m     28\u001b[0m soup \u001b[39m=\u001b[39m BeautifulSoup(pg_src, \u001b[39m'\u001b[39m\u001b[39mhtml.parser\u001b[39m\u001b[39m'\u001b[39m)\n\u001b[1;32m     30\u001b[0m driver\u001b[39m.\u001b[39mquit()\n",
      "File \u001b[0;32m~/.local/lib/python3.8/site-packages/selenium/webdriver/remote/webdriver.py:920\u001b[0m, in \u001b[0;36mWebDriver.page_source\u001b[0;34m(self)\u001b[0m\n\u001b[1;32m    910\u001b[0m \u001b[39m@property\u001b[39m\n\u001b[1;32m    911\u001b[0m \u001b[39mdef\u001b[39;00m \u001b[39mpage_source\u001b[39m(\u001b[39mself\u001b[39m) \u001b[39m-\u001b[39m\u001b[39m>\u001b[39m \u001b[39mstr\u001b[39m:\n\u001b[1;32m    912\u001b[0m     \u001b[39m\"\"\"\u001b[39;00m\n\u001b[1;32m    913\u001b[0m \u001b[39m    Gets the source of the current page.\u001b[39;00m\n\u001b[1;32m    914\u001b[0m \n\u001b[0;32m   (...)\u001b[0m\n\u001b[1;32m    918\u001b[0m \u001b[39m            driver.page_source\u001b[39;00m\n\u001b[1;32m    919\u001b[0m \u001b[39m    \"\"\"\u001b[39;00m\n\u001b[0;32m--> 920\u001b[0m     \u001b[39mreturn\u001b[39;00m \u001b[39mself\u001b[39;49m\u001b[39m.\u001b[39;49mexecute(Command\u001b[39m.\u001b[39;49mGET_PAGE_SOURCE)[\u001b[39m'\u001b[39m\u001b[39mvalue\u001b[39m\u001b[39m'\u001b[39m]\n",
      "File \u001b[0;32m~/.local/lib/python3.8/site-packages/selenium/webdriver/remote/webdriver.py:418\u001b[0m, in \u001b[0;36mWebDriver.execute\u001b[0;34m(self, driver_command, params)\u001b[0m\n\u001b[1;32m    416\u001b[0m response \u001b[39m=\u001b[39m \u001b[39mself\u001b[39m\u001b[39m.\u001b[39mcommand_executor\u001b[39m.\u001b[39mexecute(driver_command, params)\n\u001b[1;32m    417\u001b[0m \u001b[39mif\u001b[39;00m response:\n\u001b[0;32m--> 418\u001b[0m     \u001b[39mself\u001b[39;49m\u001b[39m.\u001b[39;49merror_handler\u001b[39m.\u001b[39;49mcheck_response(response)\n\u001b[1;32m    419\u001b[0m     response[\u001b[39m'\u001b[39m\u001b[39mvalue\u001b[39m\u001b[39m'\u001b[39m] \u001b[39m=\u001b[39m \u001b[39mself\u001b[39m\u001b[39m.\u001b[39m_unwrap_value(\n\u001b[1;32m    420\u001b[0m         response\u001b[39m.\u001b[39mget(\u001b[39m'\u001b[39m\u001b[39mvalue\u001b[39m\u001b[39m'\u001b[39m, \u001b[39mNone\u001b[39;00m))\n\u001b[1;32m    421\u001b[0m     \u001b[39mreturn\u001b[39;00m response\n",
      "File \u001b[0;32m~/.local/lib/python3.8/site-packages/selenium/webdriver/remote/errorhandler.py:243\u001b[0m, in \u001b[0;36mErrorHandler.check_response\u001b[0;34m(self, response)\u001b[0m\n\u001b[1;32m    241\u001b[0m         alert_text \u001b[39m=\u001b[39m value[\u001b[39m'\u001b[39m\u001b[39malert\u001b[39m\u001b[39m'\u001b[39m]\u001b[39m.\u001b[39mget(\u001b[39m'\u001b[39m\u001b[39mtext\u001b[39m\u001b[39m'\u001b[39m)\n\u001b[1;32m    242\u001b[0m     \u001b[39mraise\u001b[39;00m exception_class(message, screen, stacktrace, alert_text)  \u001b[39m# type: ignore[call-arg]  # mypy is not smart enough here\u001b[39;00m\n\u001b[0;32m--> 243\u001b[0m \u001b[39mraise\u001b[39;00m exception_class(message, screen, stacktrace)\n",
      "\u001b[0;31mInvalidSessionIdException\u001b[0m: Message: WebDriver session does not exist, or is not active\nStacktrace:\nRemoteError@chrome://remote/content/shared/RemoteError.sys.mjs:8:8\nWebDriverError@chrome://remote/content/shared/webdriver/Errors.sys.mjs:182:5\nInvalidSessionIDError@chrome://remote/content/shared/webdriver/Errors.sys.mjs:353:5\nassert.that/<@chrome://remote/content/shared/webdriver/Assert.sys.mjs:485:13\nassert.session@chrome://remote/content/shared/webdriver/Assert.sys.mjs:37:4\ndespatch@chrome://remote/content/marionette/server.sys.mjs:300:19\nexecute@chrome://remote/content/marionette/server.sys.mjs:276:16\nonPacket/<@chrome://remote/content/marionette/server.sys.mjs:249:20\nonPacket@chrome://remote/content/marionette/server.sys.mjs:250:9\n_onJSONObjectReady/<@chrome://remote/content/marionette/transport.sys.mjs:498:20\n"
     ]
    }
   ],
   "source": [
    "dr = loadSoup(url)"
   ]
  },
  {
   "cell_type": "code",
   "execution_count": null,
   "metadata": {},
   "outputs": [],
   "source": []
  },
  {
   "cell_type": "code",
   "execution_count": 8,
   "metadata": {},
   "outputs": [
    {
     "name": "stdout",
     "output_type": "stream",
     "text": [
      "09-Dec-22 12:21:13|INFO|logger.py:11| ====== WebDriver manager ======\n",
      "09-Dec-22 12:21:13|INFO|logger.py:11| Get LATEST chromedriver version for google-chrome 108.0.5359\n",
      "09-Dec-22 12:21:13|INFO|logger.py:11| Driver [/home/fsgl/.wdm/drivers/chromedriver/linux64/108.0.5359/chromedriver] found in cache\n"
     ]
    },
    {
     "ename": "WebDriverException",
     "evalue": "Message: unknown error: Chrome failed to start: crashed.\n  (unknown error: DevToolsActivePort file doesn't exist)\n  (The process started from chrome location /usr/bin/google-chrome is no longer running, so ChromeDriver is assuming that Chrome has crashed.)\nStacktrace:\n#0 0x7fb640baa2a3 <unknown>\n#1 0x7fb640968f77 <unknown>\n#2 0x7fb6409915f7 <unknown>\n#3 0x7fb64098d7d0 <unknown>\n#4 0x7fb6409ce0b7 <unknown>\n#5 0x7fb6409cda5f <unknown>\n#6 0x7fb6409c5903 <unknown>\n#7 0x7fb640998ece <unknown>\n#8 0x7fb640999fde <unknown>\n#9 0x7fb640bfa63e <unknown>\n#10 0x7fb640bfdb79 <unknown>\n#11 0x7fb640be089e <unknown>\n#12 0x7fb640bfea83 <unknown>\n#13 0x7fb640bd3505 <unknown>\n#14 0x7fb640c1fca8 <unknown>\n#15 0x7fb640c1fe36 <unknown>\n#16 0x7fb640c3b333 <unknown>\n#17 0x7fb6404d6609 <unknown>\n",
     "output_type": "error",
     "traceback": [
      "\u001b[0;31m---------------------------------------------------------------------------\u001b[0m",
      "\u001b[0;31mWebDriverException\u001b[0m                        Traceback (most recent call last)",
      "Cell \u001b[0;32mIn [8], line 5\u001b[0m\n\u001b[1;32m      2\u001b[0m \u001b[39mfrom\u001b[39;00m \u001b[39mselenium\u001b[39;00m\u001b[39m.\u001b[39;00m\u001b[39mwebdriver\u001b[39;00m\u001b[39m.\u001b[39;00m\u001b[39mchrome\u001b[39;00m\u001b[39m.\u001b[39;00m\u001b[39mservice\u001b[39;00m \u001b[39mimport\u001b[39;00m Service \u001b[39mas\u001b[39;00m ChromeService\n\u001b[1;32m      3\u001b[0m \u001b[39mfrom\u001b[39;00m \u001b[39mwebdriver_manager\u001b[39;00m\u001b[39m.\u001b[39;00m\u001b[39mchrome\u001b[39;00m \u001b[39mimport\u001b[39;00m ChromeDriverManager\n\u001b[0;32m----> 5\u001b[0m driver \u001b[39m=\u001b[39m webdriver\u001b[39m.\u001b[39;49mChrome(service\u001b[39m=\u001b[39;49mChromeService(ChromeDriverManager()\u001b[39m.\u001b[39;49minstall()))\n",
      "File \u001b[0;32m~/.local/lib/python3.8/site-packages/selenium/webdriver/chrome/webdriver.py:69\u001b[0m, in \u001b[0;36mWebDriver.__init__\u001b[0;34m(self, executable_path, port, options, service_args, desired_capabilities, service_log_path, chrome_options, service, keep_alive)\u001b[0m\n\u001b[1;32m     66\u001b[0m \u001b[39mif\u001b[39;00m \u001b[39mnot\u001b[39;00m service:\n\u001b[1;32m     67\u001b[0m     service \u001b[39m=\u001b[39m Service(executable_path, port, service_args, service_log_path)\n\u001b[0;32m---> 69\u001b[0m \u001b[39msuper\u001b[39;49m(WebDriver, \u001b[39mself\u001b[39;49m)\u001b[39m.\u001b[39;49m\u001b[39m__init__\u001b[39;49m(DesiredCapabilities\u001b[39m.\u001b[39;49mCHROME[\u001b[39m'\u001b[39;49m\u001b[39mbrowserName\u001b[39;49m\u001b[39m'\u001b[39;49m], \u001b[39m\"\u001b[39;49m\u001b[39mgoog\u001b[39;49m\u001b[39m\"\u001b[39;49m,\n\u001b[1;32m     70\u001b[0m                                 port, options,\n\u001b[1;32m     71\u001b[0m                                 service_args, desired_capabilities,\n\u001b[1;32m     72\u001b[0m                                 service_log_path, service, keep_alive)\n",
      "File \u001b[0;32m~/.local/lib/python3.8/site-packages/selenium/webdriver/chromium/webdriver.py:93\u001b[0m, in \u001b[0;36mChromiumDriver.__init__\u001b[0;34m(self, browser_name, vendor_prefix, port, options, service_args, desired_capabilities, service_log_path, service, keep_alive)\u001b[0m\n\u001b[1;32m     90\u001b[0m \u001b[39mself\u001b[39m\u001b[39m.\u001b[39mservice\u001b[39m.\u001b[39mstart()\n\u001b[1;32m     92\u001b[0m \u001b[39mtry\u001b[39;00m:\n\u001b[0;32m---> 93\u001b[0m     RemoteWebDriver\u001b[39m.\u001b[39;49m\u001b[39m__init__\u001b[39;49m(\n\u001b[1;32m     94\u001b[0m         \u001b[39mself\u001b[39;49m,\n\u001b[1;32m     95\u001b[0m         command_executor\u001b[39m=\u001b[39;49mChromiumRemoteConnection(\n\u001b[1;32m     96\u001b[0m             remote_server_addr\u001b[39m=\u001b[39;49m\u001b[39mself\u001b[39;49m\u001b[39m.\u001b[39;49mservice\u001b[39m.\u001b[39;49mservice_url,\n\u001b[1;32m     97\u001b[0m             browser_name\u001b[39m=\u001b[39;49mbrowser_name, vendor_prefix\u001b[39m=\u001b[39;49mvendor_prefix,\n\u001b[1;32m     98\u001b[0m             keep_alive\u001b[39m=\u001b[39;49mkeep_alive, ignore_proxy\u001b[39m=\u001b[39;49m_ignore_proxy),\n\u001b[1;32m     99\u001b[0m         options\u001b[39m=\u001b[39;49moptions)\n\u001b[1;32m    100\u001b[0m \u001b[39mexcept\u001b[39;00m \u001b[39mException\u001b[39;00m:\n\u001b[1;32m    101\u001b[0m     \u001b[39mself\u001b[39m\u001b[39m.\u001b[39mquit()\n",
      "File \u001b[0;32m~/.local/lib/python3.8/site-packages/selenium/webdriver/remote/webdriver.py:266\u001b[0m, in \u001b[0;36mWebDriver.__init__\u001b[0;34m(self, command_executor, desired_capabilities, browser_profile, proxy, keep_alive, file_detector, options)\u001b[0m\n\u001b[1;32m    264\u001b[0m \u001b[39mself\u001b[39m\u001b[39m.\u001b[39mfile_detector \u001b[39m=\u001b[39m file_detector \u001b[39mor\u001b[39;00m LocalFileDetector()\n\u001b[1;32m    265\u001b[0m \u001b[39mself\u001b[39m\u001b[39m.\u001b[39mstart_client()\n\u001b[0;32m--> 266\u001b[0m \u001b[39mself\u001b[39;49m\u001b[39m.\u001b[39;49mstart_session(capabilities, browser_profile)\n",
      "File \u001b[0;32m~/.local/lib/python3.8/site-packages/selenium/webdriver/remote/webdriver.py:357\u001b[0m, in \u001b[0;36mWebDriver.start_session\u001b[0;34m(self, capabilities, browser_profile)\u001b[0m\n\u001b[1;32m    354\u001b[0m w3c_caps \u001b[39m=\u001b[39m _make_w3c_caps(capabilities)\n\u001b[1;32m    355\u001b[0m parameters \u001b[39m=\u001b[39m {\u001b[39m\"\u001b[39m\u001b[39mcapabilities\u001b[39m\u001b[39m\"\u001b[39m: w3c_caps,\n\u001b[1;32m    356\u001b[0m               \u001b[39m\"\u001b[39m\u001b[39mdesiredCapabilities\u001b[39m\u001b[39m\"\u001b[39m: capabilities}\n\u001b[0;32m--> 357\u001b[0m response \u001b[39m=\u001b[39m \u001b[39mself\u001b[39;49m\u001b[39m.\u001b[39;49mexecute(Command\u001b[39m.\u001b[39;49mNEW_SESSION, parameters)\n\u001b[1;32m    358\u001b[0m \u001b[39mif\u001b[39;00m \u001b[39m'\u001b[39m\u001b[39msessionId\u001b[39m\u001b[39m'\u001b[39m \u001b[39mnot\u001b[39;00m \u001b[39min\u001b[39;00m response:\n\u001b[1;32m    359\u001b[0m     response \u001b[39m=\u001b[39m response[\u001b[39m'\u001b[39m\u001b[39mvalue\u001b[39m\u001b[39m'\u001b[39m]\n",
      "File \u001b[0;32m~/.local/lib/python3.8/site-packages/selenium/webdriver/remote/webdriver.py:418\u001b[0m, in \u001b[0;36mWebDriver.execute\u001b[0;34m(self, driver_command, params)\u001b[0m\n\u001b[1;32m    416\u001b[0m response \u001b[39m=\u001b[39m \u001b[39mself\u001b[39m\u001b[39m.\u001b[39mcommand_executor\u001b[39m.\u001b[39mexecute(driver_command, params)\n\u001b[1;32m    417\u001b[0m \u001b[39mif\u001b[39;00m response:\n\u001b[0;32m--> 418\u001b[0m     \u001b[39mself\u001b[39;49m\u001b[39m.\u001b[39;49merror_handler\u001b[39m.\u001b[39;49mcheck_response(response)\n\u001b[1;32m    419\u001b[0m     response[\u001b[39m'\u001b[39m\u001b[39mvalue\u001b[39m\u001b[39m'\u001b[39m] \u001b[39m=\u001b[39m \u001b[39mself\u001b[39m\u001b[39m.\u001b[39m_unwrap_value(\n\u001b[1;32m    420\u001b[0m         response\u001b[39m.\u001b[39mget(\u001b[39m'\u001b[39m\u001b[39mvalue\u001b[39m\u001b[39m'\u001b[39m, \u001b[39mNone\u001b[39;00m))\n\u001b[1;32m    421\u001b[0m     \u001b[39mreturn\u001b[39;00m response\n",
      "File \u001b[0;32m~/.local/lib/python3.8/site-packages/selenium/webdriver/remote/errorhandler.py:243\u001b[0m, in \u001b[0;36mErrorHandler.check_response\u001b[0;34m(self, response)\u001b[0m\n\u001b[1;32m    241\u001b[0m         alert_text \u001b[39m=\u001b[39m value[\u001b[39m'\u001b[39m\u001b[39malert\u001b[39m\u001b[39m'\u001b[39m]\u001b[39m.\u001b[39mget(\u001b[39m'\u001b[39m\u001b[39mtext\u001b[39m\u001b[39m'\u001b[39m)\n\u001b[1;32m    242\u001b[0m     \u001b[39mraise\u001b[39;00m exception_class(message, screen, stacktrace, alert_text)  \u001b[39m# type: ignore[call-arg]  # mypy is not smart enough here\u001b[39;00m\n\u001b[0;32m--> 243\u001b[0m \u001b[39mraise\u001b[39;00m exception_class(message, screen, stacktrace)\n",
      "\u001b[0;31mWebDriverException\u001b[0m: Message: unknown error: Chrome failed to start: crashed.\n  (unknown error: DevToolsActivePort file doesn't exist)\n  (The process started from chrome location /usr/bin/google-chrome is no longer running, so ChromeDriver is assuming that Chrome has crashed.)\nStacktrace:\n#0 0x7fb640baa2a3 <unknown>\n#1 0x7fb640968f77 <unknown>\n#2 0x7fb6409915f7 <unknown>\n#3 0x7fb64098d7d0 <unknown>\n#4 0x7fb6409ce0b7 <unknown>\n#5 0x7fb6409cda5f <unknown>\n#6 0x7fb6409c5903 <unknown>\n#7 0x7fb640998ece <unknown>\n#8 0x7fb640999fde <unknown>\n#9 0x7fb640bfa63e <unknown>\n#10 0x7fb640bfdb79 <unknown>\n#11 0x7fb640be089e <unknown>\n#12 0x7fb640bfea83 <unknown>\n#13 0x7fb640bd3505 <unknown>\n#14 0x7fb640c1fca8 <unknown>\n#15 0x7fb640c1fe36 <unknown>\n#16 0x7fb640c3b333 <unknown>\n#17 0x7fb6404d6609 <unknown>\n"
     ]
    }
   ],
   "source": [
    "from selenium import webdriver\n",
    "from selenium.webdriver.chrome.service import Service as ChromeService\n",
    "from webdriver_manager.chrome import ChromeDriverManager\n",
    "\n",
    "driver = webdriver.Chrome(service=ChromeService(ChromeDriverManager().install()))"
   ]
  },
  {
   "cell_type": "code",
   "execution_count": 10,
   "metadata": {},
   "outputs": [
    {
     "name": "stderr",
     "output_type": "stream",
     "text": [
      "/tmp/ipykernel_25535/4277746428.py:8: DeprecationWarning: executable_path has been deprecated, please pass in a Service object\n",
      "  d = webdriver.Chrome('/usr/bin//chromedriver',chrome_options=chrome_options)\n",
      "/tmp/ipykernel_25535/4277746428.py:8: DeprecationWarning: use options instead of chrome_options\n",
      "  d = webdriver.Chrome('/usr/bin//chromedriver',chrome_options=chrome_options)\n"
     ]
    },
    {
     "ename": "WebDriverException",
     "evalue": "Message: Service /usr/bin//chromedriver unexpectedly exited. Status code was: 1\n",
     "output_type": "error",
     "traceback": [
      "\u001b[0;31m---------------------------------------------------------------------------\u001b[0m",
      "\u001b[0;31mWebDriverException\u001b[0m                        Traceback (most recent call last)",
      "Cell \u001b[0;32mIn [10], line 8\u001b[0m\n\u001b[1;32m      6\u001b[0m chrome_options\u001b[39m.\u001b[39madd_argument(\u001b[39m'\u001b[39m\u001b[39m--no-sandbox\u001b[39m\u001b[39m'\u001b[39m)\n\u001b[1;32m      7\u001b[0m chrome_options\u001b[39m.\u001b[39madd_argument(\u001b[39m'\u001b[39m\u001b[39m--disable-dev-shm-usage\u001b[39m\u001b[39m'\u001b[39m)\n\u001b[0;32m----> 8\u001b[0m d \u001b[39m=\u001b[39m webdriver\u001b[39m.\u001b[39;49mChrome(\u001b[39m'\u001b[39;49m\u001b[39m/usr/bin//chromedriver\u001b[39;49m\u001b[39m'\u001b[39;49m,chrome_options\u001b[39m=\u001b[39;49mchrome_options)\n\u001b[1;32m      9\u001b[0m d\u001b[39m.\u001b[39mget(\u001b[39m'\u001b[39m\u001b[39mhttps://www.google.nl/\u001b[39m\u001b[39m'\u001b[39m)\n",
      "File \u001b[0;32m~/.local/lib/python3.8/site-packages/selenium/webdriver/chrome/webdriver.py:69\u001b[0m, in \u001b[0;36mWebDriver.__init__\u001b[0;34m(self, executable_path, port, options, service_args, desired_capabilities, service_log_path, chrome_options, service, keep_alive)\u001b[0m\n\u001b[1;32m     66\u001b[0m \u001b[39mif\u001b[39;00m \u001b[39mnot\u001b[39;00m service:\n\u001b[1;32m     67\u001b[0m     service \u001b[39m=\u001b[39m Service(executable_path, port, service_args, service_log_path)\n\u001b[0;32m---> 69\u001b[0m \u001b[39msuper\u001b[39;49m(WebDriver, \u001b[39mself\u001b[39;49m)\u001b[39m.\u001b[39;49m\u001b[39m__init__\u001b[39;49m(DesiredCapabilities\u001b[39m.\u001b[39;49mCHROME[\u001b[39m'\u001b[39;49m\u001b[39mbrowserName\u001b[39;49m\u001b[39m'\u001b[39;49m], \u001b[39m\"\u001b[39;49m\u001b[39mgoog\u001b[39;49m\u001b[39m\"\u001b[39;49m,\n\u001b[1;32m     70\u001b[0m                                 port, options,\n\u001b[1;32m     71\u001b[0m                                 service_args, desired_capabilities,\n\u001b[1;32m     72\u001b[0m                                 service_log_path, service, keep_alive)\n",
      "File \u001b[0;32m~/.local/lib/python3.8/site-packages/selenium/webdriver/chromium/webdriver.py:90\u001b[0m, in \u001b[0;36mChromiumDriver.__init__\u001b[0;34m(self, browser_name, vendor_prefix, port, options, service_args, desired_capabilities, service_log_path, service, keep_alive)\u001b[0m\n\u001b[1;32m     87\u001b[0m     \u001b[39mraise\u001b[39;00m \u001b[39mAttributeError\u001b[39;00m(\u001b[39m'\u001b[39m\u001b[39mservice cannot be None\u001b[39m\u001b[39m'\u001b[39m)\n\u001b[1;32m     89\u001b[0m \u001b[39mself\u001b[39m\u001b[39m.\u001b[39mservice \u001b[39m=\u001b[39m service\n\u001b[0;32m---> 90\u001b[0m \u001b[39mself\u001b[39;49m\u001b[39m.\u001b[39;49mservice\u001b[39m.\u001b[39;49mstart()\n\u001b[1;32m     92\u001b[0m \u001b[39mtry\u001b[39;00m:\n\u001b[1;32m     93\u001b[0m     RemoteWebDriver\u001b[39m.\u001b[39m\u001b[39m__init__\u001b[39m(\n\u001b[1;32m     94\u001b[0m         \u001b[39mself\u001b[39m,\n\u001b[1;32m     95\u001b[0m         command_executor\u001b[39m=\u001b[39mChromiumRemoteConnection(\n\u001b[0;32m   (...)\u001b[0m\n\u001b[1;32m     98\u001b[0m             keep_alive\u001b[39m=\u001b[39mkeep_alive, ignore_proxy\u001b[39m=\u001b[39m_ignore_proxy),\n\u001b[1;32m     99\u001b[0m         options\u001b[39m=\u001b[39moptions)\n",
      "File \u001b[0;32m~/.local/lib/python3.8/site-packages/selenium/webdriver/common/service.py:101\u001b[0m, in \u001b[0;36mService.start\u001b[0;34m(self)\u001b[0m\n\u001b[1;32m     99\u001b[0m count \u001b[39m=\u001b[39m \u001b[39m0\u001b[39m\n\u001b[1;32m    100\u001b[0m \u001b[39mwhile\u001b[39;00m \u001b[39mTrue\u001b[39;00m:\n\u001b[0;32m--> 101\u001b[0m     \u001b[39mself\u001b[39;49m\u001b[39m.\u001b[39;49massert_process_still_running()\n\u001b[1;32m    102\u001b[0m     \u001b[39mif\u001b[39;00m \u001b[39mself\u001b[39m\u001b[39m.\u001b[39mis_connectable():\n\u001b[1;32m    103\u001b[0m         \u001b[39mbreak\u001b[39;00m\n",
      "File \u001b[0;32m~/.local/lib/python3.8/site-packages/selenium/webdriver/common/service.py:113\u001b[0m, in \u001b[0;36mService.assert_process_still_running\u001b[0;34m(self)\u001b[0m\n\u001b[1;32m    111\u001b[0m return_code \u001b[39m=\u001b[39m \u001b[39mself\u001b[39m\u001b[39m.\u001b[39mprocess\u001b[39m.\u001b[39mpoll()\n\u001b[1;32m    112\u001b[0m \u001b[39mif\u001b[39;00m return_code:\n\u001b[0;32m--> 113\u001b[0m     \u001b[39mraise\u001b[39;00m WebDriverException(\n\u001b[1;32m    114\u001b[0m         \u001b[39m'\u001b[39m\u001b[39mService \u001b[39m\u001b[39m%s\u001b[39;00m\u001b[39m unexpectedly exited. Status code was: \u001b[39m\u001b[39m%s\u001b[39;00m\u001b[39m'\u001b[39m\n\u001b[1;32m    115\u001b[0m         \u001b[39m%\u001b[39m (\u001b[39mself\u001b[39m\u001b[39m.\u001b[39mpath, return_code)\n\u001b[1;32m    116\u001b[0m     )\n",
      "\u001b[0;31mWebDriverException\u001b[0m: Message: Service /usr/bin//chromedriver unexpectedly exited. Status code was: 1\n"
     ]
    }
   ],
   "source": [
    "from selenium import webdriver\n",
    "from selenium.webdriver.chrome.options import Options\n",
    "\n",
    "chrome_options = Options()\n",
    "chrome_options.add_argument('--headless')\n",
    "chrome_options.add_argument('--no-sandbox')\n",
    "chrome_options.add_argument('--disable-dev-shm-usage')\n",
    "d = webdriver.Chrome('/usr/bin//chromedriver',chrome_options=chrome_options)\n",
    "d.get('https://www.google.nl/')"
   ]
  },
  {
   "cell_type": "code",
   "execution_count": null,
   "metadata": {},
   "outputs": [],
   "source": []
  }
 ],
 "metadata": {
  "kernelspec": {
   "display_name": "Python 3.8.2 64-bit",
   "language": "python",
   "name": "python3"
  },
  "language_info": {
   "codemirror_mode": {
    "name": "ipython",
    "version": 3
   },
   "file_extension": ".py",
   "mimetype": "text/x-python",
   "name": "python",
   "nbconvert_exporter": "python",
   "pygments_lexer": "ipython3",
   "version": "3.8.2"
  },
  "orig_nbformat": 4,
  "vscode": {
   "interpreter": {
    "hash": "916dbcbb3f70747c44a77c7bcd40155683ae19c65e1c03b4aa3499c5328201f1"
   }
  }
 },
 "nbformat": 4,
 "nbformat_minor": 2
}
