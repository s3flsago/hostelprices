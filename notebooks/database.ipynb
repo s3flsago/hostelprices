{
 "cells": [
  {
   "cell_type": "code",
   "execution_count": 1,
   "id": "91b4f78f",
   "metadata": {},
   "outputs": [],
   "source": [
    "import sys\n",
    "import os\n",
    "import logging\n",
    "\n",
    "msg_format = \"%(asctime)s|%(levelname)s|%(filename)s:%(lineno)d| %(message)s\"\n",
    "date_format = \"%d-%b-%y %H:%M:%S\"\n",
    "logging.basicConfig(level=logging.INFO, format=msg_format, datefmt=date_format, stream=sys.stdout)\n",
    "\n",
    "pwd = os.getcwd()\n",
    "module_path = f\"{pwd}\\..\\src\"\n",
    "sys.path.insert(0, module_path)\n",
    "\n",
    "from datetime import datetime\n",
    "from hostelprices.scrape_web import ScrapeWeb\n",
    "from hostelprices.utils import Utils\n",
    "from hostelprices.database import Database\n",
    "\n",
    "%load_ext autoreload\n",
    "%autoreload 2"
   ]
  },
  {
   "cell_type": "code",
   "execution_count": 2,
   "id": "9187a2a6",
   "metadata": {},
   "outputs": [],
   "source": [
    "client_id = Utils.fromConfig('mongo_client')\n",
    "data_base_name = Utils.fromConfig('data_base_name')\n",
    "collection_name = \"test_coll\"\n",
    "\n",
    "DB = Database(\n",
    "    client_id=client_id, data_base_name=data_base_name, collection_name=collection_name\n",
    "    )"
   ]
  },
  {
   "cell_type": "code",
   "execution_count": 3,
   "id": "4759a684",
   "metadata": {},
   "outputs": [],
   "source": [
    "city_list = ['Lisbon']#, 'Seville']\n",
    "date_from_list = [datetime(2023, 2, 13)]#, datetime(2023, 2, 1)]\n",
    "duration_list = [2]#, 5]\n",
    "max_pages = 1"
   ]
  },
  {
   "cell_type": "code",
   "execution_count": 4,
   "id": "3b2f964c",
   "metadata": {},
   "outputs": [
    {
     "name": "stdout",
     "output_type": "stream",
     "text": [
      "09-Dec-22 15:23:42|ERROR|scrape_web.py:157| Lisbon, 2023-02-13 00:00:00, 2\n",
      "09-Dec-22 15:23:42|INFO|scrape_web.py:166| https://www.hostelworld.com/s?q=Lisbon,%20Portugal&country=Portugal&city=Lisbon&type=city&id=725&from=2023-2-13&to=2023-2-15&guests=1&page=1\n",
      "09-Dec-22 15:23:42|INFO|logger.py:11| ====== WebDriver manager ======\n",
      "09-Dec-22 15:23:44|INFO|logger.py:11| Get LATEST geckodriver version for 107.0 firefox\n"
     ]
    },
    {
     "name": "stderr",
     "output_type": "stream",
     "text": [
      "[WDM] - Downloading: 19.0kB [00:00, 6.44MB/s]                   \n"
     ]
    },
    {
     "name": "stdout",
     "output_type": "stream",
     "text": [
      "09-Dec-22 15:23:46|INFO|logger.py:11| Driver [C:\\Users\\fsgl1\\.wdm\\drivers\\geckodriver\\win64\\0.32\\geckodriver.exe] found in cache\n"
     ]
    }
   ],
   "source": [
    "df_all = ScrapeWeb.loop(\n",
    "    city_list=city_list, date_from_list=date_from_list, duration_list=duration_list, \n",
    "    max_pages=max_pages\n",
    "    )"
   ]
  },
  {
   "cell_type": "code",
   "execution_count": 5,
   "id": "3d795f3a",
   "metadata": {},
   "outputs": [
    {
     "data": {
      "text/html": [
       "<div>\n",
       "<style scoped>\n",
       "    .dataframe tbody tr th:only-of-type {\n",
       "        vertical-align: middle;\n",
       "    }\n",
       "\n",
       "    .dataframe tbody tr th {\n",
       "        vertical-align: top;\n",
       "    }\n",
       "\n",
       "    .dataframe thead th {\n",
       "        text-align: right;\n",
       "    }\n",
       "</style>\n",
       "<table border=\"1\" class=\"dataframe\">\n",
       "  <thead>\n",
       "    <tr style=\"text-align: right;\">\n",
       "      <th></th>\n",
       "      <th>price (EUR)</th>\n",
       "      <th>rating</th>\n",
       "      <th>distance (km)</th>\n",
       "      <th>city</th>\n",
       "      <th>date_from</th>\n",
       "      <th>duration (days)</th>\n",
       "      <th>request_time</th>\n",
       "    </tr>\n",
       "  </thead>\n",
       "  <tbody>\n",
       "    <tr>\n",
       "      <th>3</th>\n",
       "      <td>29.0</td>\n",
       "      <td>9.7</td>\n",
       "      <td>0.5</td>\n",
       "      <td>Lisbon</td>\n",
       "      <td>2023-02-13</td>\n",
       "      <td>2</td>\n",
       "      <td>2022-12-09 15:23:59.553351</td>\n",
       "    </tr>\n",
       "    <tr>\n",
       "      <th>4</th>\n",
       "      <td>24.0</td>\n",
       "      <td>9.7</td>\n",
       "      <td>0.4</td>\n",
       "      <td>Lisbon</td>\n",
       "      <td>2023-02-13</td>\n",
       "      <td>2</td>\n",
       "      <td>2022-12-09 15:23:59.553351</td>\n",
       "    </tr>\n",
       "    <tr>\n",
       "      <th>5</th>\n",
       "      <td>19.0</td>\n",
       "      <td>9.3</td>\n",
       "      <td>1.3</td>\n",
       "      <td>Lisbon</td>\n",
       "      <td>2023-02-13</td>\n",
       "      <td>2</td>\n",
       "      <td>2022-12-09 15:23:59.553351</td>\n",
       "    </tr>\n",
       "    <tr>\n",
       "      <th>6</th>\n",
       "      <td>20.0</td>\n",
       "      <td>9.2</td>\n",
       "      <td>0.5</td>\n",
       "      <td>Lisbon</td>\n",
       "      <td>2023-02-13</td>\n",
       "      <td>2</td>\n",
       "      <td>2022-12-09 15:23:59.553351</td>\n",
       "    </tr>\n",
       "    <tr>\n",
       "      <th>7</th>\n",
       "      <td>25.0</td>\n",
       "      <td>9.7</td>\n",
       "      <td>0.3</td>\n",
       "      <td>Lisbon</td>\n",
       "      <td>2023-02-13</td>\n",
       "      <td>2</td>\n",
       "      <td>2022-12-09 15:23:59.553351</td>\n",
       "    </tr>\n",
       "    <tr>\n",
       "      <th>8</th>\n",
       "      <td>19.0</td>\n",
       "      <td>9.5</td>\n",
       "      <td>1.5</td>\n",
       "      <td>Lisbon</td>\n",
       "      <td>2023-02-13</td>\n",
       "      <td>2</td>\n",
       "      <td>2022-12-09 15:23:59.553351</td>\n",
       "    </tr>\n",
       "    <tr>\n",
       "      <th>9</th>\n",
       "      <td>18.0</td>\n",
       "      <td>9.3</td>\n",
       "      <td>0.8</td>\n",
       "      <td>Lisbon</td>\n",
       "      <td>2023-02-13</td>\n",
       "      <td>2</td>\n",
       "      <td>2022-12-09 15:23:59.553351</td>\n",
       "    </tr>\n",
       "    <tr>\n",
       "      <th>10</th>\n",
       "      <td>19.0</td>\n",
       "      <td>9.0</td>\n",
       "      <td>0.2</td>\n",
       "      <td>Lisbon</td>\n",
       "      <td>2023-02-13</td>\n",
       "      <td>2</td>\n",
       "      <td>2022-12-09 15:23:59.553351</td>\n",
       "    </tr>\n",
       "    <tr>\n",
       "      <th>11</th>\n",
       "      <td>33.0</td>\n",
       "      <td>8.0</td>\n",
       "      <td>0.5</td>\n",
       "      <td>Lisbon</td>\n",
       "      <td>2023-02-13</td>\n",
       "      <td>2</td>\n",
       "      <td>2022-12-09 15:23:59.553351</td>\n",
       "    </tr>\n",
       "    <tr>\n",
       "      <th>12</th>\n",
       "      <td>19.0</td>\n",
       "      <td>9.6</td>\n",
       "      <td>0.2</td>\n",
       "      <td>Lisbon</td>\n",
       "      <td>2023-02-13</td>\n",
       "      <td>2</td>\n",
       "      <td>2022-12-09 15:23:59.553351</td>\n",
       "    </tr>\n",
       "    <tr>\n",
       "      <th>13</th>\n",
       "      <td>19.0</td>\n",
       "      <td>9.5</td>\n",
       "      <td>0.2</td>\n",
       "      <td>Lisbon</td>\n",
       "      <td>2023-02-13</td>\n",
       "      <td>2</td>\n",
       "      <td>2022-12-09 15:23:59.553351</td>\n",
       "    </tr>\n",
       "    <tr>\n",
       "      <th>14</th>\n",
       "      <td>23.0</td>\n",
       "      <td>8.7</td>\n",
       "      <td>1.1</td>\n",
       "      <td>Lisbon</td>\n",
       "      <td>2023-02-13</td>\n",
       "      <td>2</td>\n",
       "      <td>2022-12-09 15:23:59.553351</td>\n",
       "    </tr>\n",
       "    <tr>\n",
       "      <th>15</th>\n",
       "      <td>17.0</td>\n",
       "      <td>8.1</td>\n",
       "      <td>0.8</td>\n",
       "      <td>Lisbon</td>\n",
       "      <td>2023-02-13</td>\n",
       "      <td>2</td>\n",
       "      <td>2022-12-09 15:23:59.553351</td>\n",
       "    </tr>\n",
       "    <tr>\n",
       "      <th>16</th>\n",
       "      <td>100.0</td>\n",
       "      <td>8.9</td>\n",
       "      <td>1.4</td>\n",
       "      <td>Lisbon</td>\n",
       "      <td>2023-02-13</td>\n",
       "      <td>2</td>\n",
       "      <td>2022-12-09 15:23:59.553351</td>\n",
       "    </tr>\n",
       "    <tr>\n",
       "      <th>18</th>\n",
       "      <td>22.0</td>\n",
       "      <td>9.4</td>\n",
       "      <td>0.3</td>\n",
       "      <td>Lisbon</td>\n",
       "      <td>2023-02-13</td>\n",
       "      <td>2</td>\n",
       "      <td>2022-12-09 15:23:59.553351</td>\n",
       "    </tr>\n",
       "    <tr>\n",
       "      <th>19</th>\n",
       "      <td>18.0</td>\n",
       "      <td>8.7</td>\n",
       "      <td>1.0</td>\n",
       "      <td>Lisbon</td>\n",
       "      <td>2023-02-13</td>\n",
       "      <td>2</td>\n",
       "      <td>2022-12-09 15:23:59.553351</td>\n",
       "    </tr>\n",
       "    <tr>\n",
       "      <th>20</th>\n",
       "      <td>45.0</td>\n",
       "      <td>7.8</td>\n",
       "      <td>0.5</td>\n",
       "      <td>Lisbon</td>\n",
       "      <td>2023-02-13</td>\n",
       "      <td>2</td>\n",
       "      <td>2022-12-09 15:23:59.553351</td>\n",
       "    </tr>\n",
       "    <tr>\n",
       "      <th>21</th>\n",
       "      <td>20.0</td>\n",
       "      <td>6.4</td>\n",
       "      <td>1.2</td>\n",
       "      <td>Lisbon</td>\n",
       "      <td>2023-02-13</td>\n",
       "      <td>2</td>\n",
       "      <td>2022-12-09 15:23:59.553351</td>\n",
       "    </tr>\n",
       "    <tr>\n",
       "      <th>22</th>\n",
       "      <td>20.0</td>\n",
       "      <td>9.5</td>\n",
       "      <td>3.6</td>\n",
       "      <td>Lisbon</td>\n",
       "      <td>2023-02-13</td>\n",
       "      <td>2</td>\n",
       "      <td>2022-12-09 15:23:59.553351</td>\n",
       "    </tr>\n",
       "    <tr>\n",
       "      <th>23</th>\n",
       "      <td>18.0</td>\n",
       "      <td>9.3</td>\n",
       "      <td>0.5</td>\n",
       "      <td>Lisbon</td>\n",
       "      <td>2023-02-13</td>\n",
       "      <td>2</td>\n",
       "      <td>2022-12-09 15:23:59.553351</td>\n",
       "    </tr>\n",
       "    <tr>\n",
       "      <th>24</th>\n",
       "      <td>22.0</td>\n",
       "      <td>8.8</td>\n",
       "      <td>0.9</td>\n",
       "      <td>Lisbon</td>\n",
       "      <td>2023-02-13</td>\n",
       "      <td>2</td>\n",
       "      <td>2022-12-09 15:23:59.553351</td>\n",
       "    </tr>\n",
       "    <tr>\n",
       "      <th>25</th>\n",
       "      <td>22.0</td>\n",
       "      <td>9.3</td>\n",
       "      <td>0.4</td>\n",
       "      <td>Lisbon</td>\n",
       "      <td>2023-02-13</td>\n",
       "      <td>2</td>\n",
       "      <td>2022-12-09 15:23:59.553351</td>\n",
       "    </tr>\n",
       "    <tr>\n",
       "      <th>26</th>\n",
       "      <td>14.0</td>\n",
       "      <td>7.8</td>\n",
       "      <td>2.1</td>\n",
       "      <td>Lisbon</td>\n",
       "      <td>2023-02-13</td>\n",
       "      <td>2</td>\n",
       "      <td>2022-12-09 15:23:59.553351</td>\n",
       "    </tr>\n",
       "    <tr>\n",
       "      <th>27</th>\n",
       "      <td>18.0</td>\n",
       "      <td>8.8</td>\n",
       "      <td>0.3</td>\n",
       "      <td>Lisbon</td>\n",
       "      <td>2023-02-13</td>\n",
       "      <td>2</td>\n",
       "      <td>2022-12-09 15:23:59.553351</td>\n",
       "    </tr>\n",
       "    <tr>\n",
       "      <th>28</th>\n",
       "      <td>22.0</td>\n",
       "      <td>9.1</td>\n",
       "      <td>0.5</td>\n",
       "      <td>Lisbon</td>\n",
       "      <td>2023-02-13</td>\n",
       "      <td>2</td>\n",
       "      <td>2022-12-09 15:23:59.553351</td>\n",
       "    </tr>\n",
       "    <tr>\n",
       "      <th>30</th>\n",
       "      <td>24.0</td>\n",
       "      <td>8.2</td>\n",
       "      <td>2.2</td>\n",
       "      <td>Lisbon</td>\n",
       "      <td>2023-02-13</td>\n",
       "      <td>2</td>\n",
       "      <td>2022-12-09 15:23:59.553351</td>\n",
       "    </tr>\n",
       "    <tr>\n",
       "      <th>31</th>\n",
       "      <td>23.0</td>\n",
       "      <td>8.4</td>\n",
       "      <td>0.1</td>\n",
       "      <td>Lisbon</td>\n",
       "      <td>2023-02-13</td>\n",
       "      <td>2</td>\n",
       "      <td>2022-12-09 15:23:59.553351</td>\n",
       "    </tr>\n",
       "    <tr>\n",
       "      <th>32</th>\n",
       "      <td>20.0</td>\n",
       "      <td>8.0</td>\n",
       "      <td>1.2</td>\n",
       "      <td>Lisbon</td>\n",
       "      <td>2023-02-13</td>\n",
       "      <td>2</td>\n",
       "      <td>2022-12-09 15:23:59.553351</td>\n",
       "    </tr>\n",
       "  </tbody>\n",
       "</table>\n",
       "</div>"
      ],
      "text/plain": [
       "    price (EUR)  rating  distance (km)    city  date_from  duration (days)  \\\n",
       "3          29.0     9.7            0.5  Lisbon 2023-02-13                2   \n",
       "4          24.0     9.7            0.4  Lisbon 2023-02-13                2   \n",
       "5          19.0     9.3            1.3  Lisbon 2023-02-13                2   \n",
       "6          20.0     9.2            0.5  Lisbon 2023-02-13                2   \n",
       "7          25.0     9.7            0.3  Lisbon 2023-02-13                2   \n",
       "8          19.0     9.5            1.5  Lisbon 2023-02-13                2   \n",
       "9          18.0     9.3            0.8  Lisbon 2023-02-13                2   \n",
       "10         19.0     9.0            0.2  Lisbon 2023-02-13                2   \n",
       "11         33.0     8.0            0.5  Lisbon 2023-02-13                2   \n",
       "12         19.0     9.6            0.2  Lisbon 2023-02-13                2   \n",
       "13         19.0     9.5            0.2  Lisbon 2023-02-13                2   \n",
       "14         23.0     8.7            1.1  Lisbon 2023-02-13                2   \n",
       "15         17.0     8.1            0.8  Lisbon 2023-02-13                2   \n",
       "16        100.0     8.9            1.4  Lisbon 2023-02-13                2   \n",
       "18         22.0     9.4            0.3  Lisbon 2023-02-13                2   \n",
       "19         18.0     8.7            1.0  Lisbon 2023-02-13                2   \n",
       "20         45.0     7.8            0.5  Lisbon 2023-02-13                2   \n",
       "21         20.0     6.4            1.2  Lisbon 2023-02-13                2   \n",
       "22         20.0     9.5            3.6  Lisbon 2023-02-13                2   \n",
       "23         18.0     9.3            0.5  Lisbon 2023-02-13                2   \n",
       "24         22.0     8.8            0.9  Lisbon 2023-02-13                2   \n",
       "25         22.0     9.3            0.4  Lisbon 2023-02-13                2   \n",
       "26         14.0     7.8            2.1  Lisbon 2023-02-13                2   \n",
       "27         18.0     8.8            0.3  Lisbon 2023-02-13                2   \n",
       "28         22.0     9.1            0.5  Lisbon 2023-02-13                2   \n",
       "30         24.0     8.2            2.2  Lisbon 2023-02-13                2   \n",
       "31         23.0     8.4            0.1  Lisbon 2023-02-13                2   \n",
       "32         20.0     8.0            1.2  Lisbon 2023-02-13                2   \n",
       "\n",
       "                 request_time  \n",
       "3  2022-12-09 15:23:59.553351  \n",
       "4  2022-12-09 15:23:59.553351  \n",
       "5  2022-12-09 15:23:59.553351  \n",
       "6  2022-12-09 15:23:59.553351  \n",
       "7  2022-12-09 15:23:59.553351  \n",
       "8  2022-12-09 15:23:59.553351  \n",
       "9  2022-12-09 15:23:59.553351  \n",
       "10 2022-12-09 15:23:59.553351  \n",
       "11 2022-12-09 15:23:59.553351  \n",
       "12 2022-12-09 15:23:59.553351  \n",
       "13 2022-12-09 15:23:59.553351  \n",
       "14 2022-12-09 15:23:59.553351  \n",
       "15 2022-12-09 15:23:59.553351  \n",
       "16 2022-12-09 15:23:59.553351  \n",
       "18 2022-12-09 15:23:59.553351  \n",
       "19 2022-12-09 15:23:59.553351  \n",
       "20 2022-12-09 15:23:59.553351  \n",
       "21 2022-12-09 15:23:59.553351  \n",
       "22 2022-12-09 15:23:59.553351  \n",
       "23 2022-12-09 15:23:59.553351  \n",
       "24 2022-12-09 15:23:59.553351  \n",
       "25 2022-12-09 15:23:59.553351  \n",
       "26 2022-12-09 15:23:59.553351  \n",
       "27 2022-12-09 15:23:59.553351  \n",
       "28 2022-12-09 15:23:59.553351  \n",
       "30 2022-12-09 15:23:59.553351  \n",
       "31 2022-12-09 15:23:59.553351  \n",
       "32 2022-12-09 15:23:59.553351  "
      ]
     },
     "execution_count": 5,
     "metadata": {},
     "output_type": "execute_result"
    }
   ],
   "source": [
    "df_all"
   ]
  },
  {
   "cell_type": "code",
   "execution_count": 6,
   "id": "483cb391",
   "metadata": {},
   "outputs": [
    {
     "data": {
      "text/plain": [
       "40960"
      ]
     },
     "execution_count": 6,
     "metadata": {},
     "output_type": "execute_result"
    }
   ],
   "source": [
    "DB.totalSize"
   ]
  },
  {
   "cell_type": "code",
   "execution_count": 7,
   "id": "03061ef3",
   "metadata": {},
   "outputs": [
    {
     "data": {
      "text/plain": [
       "<pymongo.results.InsertManyResult at 0x1e7f5853a90>"
      ]
     },
     "execution_count": 7,
     "metadata": {},
     "output_type": "execute_result"
    }
   ],
   "source": [
    "DB.addPandasDf(df_all)"
   ]
  },
  {
   "cell_type": "code",
   "execution_count": 8,
   "id": "81d27b2b",
   "metadata": {},
   "outputs": [],
   "source": [
    "request_dct = {'city': 'Lisbon', 'price (EUR)': 29}\n",
    "df = DB.getPandasDf(request_dct)"
   ]
  },
  {
   "cell_type": "code",
   "execution_count": 10,
   "id": "c0064c42",
   "metadata": {},
   "outputs": [
    {
     "data": {
      "text/plain": [
       "73728"
      ]
     },
     "execution_count": 10,
     "metadata": {},
     "output_type": "execute_result"
    }
   ],
   "source": [
    "DB.totalSize"
   ]
  },
  {
   "cell_type": "code",
   "execution_count": 11,
   "id": "0970f846",
   "metadata": {},
   "outputs": [
    {
     "data": {
      "text/html": [
       "<div>\n",
       "<style scoped>\n",
       "    .dataframe tbody tr th:only-of-type {\n",
       "        vertical-align: middle;\n",
       "    }\n",
       "\n",
       "    .dataframe tbody tr th {\n",
       "        vertical-align: top;\n",
       "    }\n",
       "\n",
       "    .dataframe thead th {\n",
       "        text-align: right;\n",
       "    }\n",
       "</style>\n",
       "<table border=\"1\" class=\"dataframe\">\n",
       "  <thead>\n",
       "    <tr style=\"text-align: right;\">\n",
       "      <th></th>\n",
       "      <th>_id</th>\n",
       "      <th>price (EUR)</th>\n",
       "      <th>rating</th>\n",
       "      <th>distance (km)</th>\n",
       "      <th>city</th>\n",
       "      <th>date_from</th>\n",
       "      <th>duration (days)</th>\n",
       "      <th>request_time</th>\n",
       "    </tr>\n",
       "  </thead>\n",
       "  <tbody>\n",
       "    <tr>\n",
       "      <th>0</th>\n",
       "      <td>6393360a8b2476d437fd36d9</td>\n",
       "      <td>29.0</td>\n",
       "      <td>9.7</td>\n",
       "      <td>0.5</td>\n",
       "      <td>Lisbon</td>\n",
       "      <td>2023-02-13</td>\n",
       "      <td>2</td>\n",
       "      <td>2022-12-09 14:18:33.360</td>\n",
       "    </tr>\n",
       "    <tr>\n",
       "      <th>1</th>\n",
       "      <td>6393450033f4d602f7e7eb23</td>\n",
       "      <td>29.0</td>\n",
       "      <td>9.7</td>\n",
       "      <td>0.5</td>\n",
       "      <td>Lisbon</td>\n",
       "      <td>2023-02-13</td>\n",
       "      <td>2</td>\n",
       "      <td>2022-12-09 15:23:59.553</td>\n",
       "    </tr>\n",
       "  </tbody>\n",
       "</table>\n",
       "</div>"
      ],
      "text/plain": [
       "                        _id  price (EUR)  rating  distance (km)    city  \\\n",
       "0  6393360a8b2476d437fd36d9         29.0     9.7            0.5  Lisbon   \n",
       "1  6393450033f4d602f7e7eb23         29.0     9.7            0.5  Lisbon   \n",
       "\n",
       "   date_from  duration (days)            request_time  \n",
       "0 2023-02-13                2 2022-12-09 14:18:33.360  \n",
       "1 2023-02-13                2 2022-12-09 15:23:59.553  "
      ]
     },
     "execution_count": 11,
     "metadata": {},
     "output_type": "execute_result"
    }
   ],
   "source": [
    "df"
   ]
  },
  {
   "cell_type": "code",
   "execution_count": 12,
   "id": "68f88d45",
   "metadata": {},
   "outputs": [
    {
     "data": {
      "text/plain": [
       "['test_coll']"
      ]
     },
     "execution_count": 12,
     "metadata": {},
     "output_type": "execute_result"
    }
   ],
   "source": [
    "DB.db.list_collection_names()"
   ]
  },
  {
   "cell_type": "code",
   "execution_count": 13,
   "id": "beb1497d",
   "metadata": {},
   "outputs": [
    {
     "data": {
      "text/plain": [
       "{'db': 'HOSTEL_PRICE_DATA',\n",
       " 'collections': 1,\n",
       " 'views': 0,\n",
       " 'objects': 56,\n",
       " 'avgObjSize': 161.0,\n",
       " 'dataSize': 9016,\n",
       " 'storageSize': 36864,\n",
       " 'totalFreeStorageSize': 0,\n",
       " 'numExtents': 0,\n",
       " 'indexes': 1,\n",
       " 'indexSize': 36864,\n",
       " 'indexFreeStorageSize': 0,\n",
       " 'fileSize': 0,\n",
       " 'nsSizeMB': 0,\n",
       " 'ok': 1}"
      ]
     },
     "execution_count": 13,
     "metadata": {},
     "output_type": "execute_result"
    }
   ],
   "source": [
    "DB.db.command(\"dbstats\")"
   ]
  },
  {
   "cell_type": "code",
   "execution_count": 17,
   "id": "f3ae49c8",
   "metadata": {},
   "outputs": [
    {
     "data": {
      "text/plain": [
       "0.073728"
      ]
     },
     "execution_count": 17,
     "metadata": {},
     "output_type": "execute_result"
    }
   ],
   "source": [
    "# DB.clear()\n",
    "DB.totalSize"
   ]
  },
  {
   "cell_type": "code",
   "execution_count": null,
   "id": "c3f2b4f2",
   "metadata": {},
   "outputs": [],
   "source": []
  },
  {
   "cell_type": "code",
   "execution_count": null,
   "id": "daf6f389",
   "metadata": {},
   "outputs": [],
   "source": []
  }
 ],
 "metadata": {
  "jupytext": {
   "main_language": "python"
  },
  "kernelspec": {
   "display_name": "Python 3.9.13 ('py39venv')",
   "language": "python",
   "name": "python3"
  },
  "language_info": {
   "codemirror_mode": {
    "name": "ipython",
    "version": 3
   },
   "file_extension": ".py",
   "mimetype": "text/x-python",
   "name": "python",
   "nbconvert_exporter": "python",
   "pygments_lexer": "ipython3",
   "version": "3.9.13 | packaged by conda-forge | (main, May 27 2022, 16:50:36) [MSC v.1929 64 bit (AMD64)]"
  },
  "vscode": {
   "interpreter": {
    "hash": "588a7288a3c1f767cb4f3433b32ea6cbbe3dc77fd72aa9718dfb9b454ded2122"
   }
  }
 },
 "nbformat": 4,
 "nbformat_minor": 5
}
