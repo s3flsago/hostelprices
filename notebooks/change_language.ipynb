{
 "cells": [
  {
   "cell_type": "code",
   "execution_count": 1,
   "metadata": {},
   "outputs": [],
   "source": [
    "import sys\n",
    "import os\n",
    "import logging\n",
    "\n",
    "msg_format = \"%(asctime)s|%(levelname)s|%(filename)s:%(lineno)d| %(message)s\"\n",
    "date_format = \"%d-%b-%y %H:%M:%S\"\n",
    "logging.basicConfig(level=logging.INFO, format=msg_format, datefmt=date_format, stream=sys.stdout)\n",
    "\n",
    "pwd = os.getcwd()\n",
    "module_path = f\"{pwd}\\..\\src\"\n",
    "sys.path.insert(0, module_path)\n",
    "\n",
    "from datetime import datetime, timedelta\n",
    "import seaborn as sns\n",
    "import matplotlib.pyplot as plt\n",
    "\n",
    "from hostelprices.scrape_web import ScrapeWeb\n",
    "from hostelprices.utils import Utils\n",
    "\n",
    "%load_ext autoreload\n",
    "%autoreload 2"
   ]
  },
  {
   "cell_type": "code",
   "execution_count": 2,
   "metadata": {},
   "outputs": [
    {
     "name": "stdout",
     "output_type": "stream",
     "text": [
      "0.948316737790422\n"
     ]
    }
   ],
   "source": [
    "from forex_python.converter import CurrencyRates\n",
    "\n",
    "c = CurrencyRates()\n",
    "\n",
    "print(c.get_rate('USD', 'EUR'))"
   ]
  },
  {
   "cell_type": "code",
   "execution_count": 4,
   "metadata": {},
   "outputs": [
    {
     "data": {
      "text/plain": [
       "'main_coll-12_14_2022-14_36'"
      ]
     },
     "execution_count": 4,
     "metadata": {},
     "output_type": "execute_result"
    }
   ],
   "source": [
    "f'main_coll-{Utils.fileString(datetime.now())}'"
   ]
  },
  {
   "cell_type": "code",
   "execution_count": 1,
   "metadata": {},
   "outputs": [],
   "source": [
    "import git"
   ]
  },
  {
   "cell_type": "code",
   "execution_count": 4,
   "metadata": {},
   "outputs": [
    {
     "data": {
      "text/plain": [
       "'dev'"
      ]
     },
     "execution_count": 4,
     "metadata": {},
     "output_type": "execute_result"
    }
   ],
   "source": [
    "git.Repo(\".\", search_parent_directories=True).active_branch.name"
   ]
  },
  {
   "cell_type": "code",
   "execution_count": 2,
   "metadata": {},
   "outputs": [
    {
     "data": {
      "text/plain": [
       "['From', '28', '33']"
      ]
     },
     "execution_count": 2,
     "metadata": {},
     "output_type": "execute_result"
    }
   ],
   "source": [
    "string = 'FromUS$28US$33'\n",
    "string.split('US$')"
   ]
  },
  {
   "cell_type": "code",
   "execution_count": null,
   "metadata": {},
   "outputs": [],
   "source": []
  }
 ],
 "metadata": {
  "kernelspec": {
   "display_name": "py39venv",
   "language": "python",
   "name": "python3"
  },
  "language_info": {
   "codemirror_mode": {
    "name": "ipython",
    "version": 3
   },
   "file_extension": ".py",
   "mimetype": "text/x-python",
   "name": "python",
   "nbconvert_exporter": "python",
   "pygments_lexer": "ipython3",
   "version": "3.9.13"
  },
  "orig_nbformat": 4,
  "vscode": {
   "interpreter": {
    "hash": "588a7288a3c1f767cb4f3433b32ea6cbbe3dc77fd72aa9718dfb9b454ded2122"
   }
  }
 },
 "nbformat": 4,
 "nbformat_minor": 2
}
