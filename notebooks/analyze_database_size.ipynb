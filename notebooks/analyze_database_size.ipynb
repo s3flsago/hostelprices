{
 "cells": [
  {
   "cell_type": "code",
   "execution_count": 7,
   "metadata": {},
   "outputs": [
    {
     "name": "stdout",
     "output_type": "stream",
     "text": [
      "The autoreload extension is already loaded. To reload it, use:\n",
      "  %reload_ext autoreload\n"
     ]
    }
   ],
   "source": [
    "import sys\n",
    "import os\n",
    "import logging\n",
    "\n",
    "import pandas as pd\n",
    "\n",
    "msg_format = \"%(asctime)s|%(levelname)s|%(filename)s:%(lineno)d| %(message)s\"\n",
    "date_format = \"%d-%b-%y %H:%M:%S\"\n",
    "logging.basicConfig(level=logging.INFO, format=msg_format, datefmt=date_format, stream=sys.stdout)\n",
    "\n",
    "pwd = os.getcwd()\n",
    "module_path = f\"{pwd}\\..\\src\"\n",
    "sys.path.insert(0, module_path)\n",
    "\n",
    "from datetime import datetime\n",
    "from hostelprices.scrape_web import ScrapeWeb\n",
    "from hostelprices.utils import Utils\n",
    "from hostelprices.database import Database\n",
    "\n",
    "%load_ext autoreload\n",
    "%autoreload 2"
   ]
  },
  {
   "cell_type": "code",
   "execution_count": 63,
   "metadata": {},
   "outputs": [],
   "source": [
    "client_id = Utils.fromConfig('mongo_client')\n",
    "data_base_name = Utils.fromConfig('data_base_name')\n",
    "\n",
    "\n",
    "DB = Database(\n",
    "    client_id=client_id, data_base_name=data_base_name\n",
    "    )"
   ]
  },
  {
   "cell_type": "code",
   "execution_count": 64,
   "metadata": {},
   "outputs": [
    {
     "data": {
      "text/plain": [
       "4.165632"
      ]
     },
     "execution_count": 64,
     "metadata": {},
     "output_type": "execute_result"
    }
   ],
   "source": [
    "DB.totalSize"
   ]
  },
  {
   "cell_type": "code",
   "execution_count": 65,
   "metadata": {},
   "outputs": [
    {
     "data": {
      "text/plain": [
       "{'db': 'HOSTEL_PRICE_DATA',\n",
       " 'collections': 90,\n",
       " 'views': 0,\n",
       " 'objects': 10581,\n",
       " 'avgObjSize': 161.31669974482563,\n",
       " 'dataSize': 1706892,\n",
       " 'storageSize': 2084864,\n",
       " 'totalFreeStorageSize': 0,\n",
       " 'numExtents': 0,\n",
       " 'indexes': 90,\n",
       " 'indexSize': 2080768,\n",
       " 'indexFreeStorageSize': 0,\n",
       " 'fileSize': 0,\n",
       " 'nsSizeMB': 0,\n",
       " 'ok': 1}"
      ]
     },
     "execution_count": 65,
     "metadata": {},
     "output_type": "execute_result"
    }
   ],
   "source": [
    "DB.db.command('dbstats')"
   ]
  },
  {
   "cell_type": "code",
   "execution_count": 76,
   "metadata": {},
   "outputs": [
    {
     "data": {
      "text/plain": [
       "320"
      ]
     },
     "execution_count": 76,
     "metadata": {},
     "output_type": "execute_result"
    }
   ],
   "source": [
    "def storageUse(\n",
    "    n_cities, n_dates, n_durations, n_pages, n_querys, n_running_days, hostels_per_page, \n",
    "    bytes_per_instance\n",
    "    ):\n",
    "    storage_space = n_cities * n_dates * n_durations * n_pages * n_querys * n_running_days * \\\n",
    "        hostels_per_page * bytes_per_instance\n",
    "    return storage_space\n",
    "\n",
    "disk_space = storageUse(2,2,2,2,20,1,1,1)#,90,30,160)\n",
    "disk_space #* (10**(-6))"
   ]
  },
  {
   "cell_type": "code",
   "execution_count": 69,
   "metadata": {},
   "outputs": [
    {
     "data": {
      "text/plain": [
       "731.4285714285714"
      ]
     },
     "execution_count": 69,
     "metadata": {},
     "output_type": "execute_result"
    }
   ],
   "source": [
    "20480/28"
   ]
  },
  {
   "cell_type": "code",
   "execution_count": 67,
   "metadata": {},
   "outputs": [
    {
     "data": {
      "text/plain": [
       "{'ns': 'HOSTEL_PRICE_DATA.main_coll-dev-12_14_2022-15_07',\n",
       " 'size': 4508,\n",
       " 'count': 28,\n",
       " 'avgObjSize': 161,\n",
       " 'storageSize': 20480,\n",
       " 'freeStorageSize': 0,\n",
       " 'capped': False,\n",
       " 'nindexes': 1,\n",
       " 'indexDetails': {'_id_': {'metadata': {'formatVersion': 8},\n",
       "   'creationString': 'access_pattern_hint=none,allocation_size=4KB,app_metadata=(formatVersion=8),assert=(commit_timestamp=none,durable_timestamp=none,read_timestamp=none,write_timestamp=off),block_allocation=best,block_compressor=,cache_resident=false,checksum=on,colgroups=,collator=,columns=,dictionary=0,encryption=(keyid=,name=),exclusive=false,extractor=,format=btree,huffman_key=,huffman_value=,ignore_in_memory_cache_size=false,immutable=false,import=(enabled=false,file_metadata=,repair=false),internal_item_max=0,internal_key_max=0,internal_key_truncate=true,internal_page_max=16k,key_format=u,key_gap=10,leaf_item_max=0,leaf_key_max=0,leaf_page_max=16k,leaf_value_max=0,log=(enabled=false),lsm=(auto_throttle=true,bloom=true,bloom_bit_count=16,bloom_config=,bloom_hash_count=8,bloom_oldest=false,chunk_count_limit=0,chunk_max=5GB,chunk_size=10MB,merge_custom=(prefix=,start_generation=0,suffix=),merge_max=15,merge_min=0),memory_page_image_max=0,memory_page_max=5MB,os_cache_dirty_max=0,os_cache_max=0,prefix_compression=true,prefix_compression_min=4,readonly=false,source=,split_deepen_min_child=0,split_deepen_per_child=0,split_pct=90,tiered_object=false,tiered_storage=(auth_token=,bucket=,bucket_prefix=,cache_directory=,local_retention=300,name=,object_target_size=0),type=file,value_format=u,verbose=[],write_timestamp_usage=none',\n",
       "   'type': 'file',\n",
       "   'uri': 'statistics:table:index-288-884029323632455250',\n",
       "   'LSM': {'bloom filter false positives': 0,\n",
       "    'bloom filter hits': 0,\n",
       "    'bloom filter misses': 0,\n",
       "    'bloom filter pages evicted from cache': 0,\n",
       "    'bloom filter pages read into cache': 0,\n",
       "    'bloom filters in the LSM tree': 0,\n",
       "    'chunks in the LSM tree': 0,\n",
       "    'highest merge generation in the LSM tree': 0,\n",
       "    'queries that could have benefited from a Bloom filter that did not exist': 0,\n",
       "    'sleep for LSM checkpoint throttle': 0,\n",
       "    'sleep for LSM merge throttle': 0,\n",
       "    'total size of bloom filters': 0},\n",
       "   'block-manager': {'allocations requiring file extension': 0,\n",
       "    'blocks allocated': 0,\n",
       "    'blocks freed': 0,\n",
       "    'checkpoint size': 4096,\n",
       "    'file allocation unit size': 4096,\n",
       "    'file bytes available for reuse': 0,\n",
       "    'file magic number': 120897,\n",
       "    'file major version number': 1,\n",
       "    'file size in bytes': 20480,\n",
       "    'minor version number': 0},\n",
       "   'btree': {'btree checkpoint generation': 1476,\n",
       "    'btree clean tree checkpoint expiration time': 9223372036854775807,\n",
       "    'btree compact pages reviewed': 0,\n",
       "    'btree compact pages rewritten': 0,\n",
       "    'btree compact pages skipped': 0,\n",
       "    'btree skipped by compaction as process would not reduce size': 0,\n",
       "    'column-store fixed-size leaf pages': 0,\n",
       "    'column-store internal pages': 0,\n",
       "    'column-store variable-size RLE encoded values': 0,\n",
       "    'column-store variable-size deleted values': 0,\n",
       "    'column-store variable-size leaf pages': 0,\n",
       "    'fixed-record size': 0,\n",
       "    'maximum internal page size': 16384,\n",
       "    'maximum leaf page key size': 1474,\n",
       "    'maximum leaf page size': 16384,\n",
       "    'maximum leaf page value size': 7372,\n",
       "    'maximum tree depth': 3,\n",
       "    'number of key/value pairs': 0,\n",
       "    'overflow pages': 0,\n",
       "    'row-store empty values': 0,\n",
       "    'row-store internal pages': 0,\n",
       "    'row-store leaf pages': 0},\n",
       "   'cache': {'bytes currently in the cache': 1331,\n",
       "    'bytes dirty in the cache cumulative': 0,\n",
       "    'bytes read into cache': 761,\n",
       "    'bytes written from cache': 0,\n",
       "    'checkpoint blocked page eviction': 0,\n",
       "    'checkpoint of history store file blocked non-history store page eviction': 0,\n",
       "    'data source pages selected for eviction unable to be evicted': 0,\n",
       "    'eviction gave up due to detecting an out of order on disk value behind the last update on the chain': 0,\n",
       "    'eviction gave up due to detecting an out of order tombstone ahead of the selected on disk update': 0,\n",
       "    'eviction gave up due to detecting an out of order tombstone ahead of the selected on disk update after validating the update chain': 0,\n",
       "    'eviction gave up due to detecting out of order timestamps on the update chain after the selected on disk update': 0,\n",
       "    'eviction walk passes of a file': 0,\n",
       "    'eviction walk target pages histogram - 0-9': 0,\n",
       "    'eviction walk target pages histogram - 10-31': 0,\n",
       "    'eviction walk target pages histogram - 128 and higher': 0,\n",
       "    'eviction walk target pages histogram - 32-63': 0,\n",
       "    'eviction walk target pages histogram - 64-128': 0,\n",
       "    'eviction walk target pages reduced due to history store cache pressure': 0,\n",
       "    'eviction walks abandoned': 0,\n",
       "    'eviction walks gave up because they restarted their walk twice': 0,\n",
       "    'eviction walks gave up because they saw too many pages and found no candidates': 0,\n",
       "    'eviction walks gave up because they saw too many pages and found too few candidates': 0,\n",
       "    'eviction walks reached end of tree': 0,\n",
       "    'eviction walks restarted': 0,\n",
       "    'eviction walks started from root of tree': 0,\n",
       "    'eviction walks started from saved location in tree': 0,\n",
       "    'hazard pointer blocked page eviction': 0,\n",
       "    'history store table insert calls': 0,\n",
       "    'history store table insert calls that returned restart': 0,\n",
       "    'history store table out-of-order resolved updates that lose their durable timestamp': 0,\n",
       "    'history store table out-of-order updates that were fixed up by reinserting with the fixed timestamp': 0,\n",
       "    'history store table reads': 0,\n",
       "    'history store table reads missed': 0,\n",
       "    'history store table reads requiring squashed modifies': 0,\n",
       "    'history store table truncation by rollback to stable to remove an unstable update': 0,\n",
       "    'history store table truncation by rollback to stable to remove an update': 0,\n",
       "    'history store table truncation to remove an update': 0,\n",
       "    'history store table truncation to remove range of updates due to key being removed from the data page during reconciliation': 0,\n",
       "    'history store table truncation to remove range of updates due to out-of-order timestamp update on data page': 0,\n",
       "    'history store table writes requiring squashed modifies': 0,\n",
       "    'in-memory page passed criteria to be split': 0,\n",
       "    'in-memory page splits': 0,\n",
       "    'internal pages evicted': 0,\n",
       "    'internal pages split during eviction': 0,\n",
       "    'leaf pages split during eviction': 0,\n",
       "    'modified pages evicted': 0,\n",
       "    'overflow pages read into cache': 0,\n",
       "    'page split during eviction deepened the tree': 0,\n",
       "    'page written requiring history store records': 0,\n",
       "    'pages read into cache': 2,\n",
       "    'pages read into cache after truncate': 0,\n",
       "    'pages read into cache after truncate in prepare state': 0,\n",
       "    'pages requested from the cache': 1,\n",
       "    'pages seen by eviction walk': 0,\n",
       "    'pages written from cache': 0,\n",
       "    'pages written requiring in-memory restoration': 0,\n",
       "    'the number of times full update inserted to history store': 0,\n",
       "    'the number of times reverse modify inserted to history store': 0,\n",
       "    'tracked dirty bytes in the cache': 0,\n",
       "    'unmodified pages evicted': 0},\n",
       "   'cache_walk': {'Average difference between current eviction generation when the page was last considered': 0,\n",
       "    'Average on-disk page image size seen': 0,\n",
       "    'Average time in cache for pages that have been visited by the eviction server': 0,\n",
       "    'Average time in cache for pages that have not been visited by the eviction server': 0,\n",
       "    'Clean pages currently in cache': 0,\n",
       "    'Current eviction generation': 0,\n",
       "    'Dirty pages currently in cache': 0,\n",
       "    'Entries in the root page': 0,\n",
       "    'Internal pages currently in cache': 0,\n",
       "    'Leaf pages currently in cache': 0,\n",
       "    'Maximum difference between current eviction generation when the page was last considered': 0,\n",
       "    'Maximum page size seen': 0,\n",
       "    'Minimum on-disk page image size seen': 0,\n",
       "    'Number of pages never visited by eviction server': 0,\n",
       "    'On-disk page image sizes smaller than a single allocation unit': 0,\n",
       "    'Pages created in memory and never written': 0,\n",
       "    'Pages currently queued for eviction': 0,\n",
       "    'Pages that could not be queued for eviction': 0,\n",
       "    'Refs skipped during cache traversal': 0,\n",
       "    'Size of the root page': 0,\n",
       "    'Total number of pages currently in cache': 0},\n",
       "   'checkpoint-cleanup': {'pages added for eviction': 0,\n",
       "    'pages removed': 0,\n",
       "    'pages skipped during tree walk': 0,\n",
       "    'pages visited': 0},\n",
       "   'compression': {'compressed page maximum internal page size prior to compression': 16384,\n",
       "    'compressed page maximum leaf page size prior to compression ': 16384,\n",
       "    'compressed pages read': 0,\n",
       "    'compressed pages written': 0,\n",
       "    'number of blocks with compress ratio greater than 64': 0,\n",
       "    'number of blocks with compress ratio smaller than 16': 0,\n",
       "    'number of blocks with compress ratio smaller than 2': 0,\n",
       "    'number of blocks with compress ratio smaller than 32': 0,\n",
       "    'number of blocks with compress ratio smaller than 4': 0,\n",
       "    'number of blocks with compress ratio smaller than 64': 0,\n",
       "    'number of blocks with compress ratio smaller than 8': 0,\n",
       "    'page written failed to compress': 0,\n",
       "    'page written was too small to compress': 0},\n",
       "   'cursor': {'Total number of entries skipped by cursor next calls': 0,\n",
       "    'Total number of entries skipped by cursor prev calls': 0,\n",
       "    'Total number of entries skipped to position the history store cursor': 0,\n",
       "    'Total number of times a search near has exited due to prefix config': 0,\n",
       "    'bulk loaded cursor insert calls': 0,\n",
       "    'cache cursors reuse count': 0,\n",
       "    'close calls that result in cache': 1,\n",
       "    'create calls': 1,\n",
       "    'cursor next calls that skip due to a globally visible history store tombstone': 0,\n",
       "    'cursor next calls that skip greater than or equal to 100 entries': 0,\n",
       "    'cursor next calls that skip less than 100 entries': 0,\n",
       "    'cursor prev calls that skip due to a globally visible history store tombstone': 0,\n",
       "    'cursor prev calls that skip greater than or equal to 100 entries': 0,\n",
       "    'cursor prev calls that skip less than 100 entries': 20,\n",
       "    'insert calls': 0,\n",
       "    'insert key and value bytes': 0,\n",
       "    'modify': 0,\n",
       "    'modify key and value bytes affected': 0,\n",
       "    'modify value bytes modified': 0,\n",
       "    'next calls': 0,\n",
       "    'open cursor count': 0,\n",
       "    'operation restarted': 0,\n",
       "    'prev calls': 20,\n",
       "    'remove calls': 0,\n",
       "    'remove key bytes removed': 0,\n",
       "    'reserve calls': 0,\n",
       "    'reset calls': 2,\n",
       "    'search calls': 0,\n",
       "    'search history store calls': 0,\n",
       "    'search near calls': 1,\n",
       "    'truncate calls': 0,\n",
       "    'update calls': 0,\n",
       "    'update key and value bytes': 0,\n",
       "    'update value size change': 0},\n",
       "   'reconciliation': {'approximate byte size of timestamps in pages written': 0,\n",
       "    'approximate byte size of transaction IDs in pages written': 0,\n",
       "    'dictionary matches': 0,\n",
       "    'fast-path pages deleted': 0,\n",
       "    'internal page key bytes discarded using suffix compression': 0,\n",
       "    'internal page multi-block writes': 0,\n",
       "    'leaf page key bytes discarded using prefix compression': 0,\n",
       "    'leaf page multi-block writes': 0,\n",
       "    'leaf-page overflow keys': 0,\n",
       "    'maximum blocks required for a page': 0,\n",
       "    'overflow values written': 0,\n",
       "    'page checksum matches': 0,\n",
       "    'page reconciliation calls': 0,\n",
       "    'page reconciliation calls for eviction': 0,\n",
       "    'pages deleted': 0,\n",
       "    'pages written including an aggregated newest start durable timestamp ': 0,\n",
       "    'pages written including an aggregated newest stop durable timestamp ': 0,\n",
       "    'pages written including an aggregated newest stop timestamp ': 0,\n",
       "    'pages written including an aggregated newest stop transaction ID': 0,\n",
       "    'pages written including an aggregated newest transaction ID ': 0,\n",
       "    'pages written including an aggregated oldest start timestamp ': 0,\n",
       "    'pages written including an aggregated prepare': 0,\n",
       "    'pages written including at least one prepare': 0,\n",
       "    'pages written including at least one start durable timestamp': 0,\n",
       "    'pages written including at least one start timestamp': 0,\n",
       "    'pages written including at least one start transaction ID': 0,\n",
       "    'pages written including at least one stop durable timestamp': 0,\n",
       "    'pages written including at least one stop timestamp': 0,\n",
       "    'pages written including at least one stop transaction ID': 0,\n",
       "    'records written including a prepare': 0,\n",
       "    'records written including a start durable timestamp': 0,\n",
       "    'records written including a start timestamp': 0,\n",
       "    'records written including a start transaction ID': 0,\n",
       "    'records written including a stop durable timestamp': 0,\n",
       "    'records written including a stop timestamp': 0,\n",
       "    'records written including a stop transaction ID': 0},\n",
       "   'session': {'object compaction': 0,\n",
       "    'tiered operations dequeued and processed': 0,\n",
       "    'tiered operations scheduled': 0,\n",
       "    'tiered storage local retention time (secs)': 0},\n",
       "   'transaction': {'race to read prepared update retry': 0,\n",
       "    'rollback to stable history store records with stop timestamps older than newer records': 0,\n",
       "    'rollback to stable inconsistent checkpoint': 0,\n",
       "    'rollback to stable keys removed': 0,\n",
       "    'rollback to stable keys restored': 0,\n",
       "    'rollback to stable restored tombstones from history store': 0,\n",
       "    'rollback to stable restored updates from history store': 0,\n",
       "    'rollback to stable skipping delete rle': 0,\n",
       "    'rollback to stable skipping stable rle': 0,\n",
       "    'rollback to stable sweeping history store keys': 0,\n",
       "    'rollback to stable updates removed from history store': 0,\n",
       "    'transaction checkpoints due to obsolete pages': 0,\n",
       "    'update conflicts': 0}}},\n",
       " 'indexBuilds': [],\n",
       " 'totalIndexSize': 20480,\n",
       " 'totalSize': 40960,\n",
       " 'indexSizes': {'_id_': 20480},\n",
       " 'scaleFactor': 1,\n",
       " 'ok': 1.0,\n",
       " '$clusterTime': {'clusterTime': Timestamp(1672240439, 18),\n",
       "  'signature': {'hash': b'\\x84\\x02\\xd1>{\\xd9\\x16[\\xf0.\\xb3\\x86\\x85`\\x7f\\xd4\\x8esK\\x18',\n",
       "   'keyId': 7137406751623610373}},\n",
       " 'operationTime': Timestamp(1672240439, 18)}"
      ]
     },
     "execution_count": 67,
     "metadata": {},
     "output_type": "execute_result"
    }
   ],
   "source": [
    "DB.db.command(\"collstats\", \"main_coll-dev-12_14_2022-15_07\")"
   ]
  },
  {
   "cell_type": "code",
   "execution_count": null,
   "metadata": {},
   "outputs": [],
   "source": []
  }
 ],
 "metadata": {
  "kernelspec": {
   "display_name": "py39venv",
   "language": "python",
   "name": "python3"
  },
  "language_info": {
   "codemirror_mode": {
    "name": "ipython",
    "version": 3
   },
   "file_extension": ".py",
   "mimetype": "text/x-python",
   "name": "python",
   "nbconvert_exporter": "python",
   "pygments_lexer": "ipython3",
   "version": "3.9.13 | packaged by conda-forge | (main, May 27 2022, 16:50:36) [MSC v.1929 64 bit (AMD64)]"
  },
  "orig_nbformat": 4,
  "vscode": {
   "interpreter": {
    "hash": "588a7288a3c1f767cb4f3433b32ea6cbbe3dc77fd72aa9718dfb9b454ded2122"
   }
  }
 },
 "nbformat": 4,
 "nbformat_minor": 2
}
